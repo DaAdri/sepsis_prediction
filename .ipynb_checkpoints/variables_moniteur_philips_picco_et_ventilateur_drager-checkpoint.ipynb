{
 "cells": [
  {
   "cell_type": "code",
   "execution_count": 1,
   "id": "260f2e0c",
   "metadata": {},
   "outputs": [
    {
     "data": {
      "text/plain": [
       "['Dispositifs Courbes',\n",
       " 'Moniteurs Philips',\n",
       " 'Moniteur PICCO 2',\n",
       " 'Respirateurs V500&V800']"
      ]
     },
     "execution_count": 1,
     "metadata": {},
     "output_type": "execute_result"
    }
   ],
   "source": [
    "import pandas as pd\n",
    "\n",
    "# Load the Excel file to see the content\n",
    "file_path = r\"D:\\stage\\data\\Detail_Courbes et Dispositifs_CH Saint Denis_20211001.xlsx\"\n",
    "excel_data = pd.ExcelFile(file_path)\n",
    "\n",
    "# Get the names of all the sheets in the Excel file\n",
    "sheet_names = excel_data.sheet_names\n",
    "sheet_names"
   ]
  },
  {
   "cell_type": "code",
   "execution_count": null,
   "id": "4c9bc711",
   "metadata": {},
   "outputs": [],
   "source": [
    "# Récupérer les 3 feuilles  de calculs :  'Moniteurs Philips', 'Moniteur PICCO 2','Respirateurs V500&V800'\n",
    "# On récupère chaque feuille dans un dataframe distinct\n",
    "\n",
    "data_philips = pd.read_excel()"
   ]
  }
 ],
 "metadata": {
  "kernelspec": {
   "display_name": "Python 3 (ipykernel)",
   "language": "python",
   "name": "python3"
  },
  "language_info": {
   "codemirror_mode": {
    "name": "ipython",
    "version": 3
   },
   "file_extension": ".py",
   "mimetype": "text/x-python",
   "name": "python",
   "nbconvert_exporter": "python",
   "pygments_lexer": "ipython3",
   "version": "3.11.5"
  }
 },
 "nbformat": 4,
 "nbformat_minor": 5
}
