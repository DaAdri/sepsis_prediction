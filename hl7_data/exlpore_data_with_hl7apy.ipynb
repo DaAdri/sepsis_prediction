{
 "cells": [
  {
   "cell_type": "code",
   "execution_count": 1,
   "id": "1acf4e24",
   "metadata": {},
   "outputs": [
    {
     "name": "stdout",
     "output_type": "stream",
     "text": [
      "     <Segment MSH>\n",
      "              <Field MSH_1 (FIELD_SEPARATOR) of type ST> |\n",
      "              <Field MSH_2 (ENCODING_CHARACTERS) of type ST> ^~\\&\n",
      "              <Field MSH_3 (SENDING_APPLICATION) of type ST> GLIMS\n",
      "              <Field MSH_4 (SENDING_FACILITY) of type ST> carevue_hl7\n",
      "              <Field MSH_5 (RECEIVING_APPLICATION) of type ST> 4041\n",
      "              <Field MSH_6 (RECEIVING_FACILITY) of type ST> carevue_hl7\n",
      "              <Field MSH_7 (DATE_TIME_OF_MESSAGE) of type TS> 20240416151505\n",
      "              <Field MSH_9 (MESSAGE_TYPE) of type CM_MSG> ORU^R01\n",
      "              <Field MSH_10 (MESSAGE_CONTROL_ID) of type ST> 47525\n",
      "              <Field MSH_11 (PROCESSING_ID) of type ID> P\n",
      "              <Field MSH_12 (VERSION_ID) of type NM> 2.1\n",
      "              <Field of type None> AL\n",
      "              <Field of type None> NE\n",
      "     <Group ORU_R01_PATIENT>\n",
      "          <Segment PID>\n",
      "              <Field PID_1 (SET_ID_PATIENT_ID) of type SI> 1\n",
      "              <Field PID_3 (PATIENT_ID_INTERNAL_ID) of type CK> 308481695^^^I_STDENIS\n",
      "              <Field PID_5 (PATIENT_NAME) of type PN> INCONNU DU TRENTE ET UN^MARS DEUX MILLE VNGT QUATRE^MARS DEUX MILLE VNGT QUATRE^^^M.\n",
      "              <Field PID_7 (DATE_OF_BIRTH) of type DT> 19640331\n",
      "              <Field PID_8 (SEX) of type ID> M\n",
      "              <Field of type None> N\n",
      "              <Field of type None> N\n",
      "          <Segment PV1>\n",
      "              <Field PV1_1 (SET_ID_PATIENT_VISIT) of type SI> 1\n",
      "              <Field PV1_2 (PATIENT_CLASS) of type ID> I\n",
      "              <Field PV1_3 (ASSIGNED_PATIENT_LOCATION) of type None> 4041^1008\n",
      "              <Field PV1_19 (VISIT_NUMBER) of type NM> 861818740\n",
      "              <Field PV1_44 (ADMIT_DATE_TIME) of type TS> 20240331223100\n",
      "     <Group ORU_R01_ORDER_OBSERVATION>\n",
      "          <Segment OBR>\n",
      "              <Field OBR_1 (SET_ID_OBSERVATION_REQUEST) of type SI> 1\n",
      "              <Field OBR_3 (FILLER_ORDER_NUMBER) of type CM> 2404153092\n",
      "              <Field OBR_7 (OBSERVATION_DATE_TIME) of type TS> 20240415072000\n",
      "              <Field OBR_14 (SPECIMEN_RECEIVED_DATE_TIME) of type TS> 20240415080800\n",
      "              <Field OBR_16 (ORDERING_PROVIDER) of type CN> 4041\n",
      "              <Field OBR_22 (RESULTS_REPORT_STATUS_CHANGE_DATE_TIME) of type TS> 20240416151505\n",
      "              <Field OBR_24 (DIAGNOSTIC_SERVICE_SECTION_ID) of type ID> 3052\n",
      "              <Field OBR_25 (RESULT_STATUS) of type ID> F\n",
      "              <Field OBR_27 (QUANTITY_TIMING) of type None> ^^^^^N\n",
      "         <Group ORU_R01_OBSERVATION>\n",
      "              <Segment OBX>\n",
      "                  <Field OBX_1 (SET_ID_OBSERVATIONAL_SIMPLE) of type SI> 1\n",
      "                  <Field OBX_2 (VALUE_TYPE) of type ID> NM\n",
      "                  <Field OBX_3 (OBSERVATION_IDENTIFIER) of type CE> H_N_GB^Leucocytes^GLIMS\n",
      "                  <Field OBX_5 (OBSERVATION_RESULTS) of type varies> 17.08\n",
      "                  <Field OBX_6 (UNITS) of type None> Gi/L^G/L^GLIMS\n",
      "                  <Field OBX_7 (REFERENCES_RANGE) of type ST> 4.00-10.00\n",
      "                  <Field OBX_8 (ABNORMAL_FLAGS) of type ST> H\n",
      "                  <Field OBX_11 (OBSERVATION_RESULT_STATUS) of type ID> F\n",
      "                  <Field of type None> 20240415072000\n",
      "                  <Field of type None> 3051\n",
      "                  <Field of type None> VLB^s. la resp. du biologiste valideur\n",
      "         <Group ORU_R01_OBSERVATION>\n",
      "              <Segment OBX>\n",
      "                  <Field OBX_1 (SET_ID_OBSERVATIONAL_SIMPLE) of type SI> 2\n",
      "                  <Field OBX_2 (VALUE_TYPE) of type ID> NM\n",
      "                  <Field OBX_3 (OBSERVATION_IDENTIFIER) of type CE> H_N_GR^Hématies^GLIMS\n",
      "                  <Field OBX_5 (OBSERVATION_RESULTS) of type varies> 2.77\n",
      "                  <Field OBX_6 (UNITS) of type None> T/L^T/L^GLIMS\n",
      "                  <Field OBX_7 (REFERENCES_RANGE) of type ST> 4.50-6.00\n",
      "                  <Field OBX_8 (ABNORMAL_FLAGS) of type ST> L\n",
      "                  <Field OBX_11 (OBSERVATION_RESULT_STATUS) of type ID> F\n",
      "                  <Field of type None> 20240415072000\n",
      "                  <Field of type None> 3051\n",
      "                  <Field of type None> VLB^s. la resp. du biologiste valideur\n",
      "         <Group ORU_R01_OBSERVATION>\n",
      "              <Segment OBX>\n",
      "                  <Field OBX_1 (SET_ID_OBSERVATIONAL_SIMPLE) of type SI> 3\n",
      "                  <Field OBX_2 (VALUE_TYPE) of type ID> NM\n",
      "                  <Field OBX_3 (OBSERVATION_IDENTIFIER) of type CE> H_N_HB^Hémoglobine^GLIMS\n",
      "                  <Field OBX_5 (OBSERVATION_RESULTS) of type varies> 8.6\n",
      "                  <Field OBX_6 (UNITS) of type None> g/dL^g/dL^GLIMS\n",
      "                  <Field OBX_7 (REFERENCES_RANGE) of type ST> 13.0-17.0\n",
      "                  <Field OBX_8 (ABNORMAL_FLAGS) of type ST> L\n",
      "                  <Field OBX_11 (OBSERVATION_RESULT_STATUS) of type ID> F\n",
      "                  <Field of type None> 20240415072000\n",
      "                  <Field of type None> 3051\n",
      "                  <Field of type None> VLB^s. la resp. du biologiste valideur\n",
      "         <Group ORU_R01_OBSERVATION>\n",
      "              <Segment OBX>\n",
      "                  <Field OBX_1 (SET_ID_OBSERVATIONAL_SIMPLE) of type SI> 4\n",
      "                  <Field OBX_2 (VALUE_TYPE) of type ID> NM\n",
      "                  <Field OBX_3 (OBSERVATION_IDENTIFIER) of type CE> H_N_HT^Hématocrite^GLIMS\n",
      "                  <Field OBX_5 (OBSERVATION_RESULTS) of type varies> 26.6\n",
      "                  <Field OBX_6 (UNITS) of type None> %^%^GLIMS\n",
      "                  <Field OBX_7 (REFERENCES_RANGE) of type ST> 40.0-54.0\n",
      "                  <Field OBX_8 (ABNORMAL_FLAGS) of type ST> L\n",
      "                  <Field OBX_11 (OBSERVATION_RESULT_STATUS) of type ID> F\n",
      "                  <Field of type None> 20240415072000\n",
      "                  <Field of type None> 3051\n",
      "                  <Field of type None> VLB^s. la resp. du biologiste valideur\n",
      "         <Group ORU_R01_OBSERVATION>\n",
      "              <Segment OBX>\n",
      "                  <Field OBX_1 (SET_ID_OBSERVATIONAL_SIMPLE) of type SI> 5\n",
      "                  <Field OBX_2 (VALUE_TYPE) of type ID> NM\n",
      "                  <Field OBX_3 (OBSERVATION_IDENTIFIER) of type CE> H_N_VGM^VGM^GLIMS\n",
      "                  <Field OBX_5 (OBSERVATION_RESULTS) of type varies> 96.0\n",
      "                  <Field OBX_6 (UNITS) of type None> fL^fL^GLIMS\n",
      "                  <Field OBX_7 (REFERENCES_RANGE) of type ST> 80.0-100.0\n",
      "                  <Field OBX_11 (OBSERVATION_RESULT_STATUS) of type ID> F\n",
      "                  <Field of type None> 20240415072000\n",
      "                  <Field of type None> 3051\n",
      "                  <Field of type None> VLB^s. la resp. du biologiste valideur\n",
      "         <Group ORU_R01_OBSERVATION>\n",
      "              <Segment OBX>\n",
      "                  <Field OBX_1 (SET_ID_OBSERVATIONAL_SIMPLE) of type SI> 6\n",
      "                  <Field OBX_2 (VALUE_TYPE) of type ID> NM\n",
      "                  <Field OBX_3 (OBSERVATION_IDENTIFIER) of type CE> H_N_TCMH^TCMH^GLIMS\n",
      "                  <Field OBX_5 (OBSERVATION_RESULTS) of type varies> 31.0\n",
      "                  <Field OBX_6 (UNITS) of type None> pg^pg^GLIMS\n",
      "                  <Field OBX_7 (REFERENCES_RANGE) of type ST> 27.0-32.0\n",
      "                  <Field OBX_11 (OBSERVATION_RESULT_STATUS) of type ID> F\n",
      "                  <Field of type None> 20240415072000\n",
      "                  <Field of type None> 3051\n",
      "                  <Field of type None> VLB^s. la resp. du biologiste valideur\n",
      "         <Group ORU_R01_OBSERVATION>\n",
      "              <Segment OBX>\n",
      "                  <Field OBX_1 (SET_ID_OBSERVATIONAL_SIMPLE) of type SI> 7\n",
      "                  <Field OBX_2 (VALUE_TYPE) of type ID> NM\n",
      "                  <Field OBX_3 (OBSERVATION_IDENTIFIER) of type CE> H_N_CCMH^CCMH^GLIMS\n",
      "                  <Field OBX_5 (OBSERVATION_RESULTS) of type varies> 32.3\n",
      "                  <Field OBX_6 (UNITS) of type None> g/dL^g/dL^GLIMS\n",
      "                  <Field OBX_7 (REFERENCES_RANGE) of type ST> 30.0-35.0\n",
      "                  <Field OBX_11 (OBSERVATION_RESULT_STATUS) of type ID> F\n",
      "                  <Field of type None> 20240415072000\n",
      "                  <Field of type None> 3051\n",
      "                  <Field of type None> VLB^s. la resp. du biologiste valideur\n",
      "         <Group ORU_R01_OBSERVATION>\n",
      "              <Segment OBX>\n",
      "                  <Field OBX_1 (SET_ID_OBSERVATIONAL_SIMPLE) of type SI> 8\n",
      "                  <Field OBX_2 (VALUE_TYPE) of type ID> NM\n",
      "                  <Field OBX_3 (OBSERVATION_IDENTIFIER) of type CE> H_N_CVGR^IDR-CV^GLIMS\n",
      "                  <Field OBX_5 (OBSERVATION_RESULTS) of type varies> 22.4\n",
      "                  <Field OBX_6 (UNITS) of type None> %^%^GLIMS\n",
      "                  <Field OBX_7 (REFERENCES_RANGE) of type ST> 12.3-14.3\n",
      "                  <Field OBX_8 (ABNORMAL_FLAGS) of type ST> H\n",
      "                  <Field OBX_11 (OBSERVATION_RESULT_STATUS) of type ID> F\n",
      "                  <Field of type None> 20240415072000\n",
      "                  <Field of type None> 3051\n",
      "                  <Field of type None> ams^ams^ams\n",
      "         <Group ORU_R01_OBSERVATION>\n",
      "              <Segment OBX>\n",
      "                  <Field OBX_1 (SET_ID_OBSERVATIONAL_SIMPLE) of type SI> 9\n",
      "                  <Field OBX_2 (VALUE_TYPE) of type ID> NM\n",
      "                  <Field OBX_3 (OBSERVATION_IDENTIFIER) of type CE> H_N_ERYTH1^Erythroblastes^GLIMS\n",
      "                  <Field OBX_5 (OBSERVATION_RESULTS) of type varies> 0\n",
      "                  <Field OBX_6 (UNITS) of type None> /100 GB^^GLIMS\n",
      "                  <Field OBX_11 (OBSERVATION_RESULT_STATUS) of type ID> F\n",
      "                  <Field of type None> 20240415072000\n",
      "                  <Field of type None> 3051\n",
      "                  <Field of type None> VLB^s. la resp. du biologiste valideur\n",
      "         <Group ORU_R01_OBSERVATION>\n",
      "              <Segment OBX>\n",
      "                  <Field OBX_1 (SET_ID_OBSERVATIONAL_SIMPLE) of type SI> 10\n",
      "                  <Field OBX_2 (VALUE_TYPE) of type ID> NM\n",
      "                  <Field OBX_3 (OBSERVATION_IDENTIFIER) of type CE> H_N_PLA^Plaquettes^GLIMS\n",
      "                  <Field OBX_5 (OBSERVATION_RESULTS) of type varies> 74\n",
      "                  <Field OBX_6 (UNITS) of type None> Gi/L^G/L^GLIMS\n",
      "                  <Field OBX_7 (REFERENCES_RANGE) of type ST> 150-400\n",
      "                  <Field OBX_8 (ABNORMAL_FLAGS) of type ST> L\n",
      "                  <Field OBX_11 (OBSERVATION_RESULT_STATUS) of type ID> F\n",
      "                  <Field of type None> 20240415072000\n",
      "                  <Field of type None> 3051\n",
      "                  <Field of type None> VLB^s. la resp. du biologiste valideur\n",
      "         <Group ORU_R01_OBSERVATION>\n",
      "              <Segment OBX>\n",
      "                  <Field OBX_1 (SET_ID_OBSERVATIONAL_SIMPLE) of type SI> 11\n",
      "                  <Field OBX_2 (VALUE_TYPE) of type ID> NM\n",
      "                  <Field OBX_3 (OBSERVATION_IDENTIFIER) of type CE> H_N_VPLA^VPM^GLIMS\n",
      "                  <Field OBX_5 (OBSERVATION_RESULTS) of type varies> 12.6\n",
      "                  <Field OBX_6 (UNITS) of type None> fL^fL^GLIMS\n",
      "                  <Field OBX_7 (REFERENCES_RANGE) of type ST> 4.5-11.0\n",
      "                  <Field OBX_8 (ABNORMAL_FLAGS) of type ST> H\n",
      "                  <Field OBX_11 (OBSERVATION_RESULT_STATUS) of type ID> F\n",
      "                  <Field of type None> 20240415072000\n",
      "                  <Field of type None> 3051\n",
      "                  <Field of type None> ams^ams^ams\n",
      "         <Group ORU_R01_OBSERVATION>\n",
      "              <Segment OBX>\n",
      "                  <Field OBX_1 (SET_ID_OBSERVATIONAL_SIMPLE) of type SI> 12\n",
      "                  <Field OBX_2 (VALUE_TYPE) of type ID> NM\n",
      "                  <Field OBX_3 (OBSERVATION_IDENTIFIER) of type CE> H_N_PN1^Poly.neutrophiles^GLIMS\n",
      "                  <Field OBX_5 (OBSERVATION_RESULTS) of type varies> 86.2\n",
      "                  <Field OBX_6 (UNITS) of type None> %^%^GLIMS\n",
      "                  <Field OBX_11 (OBSERVATION_RESULT_STATUS) of type ID> F\n",
      "                  <Field of type None> 20240415072000\n",
      "                  <Field of type None> 3051\n",
      "                  <Field of type None> VLB^s. la resp. du biologiste valideur\n",
      "         <Group ORU_R01_OBSERVATION>\n",
      "              <Segment OBX>\n",
      "                  <Field OBX_1 (SET_ID_OBSERVATIONAL_SIMPLE) of type SI> 13\n",
      "                  <Field OBX_2 (VALUE_TYPE) of type ID> NM\n",
      "                  <Field OBX_3 (OBSERVATION_IDENTIFIER) of type CE> H_N_PN2^soit^GLIMS\n",
      "                  <Field OBX_5 (OBSERVATION_RESULTS) of type varies> 14.72\n",
      "                  <Field OBX_6 (UNITS) of type None> Gi/L^G/L^GLIMS\n",
      "                  <Field OBX_7 (REFERENCES_RANGE) of type ST> 1.80-7.50\n",
      "                  <Field OBX_8 (ABNORMAL_FLAGS) of type ST> H\n",
      "                  <Field OBX_11 (OBSERVATION_RESULT_STATUS) of type ID> F\n",
      "                  <Field of type None> 20240415072000\n",
      "                  <Field of type None> 3051\n",
      "                  <Field of type None> VLB^s. la resp. du biologiste valideur\n",
      "         <Group ORU_R01_OBSERVATION>\n",
      "              <Segment OBX>\n",
      "                  <Field OBX_1 (SET_ID_OBSERVATIONAL_SIMPLE) of type SI> 14\n",
      "                  <Field OBX_2 (VALUE_TYPE) of type ID> NM\n",
      "                  <Field OBX_3 (OBSERVATION_IDENTIFIER) of type CE> H_N_PEO1^Poly.éosinophiles^GLIMS\n",
      "                  <Field OBX_5 (OBSERVATION_RESULTS) of type varies> 1.8\n",
      "                  <Field OBX_6 (UNITS) of type None> %^%^GLIMS\n",
      "                  <Field OBX_11 (OBSERVATION_RESULT_STATUS) of type ID> F\n",
      "                  <Field of type None> 20240415072000\n",
      "                  <Field of type None> 3051\n",
      "                  <Field of type None> VLB^s. la resp. du biologiste valideur\n",
      "         <Group ORU_R01_OBSERVATION>\n",
      "              <Segment OBX>\n",
      "                  <Field OBX_1 (SET_ID_OBSERVATIONAL_SIMPLE) of type SI> 15\n",
      "                  <Field OBX_2 (VALUE_TYPE) of type ID> NM\n",
      "                  <Field OBX_3 (OBSERVATION_IDENTIFIER) of type CE> H_N_PEO2^soit^GLIMS\n",
      "                  <Field OBX_5 (OBSERVATION_RESULTS) of type varies> 0.30\n",
      "                  <Field OBX_6 (UNITS) of type None> Gi/L^G/L^GLIMS\n",
      "                  <Field OBX_7 (REFERENCES_RANGE) of type ST> 0.10-0.40\n",
      "                  <Field OBX_11 (OBSERVATION_RESULT_STATUS) of type ID> F\n",
      "                  <Field of type None> 20240415072000\n",
      "                  <Field of type None> 3051\n",
      "                  <Field of type None> VLB^s. la resp. du biologiste valideur\n",
      "         <Group ORU_R01_OBSERVATION>\n",
      "              <Segment OBX>\n",
      "                  <Field OBX_1 (SET_ID_OBSERVATIONAL_SIMPLE) of type SI> 16\n",
      "                  <Field OBX_2 (VALUE_TYPE) of type ID> NM\n",
      "                  <Field OBX_3 (OBSERVATION_IDENTIFIER) of type CE> H_N_PBASO1^Poly.basophiles^GLIMS\n",
      "                  <Field OBX_5 (OBSERVATION_RESULTS) of type varies> 0.3\n",
      "                  <Field OBX_6 (UNITS) of type None> %^%^GLIMS\n",
      "                  <Field OBX_11 (OBSERVATION_RESULT_STATUS) of type ID> F\n",
      "                  <Field of type None> 20240415072000\n",
      "                  <Field of type None> 3051\n",
      "                  <Field of type None> VLB^s. la resp. du biologiste valideur\n",
      "         <Group ORU_R01_OBSERVATION>\n",
      "              <Segment OBX>\n",
      "                  <Field OBX_1 (SET_ID_OBSERVATIONAL_SIMPLE) of type SI> 17\n",
      "                  <Field OBX_2 (VALUE_TYPE) of type ID> NM\n",
      "                  <Field OBX_3 (OBSERVATION_IDENTIFIER) of type CE> H_N_PBASO2^soit^GLIMS\n",
      "                  <Field OBX_5 (OBSERVATION_RESULTS) of type varies> 0.05\n",
      "                  <Field OBX_6 (UNITS) of type None> Gi/L^G/L^GLIMS\n",
      "                  <Field OBX_7 (REFERENCES_RANGE) of type ST> 0.00-0.20\n",
      "                  <Field OBX_11 (OBSERVATION_RESULT_STATUS) of type ID> F\n",
      "                  <Field of type None> 20240415072000\n",
      "                  <Field of type None> 3051\n",
      "                  <Field of type None> VLB^s. la resp. du biologiste valideur\n",
      "         <Group ORU_R01_OBSERVATION>\n",
      "              <Segment OBX>\n",
      "                  <Field OBX_1 (SET_ID_OBSERVATIONAL_SIMPLE) of type SI> 18\n",
      "                  <Field OBX_2 (VALUE_TYPE) of type ID> NM\n",
      "                  <Field OBX_3 (OBSERVATION_IDENTIFIER) of type CE> H_N_LYMPHO1^Lymphocytes^GLIMS\n",
      "                  <Field OBX_5 (OBSERVATION_RESULTS) of type varies> 2.9\n",
      "                  <Field OBX_6 (UNITS) of type None> %^%^GLIMS\n",
      "                  <Field OBX_11 (OBSERVATION_RESULT_STATUS) of type ID> F\n",
      "                  <Field of type None> 20240415072000\n",
      "                  <Field of type None> 3051\n",
      "                  <Field of type None> VLB^s. la resp. du biologiste valideur\n",
      "         <Group ORU_R01_OBSERVATION>\n",
      "              <Segment OBX>\n",
      "                  <Field OBX_1 (SET_ID_OBSERVATIONAL_SIMPLE) of type SI> 19\n",
      "                  <Field OBX_2 (VALUE_TYPE) of type ID> NM\n",
      "                  <Field OBX_3 (OBSERVATION_IDENTIFIER) of type CE> H_N_LYMPHO2^soit^GLIMS\n",
      "                  <Field OBX_5 (OBSERVATION_RESULTS) of type varies> 0.49\n",
      "                  <Field OBX_6 (UNITS) of type None> Gi/L^G/L^GLIMS\n",
      "                  <Field OBX_7 (REFERENCES_RANGE) of type ST> 1.50-4.00\n",
      "                  <Field OBX_8 (ABNORMAL_FLAGS) of type ST> L\n",
      "                  <Field OBX_11 (OBSERVATION_RESULT_STATUS) of type ID> F\n",
      "                  <Field of type None> 20240415072000\n",
      "                  <Field of type None> 3051\n",
      "                  <Field of type None> VLB^s. la resp. du biologiste valideur\n",
      "         <Group ORU_R01_OBSERVATION>\n",
      "              <Segment OBX>\n",
      "                  <Field OBX_1 (SET_ID_OBSERVATIONAL_SIMPLE) of type SI> 20\n",
      "                  <Field OBX_2 (VALUE_TYPE) of type ID> NM\n",
      "                  <Field OBX_3 (OBSERVATION_IDENTIFIER) of type CE> H_N_MONO1^Monocytes^GLIMS\n",
      "                  <Field OBX_5 (OBSERVATION_RESULTS) of type varies> 8.8\n",
      "                  <Field OBX_6 (UNITS) of type None> %^%^GLIMS\n",
      "                  <Field OBX_11 (OBSERVATION_RESULT_STATUS) of type ID> F\n",
      "                  <Field of type None> 20240415072000\n",
      "                  <Field of type None> 3051\n",
      "                  <Field of type None> VLB^s. la resp. du biologiste valideur\n",
      "         <Group ORU_R01_OBSERVATION>\n",
      "              <Segment OBX>\n",
      "                  <Field OBX_1 (SET_ID_OBSERVATIONAL_SIMPLE) of type SI> 21\n",
      "                  <Field OBX_2 (VALUE_TYPE) of type ID> NM\n",
      "                  <Field OBX_3 (OBSERVATION_IDENTIFIER) of type CE> H_N_MONO2^soit^GLIMS\n",
      "                  <Field OBX_5 (OBSERVATION_RESULTS) of type varies> 1.51\n",
      "                  <Field OBX_6 (UNITS) of type None> Gi/L^G/L^GLIMS\n",
      "                  <Field OBX_7 (REFERENCES_RANGE) of type ST> 0.20-1.00\n",
      "                  <Field OBX_8 (ABNORMAL_FLAGS) of type ST> H\n",
      "                  <Field OBX_11 (OBSERVATION_RESULT_STATUS) of type ID> F\n",
      "                  <Field of type None> 20240415072000\n",
      "                  <Field of type None> 3051\n",
      "                  <Field of type None> VLB^s. la resp. du biologiste valideur\n",
      "         <Group ORU_R01_OBSERVATION>\n",
      "              <Segment OBX>\n",
      "                  <Field OBX_1 (SET_ID_OBSERVATIONAL_SIMPLE) of type SI> 22\n",
      "                  <Field OBX_2 (VALUE_TYPE) of type ID> NM\n",
      "                  <Field OBX_3 (OBSERVATION_IDENTIFIER) of type CE> C_TP^TAUX DE PROTHROMBINE^GLIMS\n",
      "                  <Field OBX_6 (UNITS) of type None> %^%^GLIMS\n",
      "                  <Field OBX_7 (REFERENCES_RANGE) of type ST> >70\n",
      "                  <Field OBX_11 (OBSERVATION_RESULT_STATUS) of type ID> X\n",
      "                  <Field of type None> 20240415072000\n",
      "                  <Field of type None> 3051\n",
      "         <Group ORU_R01_OBSERVATION>\n",
      "              <Segment OBX>\n",
      "                  <Field OBX_1 (SET_ID_OBSERVATIONAL_SIMPLE) of type SI> 23\n",
      "                  <Field OBX_2 (VALUE_TYPE) of type ID> NM\n",
      "                  <Field OBX_3 (OBSERVATION_IDENTIFIER) of type CE> C_TP1^TP temps témoin^GLIMS\n",
      "                  <Field OBX_5 (OBSERVATION_RESULTS) of type varies> 11.6\n",
      "                  <Field OBX_6 (UNITS) of type None> sec^sec^GLIMS\n",
      "                  <Field OBX_11 (OBSERVATION_RESULT_STATUS) of type ID> X\n",
      "                  <Field of type None> 20240415072000\n",
      "                  <Field of type None> 3051\n",
      "                  <Field of type None> MOM^MONSTARD^Marie Anne\n",
      "         <Group ORU_R01_OBSERVATION>\n",
      "              <Segment OBX>\n",
      "                  <Field OBX_1 (SET_ID_OBSERVATIONAL_SIMPLE) of type SI> 24\n",
      "                  <Field OBX_2 (VALUE_TYPE) of type ID> NM\n",
      "                  <Field OBX_3 (OBSERVATION_IDENTIFIER) of type CE> C_TP2^TP temps patient^GLIMS\n",
      "                  <Field OBX_6 (UNITS) of type None> sec^sec^GLIMS\n",
      "                  <Field OBX_11 (OBSERVATION_RESULT_STATUS) of type ID> X\n",
      "                  <Field of type None> 20240415072000\n",
      "                  <Field of type None> 3051\n",
      "         <Group ORU_R01_OBSERVATION>\n",
      "              <Segment OBX>\n",
      "                  <Field OBX_1 (SET_ID_OBSERVATIONAL_SIMPLE) of type SI> 25\n",
      "                  <Field OBX_2 (VALUE_TYPE) of type ID> NM\n",
      "                  <Field OBX_3 (OBSERVATION_IDENTIFIER) of type CE> C_TCA1T^TCA Témoin^GLIMS\n",
      "                  <Field OBX_5 (OBSERVATION_RESULTS) of type varies> 30.0\n",
      "                  <Field OBX_6 (UNITS) of type None> sec^sec^GLIMS\n",
      "                  <Field OBX_11 (OBSERVATION_RESULT_STATUS) of type ID> X\n",
      "                  <Field of type None> 20240415072000\n",
      "                  <Field of type None> 3051\n",
      "                  <Field of type None> MOM^MONSTARD^Marie Anne\n",
      "         <Group ORU_R01_OBSERVATION>\n",
      "              <Segment OBX>\n",
      "                  <Field OBX_1 (SET_ID_OBSERVATIONAL_SIMPLE) of type SI> 26\n",
      "                  <Field OBX_2 (VALUE_TYPE) of type ID> NM\n",
      "                  <Field OBX_3 (OBSERVATION_IDENTIFIER) of type CE> C_TCA1M^TCA Patient^GLIMS\n",
      "                  <Field OBX_6 (UNITS) of type None> sec^sec^GLIMS\n",
      "                  <Field OBX_11 (OBSERVATION_RESULT_STATUS) of type ID> X\n",
      "                  <Field of type None> 20240415072000\n",
      "                  <Field of type None> 3051\n",
      "         <Group ORU_R01_OBSERVATION>\n",
      "              <Segment OBX>\n",
      "                  <Field OBX_1 (SET_ID_OBSERVATIONAL_SIMPLE) of type SI> 27\n",
      "                  <Field OBX_2 (VALUE_TYPE) of type ID> NM\n",
      "                  <Field OBX_3 (OBSERVATION_IDENTIFIER) of type CE> C_TCA1^TCA M/T^GLIMS\n",
      "                  <Field OBX_6 (UNITS) of type None> \"\"^^\"\"\n",
      "                  <Field OBX_7 (REFERENCES_RANGE) of type ST> 0.86-1.20\n",
      "                  <Field OBX_11 (OBSERVATION_RESULT_STATUS) of type ID> X\n",
      "                  <Field of type None> 20240415072000\n",
      "                  <Field of type None> 3051\n",
      "         <Group ORU_R01_OBSERVATION>\n",
      "              <Segment OBX>\n",
      "                  <Field OBX_1 (SET_ID_OBSERVATIONAL_SIMPLE) of type SI> 28\n",
      "                  <Field OBX_2 (VALUE_TYPE) of type ID> NM\n",
      "                  <Field OBX_3 (OBSERVATION_IDENTIFIER) of type CE> C_FIBACT^Dosage d'activité FIBRI^GLIMS\n",
      "                  <Field OBX_6 (UNITS) of type None> g/l^g/L^GLIMS\n",
      "                  <Field OBX_7 (REFERENCES_RANGE) of type ST> 2.00-4.00\n",
      "                  <Field OBX_11 (OBSERVATION_RESULT_STATUS) of type ID> X\n",
      "                  <Field of type None> 20240415072000\n",
      "                  <Field of type None> 3051\n",
      "         <Group ORU_R01_OBSERVATION>\n",
      "              <Segment OBX>\n",
      "                  <Field OBX_1 (SET_ID_OBSERVATIONAL_SIMPLE) of type SI> 29\n",
      "                  <Field OBX_2 (VALUE_TYPE) of type ID> ST\n",
      "                  <Field OBX_3 (OBSERVATION_IDENTIFIER) of type CE> B_COMICT^Commentaire^GLIMS\n",
      "                  <Field OBX_5 (OBSERVATION_RESULTS) of type varies> ictère +++\n",
      "                  <Field OBX_8 (ABNORMAL_FLAGS) of type ST> N\n",
      "                  <Field OBX_11 (OBSERVATION_RESULT_STATUS) of type ID> F\n",
      "                  <Field of type None> 20240415072000\n",
      "                  <Field of type None> BIOCH\n",
      "                  <Field of type None> SBO^BOUCHKHACHAKH^SIHAM\n",
      "         <Group ORU_R01_OBSERVATION>\n",
      "              <Segment OBX>\n",
      "                  <Field OBX_1 (SET_ID_OBSERVATIONAL_SIMPLE) of type SI> 30\n",
      "                  <Field OBX_2 (VALUE_TYPE) of type ID> NM\n",
      "                  <Field OBX_3 (OBSERVATION_IDENTIFIER) of type CE> B_U^Urée^GLIMS\n",
      "                  <Field OBX_5 (OBSERVATION_RESULTS) of type varies> 17.4\n",
      "                  <Field OBX_6 (UNITS) of type None> mmol/l^mmol/L^GLIMS\n",
      "                  <Field OBX_7 (REFERENCES_RANGE) of type ST> 3.0-9.2\n",
      "                  <Field OBX_8 (ABNORMAL_FLAGS) of type ST> H\n",
      "                  <Field OBX_11 (OBSERVATION_RESULT_STATUS) of type ID> F\n",
      "                  <Field of type None> 20240415072000\n",
      "                  <Field of type None> BIOCH\n",
      "                  <Field of type None> VLB^s. la resp. du biologiste valideur\n",
      "         <Group ORU_R01_OBSERVATION>\n",
      "              <Segment OBX>\n",
      "                  <Field OBX_1 (SET_ID_OBSERVATIONAL_SIMPLE) of type SI> 31\n",
      "                  <Field OBX_2 (VALUE_TYPE) of type ID> NM\n",
      "                  <Field OBX_3 (OBSERVATION_IDENTIFIER) of type CE> B_CreatEnz^Créatinine^GLIMS\n",
      "                  <Field OBX_5 (OBSERVATION_RESULTS) of type varies> 171\n",
      "                  <Field OBX_6 (UNITS) of type None> µmol/l^µmol/L^GLIMS\n",
      "                  <Field OBX_7 (REFERENCES_RANGE) of type ST> 64-104\n",
      "                  <Field OBX_8 (ABNORMAL_FLAGS) of type ST> H\n",
      "                  <Field OBX_11 (OBSERVATION_RESULT_STATUS) of type ID> F\n",
      "                  <Field of type None> 20240415072000\n",
      "                  <Field of type None> BIOCH\n",
      "                  <Field of type None> VLB^s. la resp. du biologiste valideur\n",
      "         <Group ORU_R01_OBSERVATION>\n",
      "              <Segment OBX>\n",
      "                  <Field OBX_1 (SET_ID_OBSERVATIONAL_SIMPLE) of type SI> 32\n",
      "                  <Field OBX_2 (VALUE_TYPE) of type ID> NM\n",
      "                  <Field OBX_3 (OBSERVATION_IDENTIFIER) of type CE> B_CA^Calcium^GLIMS\n",
      "                  <Field OBX_5 (OBSERVATION_RESULTS) of type varies> 1.91\n",
      "                  <Field OBX_6 (UNITS) of type None> mmol/l^mmol/L^GLIMS\n",
      "                  <Field OBX_7 (REFERENCES_RANGE) of type ST> 2.20-2.50\n",
      "                  <Field OBX_8 (ABNORMAL_FLAGS) of type ST> L\n",
      "                  <Field OBX_11 (OBSERVATION_RESULT_STATUS) of type ID> F\n",
      "                  <Field of type None> 20240415072000\n",
      "                  <Field of type None> BIOCH\n",
      "                  <Field of type None> VLB^s. la resp. du biologiste valideur\n",
      "         <Group ORU_R01_OBSERVATION>\n",
      "              <Segment OBX>\n",
      "                  <Field OBX_1 (SET_ID_OBSERVATIONAL_SIMPLE) of type SI> 33\n",
      "                  <Field OBX_2 (VALUE_TYPE) of type ID> NM\n",
      "                  <Field OBX_3 (OBSERVATION_IDENTIFIER) of type CE> B_P^Phosphates^GLIMS\n",
      "                  <Field OBX_5 (OBSERVATION_RESULTS) of type varies> 1.01\n",
      "                  <Field OBX_6 (UNITS) of type None> mmol/l^mmol/L^GLIMS\n",
      "                  <Field OBX_7 (REFERENCES_RANGE) of type ST> 0.74-1.52\n",
      "                  <Field OBX_11 (OBSERVATION_RESULT_STATUS) of type ID> F\n",
      "                  <Field of type None> 20240415072000\n",
      "                  <Field of type None> BIOCH\n",
      "                  <Field of type None> VLB^s. la resp. du biologiste valideur\n",
      "         <Group ORU_R01_OBSERVATION>\n",
      "              <Segment OBX>\n",
      "                  <Field OBX_1 (SET_ID_OBSERVATIONAL_SIMPLE) of type SI> 34\n",
      "                  <Field OBX_2 (VALUE_TYPE) of type ID> NM\n",
      "                  <Field OBX_3 (OBSERVATION_IDENTIFIER) of type CE> B_MG2^Magnésium^GLIMS\n",
      "                  <Field OBX_5 (OBSERVATION_RESULTS) of type varies> 1.01\n",
      "                  <Field OBX_6 (UNITS) of type None> mmol/l^mmol/L^GLIMS\n",
      "                  <Field OBX_7 (REFERENCES_RANGE) of type ST> 0.66-1.07\n",
      "                  <Field OBX_11 (OBSERVATION_RESULT_STATUS) of type ID> F\n",
      "                  <Field of type None> 20240415072000\n",
      "                  <Field of type None> BIOCH\n",
      "                  <Field of type None> VLB^s. la resp. du biologiste valideur\n",
      "         <Group ORU_R01_OBSERVATION>\n",
      "              <Segment OBX>\n",
      "                  <Field OBX_1 (SET_ID_OBSERVATIONAL_SIMPLE) of type SI> 35\n",
      "                  <Field OBX_2 (VALUE_TYPE) of type ID> NM\n",
      "                  <Field OBX_3 (OBSERVATION_IDENTIFIER) of type CE> B_NA^Sodium^GLIMS\n",
      "                  <Field OBX_5 (OBSERVATION_RESULTS) of type varies> 140\n",
      "                  <Field OBX_6 (UNITS) of type None> mmol/l^mmol/L^GLIMS\n",
      "                  <Field OBX_7 (REFERENCES_RANGE) of type ST> 136-145\n",
      "                  <Field OBX_11 (OBSERVATION_RESULT_STATUS) of type ID> F\n",
      "                  <Field of type None> 20240415072000\n",
      "                  <Field of type None> BIOCH\n",
      "                  <Field of type None> VLB^s. la resp. du biologiste valideur\n",
      "         <Group ORU_R01_OBSERVATION>\n",
      "              <Segment OBX>\n",
      "                  <Field OBX_1 (SET_ID_OBSERVATIONAL_SIMPLE) of type SI> 36\n",
      "                  <Field OBX_2 (VALUE_TYPE) of type ID> NM\n",
      "                  <Field OBX_3 (OBSERVATION_IDENTIFIER) of type CE> B_K^Potassium^GLIMS\n",
      "                  <Field OBX_5 (OBSERVATION_RESULTS) of type varies> 4.7\n",
      "                  <Field OBX_6 (UNITS) of type None> mmol/l^mmol/L^GLIMS\n",
      "                  <Field OBX_7 (REFERENCES_RANGE) of type ST> 3.5-5.1\n",
      "                  <Field OBX_11 (OBSERVATION_RESULT_STATUS) of type ID> F\n",
      "                  <Field of type None> 20240415072000\n",
      "                  <Field of type None> BIOCH\n",
      "                  <Field of type None> VLB^s. la resp. du biologiste valideur\n",
      "         <Group ORU_R01_OBSERVATION>\n",
      "              <Segment OBX>\n",
      "                  <Field OBX_1 (SET_ID_OBSERVATIONAL_SIMPLE) of type SI> 37\n",
      "                  <Field OBX_2 (VALUE_TYPE) of type ID> NM\n",
      "                  <Field OBX_3 (OBSERVATION_IDENTIFIER) of type CE> B_CL^Chlore^GLIMS\n",
      "                  <Field OBX_5 (OBSERVATION_RESULTS) of type varies> 112\n",
      "                  <Field OBX_6 (UNITS) of type None> mmol/l^mmol/L^GLIMS\n",
      "                  <Field OBX_7 (REFERENCES_RANGE) of type ST> 98-107\n",
      "                  <Field OBX_8 (ABNORMAL_FLAGS) of type ST> H\n",
      "                  <Field OBX_11 (OBSERVATION_RESULT_STATUS) of type ID> F\n",
      "                  <Field of type None> 20240415072000\n",
      "                  <Field of type None> BIOCH\n",
      "                  <Field of type None> VLB^s. la resp. du biologiste valideur\n",
      "         <Group ORU_R01_OBSERVATION>\n",
      "              <Segment OBX>\n",
      "                  <Field OBX_1 (SET_ID_OBSERVATIONAL_SIMPLE) of type SI> 38\n",
      "                  <Field OBX_2 (VALUE_TYPE) of type ID> NM\n",
      "                  <Field OBX_3 (OBSERVATION_IDENTIFIER) of type CE> B_BIC^Bicarbonates^GLIMS\n",
      "                  <Field OBX_5 (OBSERVATION_RESULTS) of type varies> 21\n",
      "                  <Field OBX_6 (UNITS) of type None> mmol/l^mmol/L^GLIMS\n",
      "                  <Field OBX_7 (REFERENCES_RANGE) of type ST> 23-31\n",
      "                  <Field OBX_8 (ABNORMAL_FLAGS) of type ST> L\n",
      "                  <Field OBX_11 (OBSERVATION_RESULT_STATUS) of type ID> F\n",
      "                  <Field of type None> 20240415072000\n",
      "                  <Field of type None> BIOCH\n",
      "                  <Field of type None> VLB^s. la resp. du biologiste valideur\n",
      "         <Group ORU_R01_OBSERVATION>\n",
      "              <Segment OBX>\n",
      "                  <Field OBX_1 (SET_ID_OBSERVATIONAL_SIMPLE) of type SI> 39\n",
      "                  <Field OBX_2 (VALUE_TYPE) of type ID> NM\n",
      "                  <Field OBX_3 (OBSERVATION_IDENTIFIER) of type CE> B_PT^Protides^GLIMS\n",
      "                  <Field OBX_5 (OBSERVATION_RESULTS) of type varies> 50\n",
      "                  <Field OBX_6 (UNITS) of type None> g/l^g/L^GLIMS\n",
      "                  <Field OBX_7 (REFERENCES_RANGE) of type ST> 62-81\n",
      "                  <Field OBX_8 (ABNORMAL_FLAGS) of type ST> L\n",
      "                  <Field OBX_11 (OBSERVATION_RESULT_STATUS) of type ID> F\n",
      "                  <Field of type None> 20240415072000\n",
      "                  <Field of type None> BIOCH\n",
      "                  <Field of type None> VLB^s. la resp. du biologiste valideur\n",
      "         <Group ORU_R01_OBSERVATION>\n",
      "              <Segment OBX>\n",
      "                  <Field OBX_1 (SET_ID_OBSERVATIONAL_SIMPLE) of type SI> 40\n",
      "                  <Field OBX_2 (VALUE_TYPE) of type ID> ST\n",
      "                  <Field OBX_3 (OBSERVATION_IDENTIFIER) of type CE> B_TG^Triglycerides^GLIMS\n",
      "                  <Field OBX_5 (OBSERVATION_RESULTS) of type varies> Ictérique\n",
      "                  <Field OBX_6 (UNITS) of type None> mmol/l^mmol/L^GLIMS\n",
      "                  <Field OBX_7 (REFERENCES_RANGE) of type ST> 0.40-1.70\n",
      "                  <Field OBX_8 (ABNORMAL_FLAGS) of type ST> N\n",
      "                  <Field OBX_11 (OBSERVATION_RESULT_STATUS) of type ID> F\n",
      "                  <Field of type None> 20240415072000\n",
      "                  <Field of type None> BIOCH\n",
      "                  <Field of type None> VLB^s. la resp. du biologiste valideur\n",
      "         <Group ORU_R01_OBSERVATION>\n",
      "              <Segment OBX>\n",
      "                  <Field OBX_1 (SET_ID_OBSERVATIONAL_SIMPLE) of type SI> 41\n",
      "                  <Field OBX_2 (VALUE_TYPE) of type ID> ST\n",
      "                  <Field OBX_3 (OBSERVATION_IDENTIFIER) of type CE> B_TG2^soit^GLIMS\n",
      "                  <Field OBX_5 (OBSERVATION_RESULTS) of type varies> -\n",
      "                  <Field OBX_6 (UNITS) of type None> g/l^g/L^GLIMS\n",
      "                  <Field OBX_7 (REFERENCES_RANGE) of type ST> 0.35-1.50\n",
      "                  <Field OBX_8 (ABNORMAL_FLAGS) of type ST> N\n",
      "                  <Field OBX_11 (OBSERVATION_RESULT_STATUS) of type ID> F\n",
      "                  <Field of type None> 20240415072000\n",
      "                  <Field of type None> BIOCH\n",
      "                  <Field of type None> SBO^BOUCHKHACHAKH^SIHAM\n",
      "         <Group ORU_R01_OBSERVATION>\n",
      "              <Segment OBX>\n",
      "                  <Field OBX_1 (SET_ID_OBSERVATIONAL_SIMPLE) of type SI> 42\n",
      "                  <Field OBX_2 (VALUE_TYPE) of type ID> NM\n",
      "                  <Field OBX_3 (OBSERVATION_IDENTIFIER) of type CE> B_BT^Bilirubine totale^GLIMS\n",
      "                  <Field OBX_5 (OBSERVATION_RESULTS) of type varies> 427\n",
      "                  <Field OBX_6 (UNITS) of type None> µmol/l^µmol/L^GLIMS\n",
      "                  <Field OBX_7 (REFERENCES_RANGE) of type ST> 3-21\n",
      "                  <Field OBX_8 (ABNORMAL_FLAGS) of type ST> H\n",
      "                  <Field OBX_11 (OBSERVATION_RESULT_STATUS) of type ID> F\n",
      "                  <Field of type None> 20240415072000\n",
      "                  <Field of type None> BIOCH\n",
      "                  <Field of type None> SBO^BOUCHKHACHAKH^SIHAM\n",
      "         <Group ORU_R01_OBSERVATION>\n",
      "              <Segment OBX>\n",
      "                  <Field OBX_1 (SET_ID_OBSERVATIONAL_SIMPLE) of type SI> 43\n",
      "                  <Field OBX_2 (VALUE_TYPE) of type ID> ST\n",
      "                  <Field OBX_3 (OBSERVATION_IDENTIFIER) of type CE> B_BC^Bilirubine directe^GLIMS\n",
      "                  <Field OBX_5 (OBSERVATION_RESULTS) of type varies> -\n",
      "                  <Field OBX_6 (UNITS) of type None> µmol/l^µmol/L^GLIMS\n",
      "                  <Field OBX_7 (REFERENCES_RANGE) of type ST> <9\n",
      "                  <Field OBX_8 (ABNORMAL_FLAGS) of type ST> N\n",
      "                  <Field OBX_11 (OBSERVATION_RESULT_STATUS) of type ID> F\n",
      "                  <Field of type None> 20240415072000\n",
      "                  <Field of type None> BIOCH\n",
      "                  <Field of type None> SBO^BOUCHKHACHAKH^SIHAM\n",
      "         <Group ORU_R01_OBSERVATION>\n",
      "              <Segment OBX>\n",
      "                  <Field OBX_1 (SET_ID_OBSERVATIONAL_SIMPLE) of type SI> 44\n",
      "                  <Field OBX_2 (VALUE_TYPE) of type ID> NM\n",
      "                  <Field OBX_3 (OBSERVATION_IDENTIFIER) of type CE> B_ASAT^ASAT (SGOT)^GLIMS\n",
      "                  <Field OBX_5 (OBSERVATION_RESULTS) of type varies> 155\n",
      "                  <Field OBX_6 (UNITS) of type None> UI/l^UI/L^GLIMS\n",
      "                  <Field OBX_7 (REFERENCES_RANGE) of type ST> 5-34\n",
      "                  <Field OBX_8 (ABNORMAL_FLAGS) of type ST> H\n",
      "                  <Field OBX_11 (OBSERVATION_RESULT_STATUS) of type ID> F\n",
      "                  <Field of type None> 20240415072000\n",
      "                  <Field of type None> BIOCH\n",
      "                  <Field of type None> VLB^s. la resp. du biologiste valideur\n",
      "         <Group ORU_R01_OBSERVATION>\n",
      "              <Segment OBX>\n",
      "                  <Field OBX_1 (SET_ID_OBSERVATIONAL_SIMPLE) of type SI> 45\n",
      "                  <Field OBX_2 (VALUE_TYPE) of type ID> NM\n",
      "                  <Field OBX_3 (OBSERVATION_IDENTIFIER) of type CE> B_ALAT^ALAT (SGPT)^GLIMS\n",
      "                  <Field OBX_5 (OBSERVATION_RESULTS) of type varies> 116\n",
      "                  <Field OBX_6 (UNITS) of type None> UI/l^UI/L^GLIMS\n",
      "                  <Field OBX_7 (REFERENCES_RANGE) of type ST> <55\n",
      "                  <Field OBX_8 (ABNORMAL_FLAGS) of type ST> H\n",
      "                  <Field OBX_11 (OBSERVATION_RESULT_STATUS) of type ID> F\n",
      "                  <Field of type None> 20240415072000\n",
      "                  <Field of type None> BIOCH\n",
      "                  <Field of type None> VLB^s. la resp. du biologiste valideur\n",
      "         <Group ORU_R01_OBSERVATION>\n",
      "              <Segment OBX>\n",
      "                  <Field OBX_1 (SET_ID_OBSERVATIONAL_SIMPLE) of type SI> 46\n",
      "                  <Field OBX_2 (VALUE_TYPE) of type ID> NM\n",
      "                  <Field OBX_3 (OBSERVATION_IDENTIFIER) of type CE> B_CK^CK^GLIMS\n",
      "                  <Field OBX_5 (OBSERVATION_RESULTS) of type varies> 63\n",
      "                  <Field OBX_6 (UNITS) of type None> UI/l^UI/L^GLIMS\n",
      "                  <Field OBX_7 (REFERENCES_RANGE) of type ST> 30-200\n",
      "                  <Field OBX_11 (OBSERVATION_RESULT_STATUS) of type ID> F\n",
      "                  <Field of type None> 20240415072000\n",
      "                  <Field of type None> BIOCH\n",
      "                  <Field of type None> VLB^s. la resp. du biologiste valideur\n",
      "         <Group ORU_R01_OBSERVATION>\n",
      "              <Segment OBX>\n",
      "                  <Field OBX_1 (SET_ID_OBSERVATIONAL_SIMPLE) of type SI> 47\n",
      "                  <Field OBX_2 (VALUE_TYPE) of type ID> NM\n",
      "                  <Field OBX_3 (OBSERVATION_IDENTIFIER) of type CE> B_LDH3^LDH^GLIMS\n",
      "                  <Field OBX_5 (OBSERVATION_RESULTS) of type varies> 342\n",
      "                  <Field OBX_6 (UNITS) of type None> UI/l^UI/L^GLIMS\n",
      "                  <Field OBX_7 (REFERENCES_RANGE) of type ST> 125-220\n",
      "                  <Field OBX_8 (ABNORMAL_FLAGS) of type ST> H\n",
      "                  <Field OBX_11 (OBSERVATION_RESULT_STATUS) of type ID> F\n",
      "                  <Field of type None> 20240415072000\n",
      "                  <Field of type None> BIOCH\n",
      "                  <Field of type None> VLB^s. la resp. du biologiste valideur\n",
      "         <Group ORU_R01_OBSERVATION>\n",
      "              <Segment OBX>\n",
      "                  <Field OBX_1 (SET_ID_OBSERVATIONAL_SIMPLE) of type SI> 48\n",
      "                  <Field OBX_2 (VALUE_TYPE) of type ID> NM\n",
      "                  <Field OBX_3 (OBSERVATION_IDENTIFIER) of type CE> B_GGT^GGT^GLIMS\n",
      "                  <Field OBX_5 (OBSERVATION_RESULTS) of type varies> 62\n",
      "                  <Field OBX_6 (UNITS) of type None> UI/l^UI/L^GLIMS\n",
      "                  <Field OBX_7 (REFERENCES_RANGE) of type ST> <55\n",
      "                  <Field OBX_8 (ABNORMAL_FLAGS) of type ST> H\n",
      "                  <Field OBX_11 (OBSERVATION_RESULT_STATUS) of type ID> F\n",
      "                  <Field of type None> 20240415072000\n",
      "                  <Field of type None> BIOCH\n",
      "                  <Field of type None> VLB^s. la resp. du biologiste valideur\n"
     ]
    }
   ],
   "source": [
    "import hl7apy\n",
    "from hl7apy import parser\n",
    "from hl7apy.core import Group, Segment\n",
    "from hl7apy.exceptions import UnsupportedVersion\n",
    "file_path = r\"D:\\stage\\data\\archive(6)\\EXEMPLE1_GLIMS_HL7_RESULTATS\\EXEMPLE1_GLIMS_HL7_RESULTATS\\2404161515-0001.txt\"\n",
    "hl7 = open(file_path, \"r\").read()\n",
    "\n",
    "try:\n",
    "    msg = parser.parse_message(hl7.replace('\\n', '\\r'), find_groups=True, validation_level=2)\n",
    "except UnsupportedVersion:\n",
    "    print('Unsupported version')\n",
    "    msg = parser.parse_message(hl7.replace('\\n', '\\r'), find_groups=True, validation_level=2)\n",
    "\n",
    "indent = \"    \"\n",
    "indent_seg = \"    \"\n",
    "indent_fld = \"        \"\n",
    "\n",
    "def subgroup (group, indent):\n",
    "    indent = indent + \"    \"\n",
    "    print (indent , group)\n",
    "    for group_segment in group.children:\n",
    "        if isinstance(group_segment, Group):\n",
    "            subgroup (group_segment)\n",
    "        else: \n",
    "            print(indent_seg, indent ,group_segment)\n",
    "            for attribute in group_segment.children:\n",
    "                print(indent_fld, indent ,attribute, attribute.value)\n",
    "\n",
    "\n",
    "def showmsg (msg):\n",
    "    #print(msg.children[1])\n",
    "    for segment in msg.children:\n",
    "        if isinstance(segment, Segment):\n",
    "            print (indent ,segment)\n",
    "            for attribute in segment.children:\n",
    "                print(indent_fld, indent, attribute, attribute.value)\n",
    "        if isinstance(segment, Group):\n",
    "            for group in segment.children:\n",
    "                print (indent,group)\n",
    "                for group_segment in group.children:\n",
    "                    if isinstance (group_segment, Group): \n",
    "                        subgroup (group_segment, indent)\n",
    "                    else:\n",
    "                        print(indent_seg, indent ,group_segment)\n",
    "                        for attribute in group_segment.children:\n",
    "                            print(indent_fld, indent, attribute, attribute.value)\n",
    "\n",
    "showmsg (msg)     "
   ]
  },
  {
   "cell_type": "code",
   "execution_count": 5,
   "id": "af7fc0e9",
   "metadata": {
    "scrolled": true
   },
   "outputs": [
    {
     "name": "stdout",
     "output_type": "stream",
     "text": [
      "<Message ORU_R01>\n"
     ]
    }
   ],
   "source": [
    "print(msg)"
   ]
  },
  {
   "cell_type": "code",
   "execution_count": 11,
   "id": "c9839216",
   "metadata": {},
   "outputs": [
    {
     "name": "stdout",
     "output_type": "stream",
     "text": [
      "<Field MSH_1 (FIELD_SEPARATOR) of type ST>\n",
      "<Field MSH_2 (ENCODING_CHARACTERS) of type ST>\n",
      "<Field MSH_3 (SENDING_APPLICATION) of type ST>\n",
      "<Field MSH_4 (SENDING_FACILITY) of type ST>\n",
      "<Field MSH_5 (RECEIVING_APPLICATION) of type ST>\n",
      "<Field MSH_6 (RECEIVING_FACILITY) of type ST>\n",
      "<Field MSH_7 (DATE_TIME_OF_MESSAGE) of type TS>\n",
      "<Field MSH_9 (MESSAGE_TYPE) of type CM_MSG>\n",
      "<Field MSH_10 (MESSAGE_CONTROL_ID) of type ST>\n",
      "<Field MSH_11 (PROCESSING_ID) of type ID>\n",
      "<Field MSH_12 (VERSION_ID) of type NM>\n",
      "<Field of type None>\n",
      "<Field of type None>\n",
      "<Group ORU_R01_PATIENT>\n",
      "<Group ORU_R01_ORDER_OBSERVATION>\n"
     ]
    }
   ],
   "source": [
    "for segment in msg.children:\n",
    "    for attribute in segment.children:\n",
    "        print(attribute)\n",
    "    "
   ]
  },
  {
   "cell_type": "code",
   "execution_count": 33,
   "id": "737964e1",
   "metadata": {},
   "outputs": [
    {
     "name": "stdout",
     "output_type": "stream",
     "text": [
      "[<Segment MSH>, <Group ORU_R01_PATIENT_RESULT>]\n"
     ]
    }
   ],
   "source": [
    "print(msg.children)"
   ]
  },
  {
   "cell_type": "code",
   "execution_count": 25,
   "id": "ddbb5afc",
   "metadata": {},
   "outputs": [
    {
     "data": {
      "text/plain": [
       "[<Field MSH_1 (FIELD_SEPARATOR) of type ST>, <Field MSH_2 (ENCODING_CHARACTERS) of type ST>, <Field MSH_3 (SENDING_APPLICATION) of type ST>, <Field MSH_4 (SENDING_FACILITY) of type ST>, <Field MSH_5 (RECEIVING_APPLICATION) of type ST>, <Field MSH_6 (RECEIVING_FACILITY) of type ST>, <Field MSH_7 (DATE_TIME_OF_MESSAGE) of type TS>, <Field MSH_9 (MESSAGE_TYPE) of type CM_MSG>, <Field MSH_10 (MESSAGE_CONTROL_ID) of type ST>, <Field MSH_11 (PROCESSING_ID) of type ID>, <Field MSH_12 (VERSION_ID) of type NM>, <Field of type None>, <Field of type None>]"
      ]
     },
     "execution_count": 25,
     "metadata": {},
     "output_type": "execute_result"
    }
   ],
   "source": [
    "msg.msh.children"
   ]
  },
  {
   "cell_type": "code",
   "execution_count": 34,
   "id": "317c438a",
   "metadata": {},
   "outputs": [
    {
     "data": {
      "text/plain": [
       "[<Group ORU_R01_PATIENT>, <Group ORU_R01_ORDER_OBSERVATION>]"
      ]
     },
     "execution_count": 34,
     "metadata": {},
     "output_type": "execute_result"
    }
   ],
   "source": [
    "msg.ORU_R01_PATIENT_RESULT.children"
   ]
  },
  {
   "cell_type": "code",
   "execution_count": 37,
   "id": "e8acdaf9",
   "metadata": {},
   "outputs": [
    {
     "data": {
      "text/plain": [
       "[<Segment PID>, <Segment PV1>]"
      ]
     },
     "execution_count": 37,
     "metadata": {},
     "output_type": "execute_result"
    }
   ],
   "source": [
    "msg.ORU_R01_PATIENT_RESULT.ORU_R01_PATIENT.children"
   ]
  },
  {
   "cell_type": "code",
   "execution_count": 38,
   "id": "51e1c79b",
   "metadata": {},
   "outputs": [
    {
     "data": {
      "text/plain": [
       "[<Field PID_1 (SET_ID_PATIENT_ID) of type SI>, <Field PID_3 (PATIENT_ID_INTERNAL_ID) of type CK>, <Field PID_5 (PATIENT_NAME) of type PN>, <Field PID_7 (DATE_OF_BIRTH) of type DT>, <Field PID_8 (SEX) of type ID>, <Field of type None>, <Field of type None>]"
      ]
     },
     "execution_count": 38,
     "metadata": {},
     "output_type": "execute_result"
    }
   ],
   "source": [
    "msg.ORU_R01_PATIENT_RESULT.ORU_R01_PATIENT.pid.children"
   ]
  },
  {
   "cell_type": "code",
   "execution_count": 39,
   "id": "8fcd9fe2",
   "metadata": {},
   "outputs": [
    {
     "data": {
      "text/plain": [
       "[<Field PV1_1 (SET_ID_PATIENT_VISIT) of type SI>, <Field PV1_2 (PATIENT_CLASS) of type ID>, <Field PV1_3 (ASSIGNED_PATIENT_LOCATION) of type None>, <Field PV1_19 (VISIT_NUMBER) of type NM>, <Field PV1_44 (ADMIT_DATE_TIME) of type TS>]"
      ]
     },
     "execution_count": 39,
     "metadata": {},
     "output_type": "execute_result"
    }
   ],
   "source": [
    "msg.ORU_R01_PATIENT_RESULT.ORU_R01_PATIENT.pv1.children"
   ]
  },
  {
   "cell_type": "code",
   "execution_count": 42,
   "id": "2c32db06",
   "metadata": {},
   "outputs": [
    {
     "data": {
      "text/plain": [
       "[<Segment OBR>, <Group ORU_R01_OBSERVATION>, <Group ORU_R01_OBSERVATION>, <Group ORU_R01_OBSERVATION>, <Group ORU_R01_OBSERVATION>, <Group ORU_R01_OBSERVATION>, <Group ORU_R01_OBSERVATION>, <Group ORU_R01_OBSERVATION>, <Group ORU_R01_OBSERVATION>, <Group ORU_R01_OBSERVATION>, <Group ORU_R01_OBSERVATION>, <Group ORU_R01_OBSERVATION>, <Group ORU_R01_OBSERVATION>, <Group ORU_R01_OBSERVATION>, <Group ORU_R01_OBSERVATION>, <Group ORU_R01_OBSERVATION>, <Group ORU_R01_OBSERVATION>, <Group ORU_R01_OBSERVATION>, <Group ORU_R01_OBSERVATION>, <Group ORU_R01_OBSERVATION>, <Group ORU_R01_OBSERVATION>, <Group ORU_R01_OBSERVATION>, <Group ORU_R01_OBSERVATION>, <Group ORU_R01_OBSERVATION>, <Group ORU_R01_OBSERVATION>, <Group ORU_R01_OBSERVATION>, <Group ORU_R01_OBSERVATION>, <Group ORU_R01_OBSERVATION>, <Group ORU_R01_OBSERVATION>, <Group ORU_R01_OBSERVATION>, <Group ORU_R01_OBSERVATION>, <Group ORU_R01_OBSERVATION>, <Group ORU_R01_OBSERVATION>, <Group ORU_R01_OBSERVATION>, <Group ORU_R01_OBSERVATION>, <Group ORU_R01_OBSERVATION>, <Group ORU_R01_OBSERVATION>, <Group ORU_R01_OBSERVATION>, <Group ORU_R01_OBSERVATION>, <Group ORU_R01_OBSERVATION>, <Group ORU_R01_OBSERVATION>, <Group ORU_R01_OBSERVATION>, <Group ORU_R01_OBSERVATION>, <Group ORU_R01_OBSERVATION>, <Group ORU_R01_OBSERVATION>, <Group ORU_R01_OBSERVATION>, <Group ORU_R01_OBSERVATION>, <Group ORU_R01_OBSERVATION>, <Group ORU_R01_OBSERVATION>]"
      ]
     },
     "execution_count": 42,
     "metadata": {},
     "output_type": "execute_result"
    }
   ],
   "source": [
    "msg.ORU_R01_PATIENT_RESULT.ORU_R01_ORDER_OBSERVATION.children"
   ]
  },
  {
   "cell_type": "code",
   "execution_count": 43,
   "id": "04d00c39",
   "metadata": {},
   "outputs": [
    {
     "data": {
      "text/plain": [
       "[<Field OBR_1 (SET_ID_OBSERVATION_REQUEST) of type SI>, <Field OBR_3 (FILLER_ORDER_NUMBER) of type CM>, <Field OBR_7 (OBSERVATION_DATE_TIME) of type TS>, <Field OBR_14 (SPECIMEN_RECEIVED_DATE_TIME) of type TS>, <Field OBR_16 (ORDERING_PROVIDER) of type CN>, <Field OBR_22 (RESULTS_REPORT_STATUS_CHANGE_DATE_TIME) of type TS>, <Field OBR_24 (DIAGNOSTIC_SERVICE_SECTION_ID) of type ID>, <Field OBR_25 (RESULT_STATUS) of type ID>, <Field OBR_27 (QUANTITY_TIMING) of type None>]"
      ]
     },
     "execution_count": 43,
     "metadata": {},
     "output_type": "execute_result"
    }
   ],
   "source": [
    "msg.ORU_R01_PATIENT_RESULT.ORU_R01_ORDER_OBSERVATION.obr.children"
   ]
  },
  {
   "cell_type": "code",
   "execution_count": 44,
   "id": "e8aaec73",
   "metadata": {},
   "outputs": [
    {
     "data": {
      "text/plain": [
       "[<Segment OBX>]"
      ]
     },
     "execution_count": 44,
     "metadata": {},
     "output_type": "execute_result"
    }
   ],
   "source": [
    "msg.ORU_R01_PATIENT_RESULT.ORU_R01_ORDER_OBSERVATION.ORU_R01_OBSERVATION.children"
   ]
  },
  {
   "cell_type": "code",
   "execution_count": 45,
   "id": "9cc5f5b7",
   "metadata": {},
   "outputs": [
    {
     "data": {
      "text/plain": [
       "[<Field OBX_1 (SET_ID_OBSERVATIONAL_SIMPLE) of type SI>, <Field OBX_2 (VALUE_TYPE) of type ID>, <Field OBX_3 (OBSERVATION_IDENTIFIER) of type CE>, <Field OBX_5 (OBSERVATION_RESULTS) of type varies>, <Field OBX_6 (UNITS) of type None>, <Field OBX_7 (REFERENCES_RANGE) of type ST>, <Field OBX_8 (ABNORMAL_FLAGS) of type ST>, <Field OBX_11 (OBSERVATION_RESULT_STATUS) of type ID>, <Field of type None>, <Field of type None>, <Field of type None>]"
      ]
     },
     "execution_count": 45,
     "metadata": {},
     "output_type": "execute_result"
    }
   ],
   "source": [
    "msg.ORU_R01_PATIENT_RESULT.ORU_R01_ORDER_OBSERVATION.ORU_R01_OBSERVATION.obx.children"
   ]
  },
  {
   "cell_type": "code",
   "execution_count": 5,
   "id": "d769aace",
   "metadata": {},
   "outputs": [
    {
     "name": "stdout",
     "output_type": "stream",
     "text": [
      "{'FIELD': '|', 'COMPONENT': '^', 'REPETITION': '~', 'ESCAPE': '\\\\', 'SUBCOMPONENT': '&', 'GROUP': '\\r', 'SEGMENT': '\\r'}\n"
     ]
    }
   ],
   "source": [
    "# Signifation des différents séparateurs dans l'encodage HL7\n",
    "print(msg.msh.encoding_chars)"
   ]
  },
  {
   "cell_type": "code",
   "execution_count": 60,
   "id": "f4ce2c0e",
   "metadata": {},
   "outputs": [
    {
     "name": "stdout",
     "output_type": "stream",
     "text": [
      "<Message ORU_R01>\n"
     ]
    }
   ],
   "source": [
    "print(msg)"
   ]
  },
  {
   "cell_type": "code",
   "execution_count": 83,
   "id": "ae1027ad",
   "metadata": {},
   "outputs": [
    {
     "name": "stdout",
     "output_type": "stream",
     "text": [
      "MSH|^~\\&|DATACAPTOR||||20221027140215||ORU^R01|2a27140215385841|P|2.3||||||8859/1\r",
      "PID\r",
      "PV1||I|CH2\r",
      "OBR|||||||20221027140214|||CH2|||CH2\r",
      "OBX|1|NA|113||2749^2803^2853^2899^2939^2975^3005^3029^3048^3062^3070^3072^3068^3059^3045^3026^3002^2973^2939^2902^2860^2816^2768^2717^2664^2609^2553^2495^2437^2379^2320^2263^2206^2150^2096^2043^1993^1945^1899^1856^1816^1779^1746^1715^1687^1663^1641^1623^1607^1594^1583^1575^1569^1565^1562^1561^1561^1562^1563^1565^1566^1568^1568^1568|139|||||F||8.0036|20221027140214\r",
      "MSH|^~\\&|DATACAPTOR||||20221027140215||ORU^R01|2a27140215386851|P|2.3||||||8859/1\r",
      "PID\r",
      "PV1||I|CH2\r",
      "OBR|||||||20221027140214|||CH2|||CH2\r",
      "OBX|1|NA|5141||-0.005^-0.005^-0.005^-0.005^-0.005^-0.005^-0.005^-0.005^-0.005^-0.005^-0.005^-0.005^-0.005^-0.005^-0.005^-0.005^-0.005^-0.005^-0.005^-0.005^-0.005^-0.005^-0.005^-0.005^-0.005^-0.005^-0.005^-0.005^-0.005^-0.005^-0.005^-0.005^-0.005^-0.005^-0.005^-0.005^-0.005^-0.005^-0.005^-0.005^-0.005^-0.005^-0.005^-0.005^-0.005^-0.005^-0.005^-0.005^-0.005^-0.005^-0.005^-0.005^-0.005^-0.005^-0.005^-0.005^-0.005^-0.005^-0.005^-0.005^-0.005^-0.005^-0.005^-0.005^-0.005^-0.005^-0.005^-0.005^-0.005^-0.005^-0.005^-0.005^-0.005^-0.005^-0.005^-0.005^-0.005^-0.005^-0.005^-0.005^-0.005^-0.005^-0.005^-0.005^-0.005^-0.005^-0.005^-0.005^-0.005^-0.005^-0.005^-0.005^-0.005^-0.005^-0.005^-0.005^-0.005^-0.005^-0.005^-0.005^-0.005^-0.005^-0.005^-0.005^-0.005^-0.005^-0.005^-0.005^-0.005^-0.005^-0.005^-0.005^-0.005^-0.005^-0.005^-0.005^-0.005^-0.005^-0.005^-0.005^-0.005^-0.005^-0.005^-0.005^-0.005^-0.005^-0.005^-0.005^-0.005^-0.005^-0.005^-0.005^-0.005^-0.005^-0.005^-0.005^-0.005^-0.005^-0.005^-0.005^-0.005^-0.005^-0.005^-0.005^-0.005^-0.005^-0.005^-0.005^-0.005^-0.005^-0.005^-0.005^-0.005^-0.005^-0.005^-0.005^-0.005^-0.005^-0.005^-0.005^-0.005^-0.005^-0.005^-0.005^-0.005^-0.005^-0.005^-0.005^-0.005^-0.005^-0.005^-0.005^-0.005^-0.005^-0.005^-0.005^-0.005^-0.005^-0.005^-0.005^-0.005^-0.005^-0.005^-0.005^-0.005^-0.005^-0.005^-0.005^-0.005^-0.005^-0.005^-0.005^-0.005^-0.005^-0.005^-0.005^-0.005^-0.005^-0.005^-0.005^-0.005^-0.005^-0.005^-0.005^-0.005^-0.005^-0.005^-0.005^-0.005^-0.005^-0.005^-0.005^-0.005^-0.005^-0.005^-0.005^-0.005^-0.005^-0.005^-0.005^-0.005^-0.005^-0.005^-0.005^-0.005^-0.005^-0.005^-0.005^-0.005^-0.005^-0.005^-0.005^-0.005^-0.005^-0.005^-0.005^-0.005^-0.005^-0.005^-0.005^-0.005^-0.005^-0.005^2.02^-0.005^-0.005^-0.005^-0.005^-0.005^-0.005^-0.005^-0.005^-0.005^-0.005^-0.005^-0.005|47|||||F||2.0009|20221027140214\r",
      "OBX|2|NA|5142||-0.005^-0.005^-0.005^-0.005^-0.005^-0.005^-0.005^-0.005^-0.005^-0.005^-0.005^-0.005^-0.005^-0.005^-0.005^-0.005^-0.005^-0.005^-0.005^-0.005^-0.005^-0.005^-0.005^-0.005^-0.005^-0.005^-0.005^-0.005^-0.005^-0.005^-0.005^-0.005^-0.005^-0.005^-0.005^-0.005^-0.005^-0.005^-0.005^-0.005^-0.005^-0.005^-0.005^-0.005^-0.005^-0.005^-0.005^-0.005^-0.005^-0.005^-0.005^-0.005^-0.005^-0.005^-0.005^-0.005^-0.005^-0.005^-0.005^-0.005^-0.005^-0.005^-0.005^-0.005^-0.005^-0.005^-0.005^-0.005^-0.005^-0.005^-0.005^-0.005^-0.005^-0.005^-0.005^-0.005^-0.005^-0.005^-0.005^-0.005^-0.005^-0.005^-0.005^-0.005^-0.005^-0.005^-0.005^-0.005^-0.005^-0.005^-0.005^-0.005^-0.005^-0.005^-0.005^-0.005^-0.005^-0.005^-0.005^-0.005^-0.005^-0.005^-0.005^-0.005^-0.005^-0.005^-0.005^-0.005^-0.005^-0.005^-0.005^-0.005^-0.005^-0.005^-0.005^-0.005^-0.005^-0.005^-0.005^-0.005^-0.005^-0.005^-0.005^-0.005^-0.005^-0.005^-0.005^-0.005^-0.005^-0.005^-0.005^-0.005^-0.005^-0.005^-0.005^-0.005^-0.005^-0.005^-0.005^-0.005^-0.005^-0.005^-0.005^-0.005^-0.005^-0.005^-0.005^-0.005^-0.005^-0.005^-0.005^-0.005^-0.005^-0.005^-0.005^-0.005^-0.005^-0.005^-0.005^-0.005^-0.005^-0.005^-0.005^-0.005^-0.005^-0.005^-0.005^-0.005^-0.005^-0.005^-0.005^-0.005^-0.005^-0.005^-0.005^-0.005^-0.005^-0.005^-0.005^-0.005^-0.005^-0.005^-0.005^-0.005^-0.005^-0.005^-0.005^-0.005^-0.005^-0.005^-0.005^-0.005^-0.005^-0.005^-0.005^-0.005^-0.005^-0.005^-0.005^-0.005^-0.005^-0.005^-0.005^-0.005^-0.005^-0.005^-0.005^-0.005^-0.005^-0.005^-0.005^-0.005^-0.005^-0.005^-0.005^-0.005^-0.005^-0.005^-0.005^-0.005^-0.005^-0.005^-0.005^-0.005^-0.005^-0.005^-0.005^-0.005^-0.005^-0.005^-0.005^-0.005^-0.005^-0.005^-0.005^-0.005^-0.005^-0.005^-0.005^-0.005^-0.005^-0.005^-0.005^1.3^-0.005^-0.005^-0.005^-0.005^-0.005^-0.005^-0.005^-0.005^-0.005^-0.005^-0.005^-0.005|47|||||F||2.0009|20221027140214\r",
      "MSH|^~\\&|DATACAPTOR||||20221027140215||ORU^R01|2a27140215386861|P|2.3||||||8859/1\r",
      "PID\r",
      "PV1||I|CH2\r",
      "OBR|||||||20221027140214|||CH2|||CH2\r",
      "OBX|1|NA|8857||100^98.5625^97.25^96.0625^94.875^93.6875^92.5625^91.375^90.375^89.5^88.75^88.0625^87.3125^86.5625^85.9375^85.3125^84.75^84.0625^83.375^82.6875^82^81.3125^80.625^79.8125^79.125^78.5^78^77.5^77.0625^76.625^76.1875^75.75^75.4375^75.0625^74.6875^74.375^74.0625^73.75^73.5^73.1875^72.9375^72.6875^72.4375^72.25^72^71.75^71.5625^71.375^71.1875^71^70.875^70.6875^70.5625^70.4375^70.3125^70.1875^70.125^70.0625^70^70^70^70.0625^70.125^70.25|9|||||F||8.0036|20221027140214\r",
      "MSH|^~\\&|DATACAPTOR||||20221027140215||ORU^R01|2a27140215386871|P|2.3||||||8859/1\r",
      "PID\r",
      "PV1||I|CH2\r",
      "OBR|||||||20221027140214|||CH2|||CH2\r",
      "OBX|1|NA|8870||0.016825^0.017143^0.01746^0.01746^0.017778^0.017778^0.018095^0.018095^0.018413^0.018413^0.01873^0.01873^0.019048^0.019048^0.019365^0.019365^0.019683^0.019683^0.02^0.02^0.020317^0.020317^0.020635^0.020635^0.02127^0.02254^0.024444^0.026984^0.030159^0.033651^0.037778^0.043175|84|||||F||16.0072|20221027140214\r",
      "MSH|^~\\&|DATACAPTOR||||20221027140215||ORU^R01|2a27140215567881|P|2.3||||||8859/1\r",
      "PID\r",
      "PV1||I|CH2\r",
      "OBR|||||||20221027140215|||CH2|||CH2\r",
      "OBX|1|NA|113||1567^1565^1562^1557^1550^1541^1531^1519^1504^1488^1470^1451^1429^1407^1382^1357^1331^1304^1276^1249^1222^1195^1169^1144^1120^1099^1079^1062^1048^1037^1029^1025^1024^1028^1035^1048^1064^1086^1111^1142^1177^1216^1260^1309^1361^1417^1477^1541^1607^1676^1747^1820^1895^1971^2047^2124^2201^2276^2351^2424^2495^2563^2628^2691|139|||||F||8.0036|20221027140215\r",
      "MSH|^~\\&|DATACAPTOR||||20221027140215||ORU^R01|2a27140215567891|P|2.3||||||8859/1\r",
      "PID\r",
      "PV1||I|CH2\r",
      "OBR|||||||20221027140215|||CH2|||CH2\r",
      "OBX|1|NA|5141||-0.005^-0.005^-0.005^-0.005^-0.005^-0.005^-0.005^-0.005^-0.005^-0^0.01^0.02^0.04^0.06^0.085^0.12^0.155^0.195^0.24^0.29^0.335^0.38^0.43^0.475^0.525^0.57^0.615^0.66^0.705^0.74^0.77^0.79^0.8^0.8^0.795^0.775^0.745^0.705^0.66^0.61^0.56^0.505^0.455^0.4^0.345^0.295^0.24^0.19^0.14^0.095^0.05^0.01^-0.02^-0.05^-0.075^-0.09^-0.105^-0.11^-0.115^-0.115^-0.115^-0.115^-0.115^-0.115^-0.115^-0.115^-0.115^-0.115^-0.11^-0.11^-0.11^-0.11^-0.11^-0.11^-0.11^-0.11^-0.105^-0.105^-0.105^-0.105^-0.105^-0.105^-0.105^-0.105^-0.1^-0.1^-0.1^-0.1^-0.1^-0.1^-0.1^-0.1^-0.1^-0.095^-0.095^-0.095^-0.095^-0.095^-0.095^-0.095^-0.09^-0.09^-0.09^-0.09^-0.09^-0.09^-0.09^-0.09^-0.085^-0.085^-0.085^-0.085^-0.085^-0.085^-0.085^-0.085^-0.08^-0.08^-0.08^-0.08^-0.08^-0.08^-0.08^-0.08^-0.08^-0.08^-0.08^-0.075^-0.075^-0.075^-0.075^-0.075^-0.075^-0.075^-0.075^-0.075^-0.075^-0.075^-0.075^-0.075^-0.075^-0.075^-0.075^-0.075^-0.07^-0.07^-0.07^-0.07^-0.07^-0.07^-0.07^-0.07^-0.07^-0.07^-0.07^-0.07^-0.07^-0.07^-0.07^-0.065^-0.065^-0.065^-0.065^-0.065^-0.065^-0.065^-0.065^-0.065^-0.07^-0.07^-0.075^-0.075^-0.08^-0.085^-0.09^-0.095^-0.1^-0.105^-0.11^-0.115^-0.12^-0.125^-0.13^-0.135^-0.14^-0.145^-0.15^-0.15^-0.155^-0.16^-0.165^-0.17^-0.175^-0.18^-0.185^-0.19^-0.195^-0.2^-0.205^-0.205^-0.21^-0.215^-0.215^-0.215^-0.215^-0.21^-0.21^-0.205^-0.2^-0.195^-0.185^-0.18^-0.175^-0.165^-0.16^-0.155^-0.145^-0.14^-0.135^-0.125^-0.12^-0.115^-0.11^-0.1^-0.095^-0.09^-0.085^-0.075^-0.07^-0.065^-0.06^-0.05^-0.045^-0.04^-0.035^-0.03^-0.025^-0.02^-0.015^-0.015^-0.01^-0.01^-0.005^-0.005^-0.005^-0.005^-0.005^-0.005^-0.005^-0.005^-0.005^-0.005^-0.005^-0.005^-0.005^-0.005|47|||||F||2.0009|20221027140215\r",
      "OBX|2|NA|5142||-0.005^-0.005^-0.005^-0.005^-0.005^-0.005^-0.005^-0.005^-0.005^-0.005^0.005^0.015^0.035^0.045^0.065^0.095^0.115^0.145^0.175^0.215^0.245^0.275^0.315^0.345^0.385^0.415^0.445^0.475^0.505^0.525^0.545^0.565^0.565^0.565^0.565^0.545^0.525^0.495^0.465^0.425^0.395^0.355^0.315^0.275^0.235^0.205^0.155^0.125^0.095^0.065^0.025^-0.005^-0.015^-0.045^-0.065^-0.065^-0.075^-0.075^-0.085^-0.075^-0.075^-0.075^-0.075^-0.075^-0.085^-0.085^-0.085^-0.085^-0.075^-0.075^-0.075^-0.075^-0.075^-0.075^-0.075^-0.075^-0.065^-0.065^-0.065^-0.065^-0.065^-0.075^-0.075^-0.075^-0.065^-0.065^-0.065^-0.065^-0.065^-0.065^-0.065^-0.065^-0.065^-0.055^-0.055^-0.055^-0.065^-0.065^-0.065^-0.065^-0.055^-0.055^-0.055^-0.055^-0.055^-0.055^-0.055^-0.055^-0.045^-0.045^-0.045^-0.045^-0.055^-0.055^-0.055^-0.055^-0.045^-0.045^-0.045^-0.045^-0.045^-0.045^-0.045^-0.045^-0.045^-0.045^-0.045^-0.035^-0.045^-0.045^-0.045^-0.045^-0.045^-0.045^-0.045^-0.045^-0.045^-0.045^-0.045^-0.045^-0.045^-0.045^-0.045^-0.045^-0.045^-0.045^-0.045^-0.045^-0.045^-0.045^-0.045^-0.045^-0.045^-0.045^-0.045^-0.045^-0.045^-0.045^-0.045^-0.035^-0.045^-0.045^-0.045^-0.045^-0.045^-0.045^-0.045^-0.045^-0.055^-0.055^-0.055^-0.055^-0.055^-0.065^-0.065^-0.065^-0.075^-0.075^-0.085^-0.085^-0.085^-0.095^-0.095^-0.105^-0.105^-0.105^-0.115^-0.105^-0.115^-0.115^-0.115^-0.125^-0.125^-0.135^-0.135^-0.135^-0.145^-0.145^-0.155^-0.145^-0.155^-0.165^-0.165^-0.165^-0.165^-0.155^-0.165^-0.165^-0.155^-0.155^-0.145^-0.145^-0.145^-0.135^-0.125^-0.125^-0.115^-0.115^-0.115^-0.095^-0.095^-0.095^-0.095^-0.085^-0.075^-0.075^-0.075^-0.065^-0.065^-0.065^-0.055^-0.045^-0.045^-0.035^-0.035^-0.035^-0.025^-0.025^-0.015^-0.015^-0.015^-0.015^-0.005^-0.005^-0.005^-0.005^-0.005^-0.005^-0.005^-0.005^-0.005^-0.005^-0.005^-0.005^-0.005^-0.005|47|||||F||2.0009|20221027140215\r",
      "MSH|^~\\&|DATACAPTOR||||20221027140215||ORU^R01|2a271402155678a1|P|2.3||||||8859/1\r",
      "PID\r",
      "PV1||I|CH2\r",
      "OBR|||||||20221027140215|||CH2|||CH2\r",
      "OBX|1|NA|8857||70.3125^70.5^70.8125^71.375^72.1875^73.4375^75.1875^77.5^80.25^83.5625^87.375^91.5^95.5^99.25^102.625^105.75^108.8125^111.5^113.6875^115.3125^116.5^117.4375^118.1875^118.8125^119.25^119.625^119.9375^120.125^120.25^120.125^119.875^119.375^118.75^117.9375^117^115.875^114.5^113^111.3125^109.8125^108.4375^107.3125^106.375^105.5625^104.875^104.25^103.6875^103.1875^102.8125^102.875^103.5625^104.75^105.875^106.5625^106.8125^106.75^106.375^105.625^104.4375^103.0625^101.5625^100^98.5625^97.25|9|||||F||8.0036|20221027140215\r",
      "MSH|^~\\&|DATACAPTOR||||20221027140215||ORU^R01|2a271402155678b1|P|2.3||||||8859/1\r",
      "PID\r",
      "PV1||I|CH2\r",
      "OBR|||||||20221027140215|||CH2|||CH2\r",
      "OBX|1|NA|8870||0.049524^0.056825^0.064762^0.074286^0.085079^0.096825^0.109206^0.122222^0.135873^0.150794^0.166984^0.18381^0.20127^0.219365^0.237778^0.25619^0.275238^0.294286^0.313333^0.333333^0.354286^0.374603^0.394921^0.415873^0.43746^0.459683^0.481905^0.503175^0.524127^0.545397^0.566984^0.587937|84|||||F||16.0072|20221027140215\r",
      "MSH|^~\\&|DATACAPTOR||||20221027140216||ORU^R01|2a271402163678c1|P|2.3||||||8859/1\r",
      "PID\r",
      "PV1||I|CH2\r",
      "OBR|||||||20221027140215|||CH2|||CH2\r",
      "OBX|1|NA|113||2749^2803^2853^2899^2939^2975^3005^3029^3048^3062^3070^3072^3068^3059^3045^3026^3002^2973^2939^2902^2860^2816^2768^2717^2664^2609^2553^2495^2437^2379^2320^2263^2206^2150^2096^2043^1993^1945^1899^1856^1816^1779^1746^1715^1687^1663^1641^1623^1607^1594^1583^1575^1569^1565^1562^1561^1561^1562^1563^1565^1566^1568^1568^1568|139|||||F||8.0036|20221027140215\r",
      "MSH|^~\\&|DATACAPTOR||||20221027140216||ORU^R01|2a271402163678d1|P|2.3||||||8859/1\r",
      "PID\r",
      "PV1||I|CH2\r",
      "OBR|||||||20221027140215|||CH2|||CH2\r",
      "OBX|1|NA|5141||-0.005^-0.005^-0.005^-0.005^-0.005^-0.005^-0.005^-0.005^-0.005^-0.005^-0.005^-0.005^-0.005^-0.005^-0.005^-0.005^-0.005^-0.005^-0.005^-0.005^-0.005^-0.005^-0.005^-0.005^-0.005^-0.005^-0.005^-0.005^-0.005^-0.005^-0.005^-0.005^-0.005^-0.005^-0.005^-0.005^-0.005^-0.005^-0.005^-0.005^-0.005^-0.005^-0.005^-0.005^-0.005^-0.005^-0.005^-0.005^-0.005^-0.005^-0.005^-0.005^-0.005^-0.005^-0.005^-0.005^-0.005^-0.005^-0.005^-0.005^-0.005^-0.005^-0.005^-0.005^-0.005^-0.005^-0.005^-0.005^-0.005^-0.005^-0.005^-0.005^-0.005^-0.005^-0.005^-0.005^-0.005^-0.005^-0.005^-0.005^-0.005^-0.005^-0.005^-0.005^-0.005^-0.005^-0.005^-0.005^-0.005^-0.005^-0.005^-0.005^-0.005^-0.005^-0.005^-0.005^-0.005^-0.005^-0.005^-0.005^-0.005^-0.005^-0.005^-0.005^-0.005^-0.005^-0.005^-0.005^-0.005^-0.005^-0.005^-0.005^-0.005^-0.005^-0.005^-0.005^-0.005^-0.005^-0.005^-0.005^-0.005^-0.005^-0.005^-0.005^-0.005^-0.005^-0.005^-0.005^-0.005^-0.005^-0.005^-0.005^-0.005^-0.005^-0.005^-0.005^-0.005^-0.005^-0.005^-0.005^-0.005^-0.005^-0.005^-0.005^-0.005^-0.005^-0.005^-0.005^-0.005^-0.005^-0.005^-0.005^-0.005^-0.005^-0.005^-0.005^-0.005^-0.005^-0.005^-0.005^-0.005^-0.005^-0.005^-0.005^-0.005^-0.005^-0.005^-0.005^-0.005^-0.005^-0.005^-0.005^-0.005^-0.005^-0.005^-0.005^-0.005^-0.005^-0.005^-0.005^-0.005^-0.005^-0.005^-0.005^-0.005^-0.005^-0.005^-0.005^-0.005^-0.005^-0.005^-0.005^-0.005^-0.005^-0.005^-0.005^-0.005^-0.005^-0.005^-0.005^-0.005^-0.005^-0.005^-0.005^-0.005^-0.005^-0.005^-0.005^-0.005^-0.005^-0.005^-0.005^-0.005^-0.005^-0.005^-0.005^-0.005^-0.005^-0.005^-0.005^-0.005^-0.005^-0.005^-0.005^-0.005^-0.005^-0.005^-0.005^-0.005^-0.005^-0.005^2.02^-0.005^-0.005^-0.005^-0.005^-0.005^-0.005^-0.005^-0.005^-0.005^-0.005^-0.005^-0.005^-0.005^-0.005^-0.005^-0.005^-0.005^-0.005^-0.005^-0.005^-0.005^-0^0.01^0.02|47|||||F||2.0009|20221027140215\r",
      "OBX|2|NA|5142||-0.005^-0.005^-0.005^-0.005^-0.005^-0.005^-0.005^-0.005^-0.005^-0.005^-0.005^-0.005^-0.005^-0.005^-0.005^-0.005^-0.005^-0.005^-0.005^-0.005^-0.005^-0.005^-0.005^-0.005^-0.005^-0.005^-0.005^-0.005^-0.005^-0.005^-0.005^-0.005^-0.005^-0.005^-0.005^-0.005^-0.005^-0.005^-0.005^-0.005^-0.005^-0.005^-0.005^-0.005^-0.005^-0.005^-0.005^-0.005^-0.005^-0.005^-0.005^-0.005^-0.005^-0.005^-0.005^-0.005^-0.005^-0.005^-0.005^-0.005^-0.005^-0.005^-0.005^-0.005^-0.005^-0.005^-0.005^-0.005^-0.005^-0.005^-0.005^-0.005^-0.005^-0.005^-0.005^-0.005^-0.005^-0.005^-0.005^-0.005^-0.005^-0.005^-0.005^-0.005^-0.005^-0.005^-0.005^-0.005^-0.005^-0.005^-0.005^-0.005^-0.005^-0.005^-0.005^-0.005^-0.005^-0.005^-0.005^-0.005^-0.005^-0.005^-0.005^-0.005^-0.005^-0.005^-0.005^-0.005^-0.005^-0.005^-0.005^-0.005^-0.005^-0.005^-0.005^-0.005^-0.005^-0.005^-0.005^-0.005^-0.005^-0.005^-0.005^-0.005^-0.005^-0.005^-0.005^-0.005^-0.005^-0.005^-0.005^-0.005^-0.005^-0.005^-0.005^-0.005^-0.005^-0.005^-0.005^-0.005^-0.005^-0.005^-0.005^-0.005^-0.005^-0.005^-0.005^-0.005^-0.005^-0.005^-0.005^-0.005^-0.005^-0.005^-0.005^-0.005^-0.005^-0.005^-0.005^-0.005^-0.005^-0.005^-0.005^-0.005^-0.005^-0.005^-0.005^-0.005^-0.005^-0.005^-0.005^-0.005^-0.005^-0.005^-0.005^-0.005^-0.005^-0.005^-0.005^-0.005^-0.005^-0.005^-0.005^-0.005^-0.005^-0.005^-0.005^-0.005^-0.005^-0.005^-0.005^-0.005^-0.005^-0.005^-0.005^-0.005^-0.005^-0.005^-0.005^-0.005^-0.005^-0.005^-0.005^-0.005^-0.005^-0.005^-0.005^-0.005^-0.005^-0.005^-0.005^-0.005^-0.005^-0.005^-0.005^-0.005^-0.005^-0.005^-0.005^-0.005^-0.005^-0.005^-0.005^-0.005^-0.005^-0.005^-0.005^-0.005^-0.005^-0.005^-0.005^1.3^-0.005^-0.005^-0.005^-0.005^-0.005^-0.005^-0.005^-0.005^-0.005^-0.005^-0.005^-0.005^-0.005^-0.005^-0.005^-0.005^-0.005^-0.005^-0.005^-0.005^-0.005^-0.005^0.005^0.015|47|||||F||2.0009|20221027140215\r",
      "MSH|^~\\&|DATACAPTOR||||20221027140216||ORU^R01|2a271402163678e1|P|2.3||||||8859/1\r",
      "PID\r",
      "PV1||I|CH2\r",
      "OBR|||||||20221027140215|||CH2|||CH2\r",
      "OBX|1|NA|8857||96.0625^94.875^93.6875^92.5625^91.375^90.375^89.5^88.75^88.0625^87.3125^86.5625^85.9375^85.3125^84.75^84.0625^83.375^82.6875^82^81.3125^80.625^79.8125^79.125^78.5^78^77.5^77.0625^76.625^76.1875^75.75^75.4375^75.0625^74.6875^74.375^74.0625^73.75^73.5^73.1875^72.9375^72.6875^72.4375^72.25^72^71.75^71.5625^71.375^71.1875^71^70.875^70.6875^70.5625^70.4375^70.3125^70.1875^70.125^70.0625^70^70^70^70.0625^70.125^70.25^70.3125^70.5^70.8125|9|||||F||8.0036|20221027140215\r",
      "MSH|^~\\&|DATACAPTOR||||20221027140216||ORU^R01|2a271402163678f1|P|2.3||||||8859/1\r",
      "PID\r",
      "PV1||I|CH2\r",
      "OBR|||||||20221027140215|||CH2|||CH2\r",
      "OBX|1|NA|8870||0.608254^0.627937^0.646984^0.666032^0.684444^0.702857^0.720952^0.73873^0.756508^0.773333^0.788889^0.803492^0.81746^0.830794^0.84381^0.855556^0.866032^0.875873^0.884444^0.891746^0.897778^0.90254^0.906667^0.910159^0.913016^0.914603^0.914921^0.914286^0.912698^0.909841^0.905397^0.9|84|||||F||16.0072|20221027140215\r",
      "MSH|^~\\&|DATACAPTOR||||20221027140216||ORU^R01|2a27140216568901|P|2.3||||||8859/1\r",
      "PID\r",
      "PV1||I|CH2\r",
      "OBR|||||||20221027140216|||CH2|||CH2\r",
      "OBX|1|NA|113||1567^1565^1562^1557^1550^1541^1531^1519^1504^1488^1470^1451^1429^1407^1382^1357^1331^1304^1276^1249^1222^1195^1169^1144^1120^1099^1079^1062^1048^1037^1029^1025^1024^1028^1035^1048^1064^1086^1111^1142^1177^1216^1260^1309^1361^1417^1477^1541^1607^1676^1747^1820^1895^1971^2047^2124^2201^2276^2351^2424^2495^2563^2628^2691|139|||||F||8.0036|20221027140216\r",
      "MSH|^~\\&|DATACAPTOR||||20221027140216||ORU^R01|2a27140216568911|P|2.3||||||8859/1\r",
      "PID\r",
      "PV1||I|CH2\r",
      "OBR|||||||20221027140216|||CH2|||CH2\r",
      "OBX|1|NA|5141||0.04^0.06^0.085^0.12^0.155^0.195^0.24^0.29^0.335^0.38^0.43^0.475^0.525^0.57^0.615^0.66^0.705^0.74^0.77^0.79^0.8^0.8^0.79^0.775^0.745^0.705^0.66^0.61^0.56^0.505^0.45^0.4^0.345^0.295^0.24^0.19^0.14^0.095^0.05^0.01^-0.02^-0.05^-0.075^-0.09^-0.105^-0.11^-0.115^-0.115^-0.115^-0.115^-0.115^-0.115^-0.115^-0.115^-0.115^-0.115^-0.11^-0.11^-0.11^-0.11^-0.11^-0.11^-0.11^-0.11^-0.105^-0.105^-0.105^-0.105^-0.105^-0.105^-0.105^-0.105^-0.1^-0.1^-0.1^-0.1^-0.1^-0.1^-0.1^-0.1^-0.1^-0.095^-0.095^-0.095^-0.095^-0.095^-0.095^-0.095^-0.09^-0.09^-0.09^-0.09^-0.09^-0.09^-0.09^-0.09^-0.085^-0.085^-0.085^-0.085^-0.085^-0.085^-0.085^-0.085^-0.08^-0.08^-0.08^-0.08^-0.08^-0.08^-0.08^-0.08^-0.08^-0.08^-0.08^-0.075^-0.075^-0.075^-0.075^-0.075^-0.075^-0.075^-0.075^-0.075^-0.075^-0.075^-0.075^-0.075^-0.075^-0.075^-0.075^-0.075^-0.07^-0.07^-0.07^-0.07^-0.07^-0.07^-0.07^-0.07^-0.07^-0.07^-0.07^-0.07^-0.07^-0.07^-0.07^-0.065^-0.065^-0.065^-0.065^-0.065^-0.065^-0.065^-0.065^-0.065^-0.07^-0.07^-0.075^-0.075^-0.08^-0.085^-0.09^-0.095^-0.1^-0.105^-0.11^-0.115^-0.12^-0.125^-0.13^-0.135^-0.14^-0.145^-0.15^-0.15^-0.155^-0.16^-0.165^-0.17^-0.175^-0.18^-0.185^-0.19^-0.195^-0.2^-0.205^-0.205^-0.21^-0.215^-0.215^-0.215^-0.215^-0.21^-0.21^-0.205^-0.2^-0.19^-0.185^-0.18^-0.175^-0.165^-0.16^-0.15^-0.145^-0.14^-0.135^-0.125^-0.12^-0.115^-0.11^-0.1^-0.095^-0.09^-0.085^-0.075^-0.07^-0.065^-0.06^-0.05^-0.045^-0.04^-0.035^-0.03^-0.025^-0.02^-0.015^-0.015^-0.01^-0.01^-0.005^-0.005^-0.005^-0.005^-0.005^-0.005^-0.005^-0.005^-0.005^-0.005^-0.005^-0.005^-0.005^-0.005^-0.005^-0.005^-0.005^-0.005^-0.005^-0.005^-0.005^-0.005^-0.005^-0.005^-0.005^-0.005|47|||||F||2.0009|20221027140216\r",
      "OBX|2|NA|5142||0.035^0.045^0.065^0.095^0.115^0.145^0.175^0.215^0.245^0.275^0.315^0.345^0.385^0.415^0.445^0.475^0.505^0.525^0.545^0.565^0.565^0.565^0.555^0.545^0.525^0.495^0.465^0.425^0.395^0.355^0.305^0.275^0.235^0.205^0.155^0.125^0.095^0.065^0.025^-0.005^-0.015^-0.045^-0.065^-0.065^-0.075^-0.075^-0.085^-0.075^-0.075^-0.075^-0.075^-0.075^-0.085^-0.085^-0.085^-0.085^-0.075^-0.075^-0.075^-0.075^-0.075^-0.075^-0.075^-0.075^-0.065^-0.065^-0.065^-0.065^-0.065^-0.075^-0.075^-0.075^-0.065^-0.065^-0.065^-0.065^-0.065^-0.065^-0.065^-0.065^-0.065^-0.055^-0.055^-0.055^-0.065^-0.065^-0.065^-0.065^-0.055^-0.055^-0.055^-0.055^-0.055^-0.055^-0.055^-0.055^-0.045^-0.045^-0.045^-0.045^-0.055^-0.055^-0.055^-0.055^-0.045^-0.045^-0.045^-0.045^-0.045^-0.045^-0.045^-0.045^-0.045^-0.045^-0.045^-0.035^-0.045^-0.045^-0.045^-0.045^-0.045^-0.045^-0.045^-0.045^-0.045^-0.045^-0.045^-0.045^-0.045^-0.045^-0.045^-0.045^-0.045^-0.045^-0.045^-0.045^-0.045^-0.045^-0.045^-0.045^-0.045^-0.045^-0.045^-0.045^-0.045^-0.045^-0.045^-0.035^-0.045^-0.045^-0.045^-0.045^-0.045^-0.045^-0.045^-0.045^-0.055^-0.055^-0.055^-0.055^-0.055^-0.065^-0.065^-0.065^-0.075^-0.075^-0.085^-0.085^-0.085^-0.095^-0.095^-0.105^-0.105^-0.105^-0.115^-0.105^-0.115^-0.115^-0.115^-0.125^-0.125^-0.135^-0.135^-0.135^-0.145^-0.145^-0.155^-0.145^-0.155^-0.165^-0.165^-0.165^-0.165^-0.155^-0.165^-0.165^-0.155^-0.145^-0.145^-0.145^-0.145^-0.135^-0.125^-0.115^-0.115^-0.115^-0.115^-0.095^-0.095^-0.095^-0.095^-0.085^-0.075^-0.075^-0.075^-0.065^-0.065^-0.065^-0.055^-0.045^-0.045^-0.035^-0.035^-0.035^-0.025^-0.025^-0.015^-0.015^-0.015^-0.015^-0.005^-0.005^-0.005^-0.005^-0.005^-0.005^-0.005^-0.005^-0.005^-0.005^-0.005^-0.005^-0.005^-0.005^-0.005^-0.005^-0.005^-0.005^-0.005^-0.005^-0.005^-0.005^-0.005^-0.005^-0.005^-0.005|47|||||F||2.0009|20221027140216\r",
      "MSH|^~\\&|DATACAPTOR||||20221027140216||ORU^R01|2a27140216568921|P|2.3||||||8859/1\r",
      "PID\r",
      "PV1||I|CH2\r",
      "OBR|||||||20221027140216|||CH2|||CH2\r",
      "OBX|1|NA|8857||71.375^72.1875^73.4375^75.1875^77.5^80.25^83.5625^87.375^91.5^95.5^99.25^102.625^105.75^108.8125^111.5^113.6875^115.3125^116.5^117.4375^118.1875^118.8125^119.25^119.625^119.9375^120.125^120.25^120.125^119.875^119.375^118.75^117.9375^117^115.875^114.5^113^111.3125^109.8125^108.4375^107.3125^106.375^105.5625^104.875^104.25^103.6875^103.1875^102.8125^102.875^103.5625^104.75^105.875^106.5625^106.8125^106.75^106.375^105.625^104.4375^103.0625^101.5625^100^98.5625^97.25^96.0625^94.875^93.6875|9|||||F||8.0036|20221027140216\r",
      "MSH|^~\\&|DATACAPTOR||||20221027140216||ORU^R01|2a27140216568931|P|2.3||||||8859/1\r",
      "PID\r",
      "PV1||I|CH2\r",
      "OBR|||||||20221027140216|||CH2|||CH2\r",
      "OBX|1|NA|8870||0.893968^0.887302^0.88^0.871429^0.861587^0.851111^0.839365^0.826349^0.812063^0.797143^0.78127^0.764762^0.747937^0.729841^0.710476^0.690159^0.669206^0.647619^0.626032^0.604127^0.581905^0.559683^0.537143^0.513968^0.489841^0.466032^0.44254^0.418413^0.393651^0.368254^0.342857^0.318095|84|||||F||16.0072|20221027140216\r",
      "MSH|^~\\&|DATACAPTOR||||20221027140217||ORU^R01|2a27140217369941|P|2.3||||||8859/1\r",
      "PID\r",
      "PV1||I|CH2\r",
      "OBR|||||||20221027140216|||CH2|||CH2\r",
      "OBX|1|NA|113||2749^2803^2853^2899^2939^2975^3005^3029^3048^3062^3070^3072^3068^3059^3045^3026^3002^2973^2939^2902^2860^2816^2768^2717^2664^2609^2553^2495^2437^2379^2320^2263|139|||||F||8.0036|20221027140216\r",
      "MSH|^~\\&|DATACAPTOR||||20221027140217||ORU^R01|2a27140217370951|P|2.3||||||8859/1\r",
      "PID\r",
      "PV1||I|CH2\r",
      "OBR|||||||20221027140216|||CH2|||CH2\r",
      "OBX|1|NA|5141||-0.005^-0.005^-0.005^-0.005^-0.005^-0.005^-0.005^-0.005^-0.005^-0.005^-0.005^-0.005^-0.005^-0.005^-0.005^-0.005^-0.005^-0.005^-0.005^-0.005^-0.005^-0.005^-0.005^-0.005^-0.005^-0.005^-0.005^-0.005^-0.005^-0.005^-0.005^-0.005^-0.005^-0.005^-0.005^-0.005^-0.005^-0.005^-0.005^-0.005^-0.005^-0.005^-0.005^-0.005^-0.005^-0.005^-0.005^-0.005^-0.005^-0.005^-0.005^-0.005^-0.005^-0.005^-0.005^-0.005^-0.005^-0.005^-0.005^-0.005^-0.005^-0.005^-0.005^-0.005^-0.005^-0.005^-0.005^-0.005^-0.005^-0.005^-0.005^-0.005^-0.005^-0.005^-0.005^-0.005^-0.005^-0.005^-0.005^-0.005^-0.005^-0.005^-0.005^-0.005^-0.005^-0.005^-0.005^-0.005^-0.005^-0.005^-0.005^-0.005^-0.005^-0.005^-0.005^-0.005^-0.005^-0.005^-0.005^-0.005^-0.005^-0.005^-0.005^-0.005^-0.005^-0.005^-0.005^-0.005^-0.005^-0.005^-0.005^-0.005^-0.005^-0.005^-0.005^-0.005^-0.005^-0.005^-0.005^-0.005^-0.005^-0.005^-0.005^-0.005^-0.005^-0.005^-0.005^-0.005|47|||||F||2.0009|20221027140216\r",
      "OBX|2|NA|5142||-0.005^-0.005^-0.005^-0.005^-0.005^-0.005^-0.005^-0.005^-0.005^-0.005^-0.005^-0.005^-0.005^-0.005^-0.005^-0.005^-0.005^-0.005^-0.005^-0.005^-0.005^-0.005^-0.005^-0.005^-0.005^-0.005^-0.005^-0.005^-0.005^-0.005^-0.005^-0.005^-0.005^-0.005^-0.005^-0.005^-0.005^-0.005^-0.005^-0.005^-0.005^-0.005^-0.005^-0.005^-0.005^-0.005^-0.005^-0.005^-0.005^-0.005^-0.005^-0.005^-0.005^-0.005^-0.005^-0.005^-0.005^-0.005^-0.005^-0.005^-0.005^-0.005^-0.005^-0.005^-0.005^-0.005^-0.005^-0.005^-0.005^-0.005^-0.005^-0.005^-0.005^-0.005^-0.005^-0.005^-0.005^-0.005^-0.005^-0.005^-0.005^-0.005^-0.005^-0.005^-0.005^-0.005^-0.005^-0.005^-0.005^-0.005^-0.005^-0.005^-0.005^-0.005^-0.005^-0.005^-0.005^-0.005^-0.005^-0.005^-0.005^-0.005^-0.005^-0.005^-0.005^-0.005^-0.005^-0.005^-0.005^-0.005^-0.005^-0.005^-0.005^-0.005^-0.005^-0.005^-0.005^-0.005^-0.005^-0.005^-0.005^-0.005^-0.005^-0.005^-0.005^-0.005^-0.005^-0.005|47|||||F||2.0009|20221027140216\r",
      "MSH|^~\\&|DATACAPTOR||||20221027140217||ORU^R01|2a27140217370961|P|2.3||||||8859/1\r",
      "PID\r",
      "PV1||I|CH2\r",
      "OBR|||||||20221027140217|||CH2|||CH2\r",
      "OBX|1|NA|8857||92.5625^91.375^90.375^89.5^88.75^88.0625^87.3125^86.5625^85.9375^85.3125^84.75^84.0625^83.375^82.6875^82^81.3125^80.625^79.8125^79.125^78.5^78^77.5^77.0625^76.625^76.1875^75.75^75.4375^75.0625^74.6875^74.375^74.0625^73.75|9|||||F||8.0036|20221027140217\r",
      "MSH|^~\\&|DATACAPTOR||||20221027140217||ORU^R01|2a27140217370971|P|2.3||||||8859/1\r",
      "PID\r",
      "PV1||I|CH2\r",
      "OBR|||||||20221027140217|||CH2|||CH2\r",
      "OBX|1|NA|8870||0.293968^0.269524^0.244762^0.220635^0.197143^0.174286^0.152063^0.130159^0.108571^0.086984^0.066032^0.045397^0.025397^0.007302^-0.009524^-0.025079|84|||||F||16.0072|20221027140217\r",
      "MSH|^~\\&|DATACAPTOR||||20221027140217||ORU^R01|2a27140217572981|P|2.3||||||8859/1\r",
      "PID\r",
      "PV1||I|CH2\r",
      "OBR|||||||20221027140217|||CH2|||CH2\r",
      "OBX|1|NA|113||2206^2150^2096^2043^1993^1945^1899^1856^1816^1779^1746^1715^1687^1663^1641^1623^1607^1594^1583^1575^1569^1565^1562^1561^1561^1562^1563^1565^1566^1568^1568^1568^1567^1565^1562^1557^1550^1541^1531^1519^1504^1488^1470^1451^1429^1407^1382^1357^1331^1304^1276^1249^1222^1195^1169^1144^1120^1099^1079^1062^1048^1037^1029^1025^1024^1028^1035^1048^1064^1086^1111^1142^1177^1216^1260^1309^1361^1417^1477^1541^1607^1676^1747^1820^1895^1971^2047^2124^2201^2276^2351^2424^2495^2563^2628^2691|139|||||F||8.0036|20221027140217\r",
      "MSH|^~\\&|DATACAPTOR||||20221027140217||ORU^R01|2a27140217572991|P|2.3||||||8859/1\r",
      "PID\r",
      "PV1||I|CH2\r",
      "OBR|||||||20221027140216|||CH2|||CH2\r",
      "OBX|1|NA|5141||-0.005^-0.005^-0.005^-0.005^-0.005^-0.005^-0.005^-0.005^-0.005^-0.005^-0.005^-0.005^-0.005^-0.005^-0.005^-0.005^-0.005^-0.005^-0.005^-0.005^-0.005^-0.005^-0.005^-0.005^-0.005^-0.005^-0.005^-0.005^-0.005^-0.005^-0.005^-0.005^-0.005^-0.005^-0.005^-0.005^-0.005^-0.005^-0.005^-0.005^-0.005^-0.005^-0.005^-0.005^-0.005^-0.005^-0.005^-0.005^-0.005^-0.005^-0.005^-0.005^-0.005^-0.005^-0.005^-0.005^-0.005^-0.005^-0.005^-0.005^-0.005^-0.005^-0.005^-0.005^-0.005^-0.005^-0.005^-0.005^-0.005^-0.005^-0.005^-0.005^-0.005^-0.005^-0.005^-0.005^-0.005^-0.005^-0.005^-0.005^-0.005^-0.005^-0.005^-0.005^-0.005^-0.005^-0.005^-0.005^-0.005^-0.005^-0.005^2.02^-0.005^-0.005^-0.005^-0.005^-0.005^-0.005^-0.005^-0.005^-0.005^-0.005^-0.005^-0.005^-0.005^-0.005^-0.005^-0.005^-0.005^-0.005^-0.005^-0.005^-0.005^-0^0.01^0.02^0.04^0.06^0.085^0.12^0.155^0.195^0.24^0.29^0.335^0.38^0.43^0.475^0.52^0.57^0.615^0.66^0.705^0.74^0.77^0.79^0.8^0.8^0.79^0.775^0.745^0.705^0.66^0.61^0.56^0.505^0.45^0.4^0.345^0.295^0.24^0.19^0.14^0.095^0.05^0.01^-0.02^-0.05^-0.075^-0.09^-0.105^-0.11^-0.115^-0.115^-0.115^-0.115^-0.115^-0.115^-0.115^-0.115^-0.115^-0.115^-0.115^-0.11^-0.11^-0.11^-0.11^-0.11^-0.11^-0.11^-0.11^-0.105^-0.105^-0.105^-0.105^-0.105^-0.105^-0.105^-0.105^-0.1^-0.1^-0.1^-0.1^-0.1^-0.1^-0.1^-0.1^-0.1^-0.095^-0.095^-0.095^-0.095^-0.095^-0.095^-0.095^-0.09^-0.09^-0.09^-0.09^-0.09^-0.09^-0.09^-0.09^-0.085^-0.085^-0.085^-0.085^-0.085^-0.085^-0.085^-0.085^-0.08^-0.08^-0.08^-0.08^-0.08^-0.08^-0.08^-0.08^-0.08^-0.08^-0.08^-0.075^-0.075^-0.075^-0.075^-0.075^-0.075^-0.075^-0.075^-0.075^-0.075^-0.075^-0.075^-0.075^-0.075^-0.075^-0.075^-0.075^-0.07^-0.07^-0.07^-0.07^-0.07^-0.07^-0.07^-0.07^-0.07^-0.07^-0.07^-0.07^-0.07^-0.07^-0.07^-0.065^-0.065^-0.065^-0.065^-0.065^-0.065^-0.065^-0.065^-0.07^-0.07^-0.075^-0.075^-0.08^-0.085^-0.09^-0.095^-0.1^-0.105^-0.11^-0.115^-0.12^-0.125^-0.13^-0.135^-0.14^-0.145^-0.15^-0.155^-0.16^-0.165^-0.17^-0.17^-0.175^-0.18^-0.185^-0.19^-0.195^-0.2^-0.205^-0.21^-0.21^-0.215^-0.215^-0.215^-0.215^-0.21^-0.21^-0.205^-0.2^-0.195^-0.185^-0.18^-0.175^-0.165^-0.16^-0.155^-0.145^-0.14^-0.135^-0.125^-0.12^-0.115^-0.11^-0.1^-0.095^-0.09^-0.085^-0.075^-0.07^-0.065^-0.06^-0.05^-0.045^-0.04^-0.035^-0.03^-0.025^-0.02^-0.015^-0.015^-0.01^-0.01^-0.005^-0.005^-0.005^-0.005^-0.005^-0.005^-0.005^-0.005^-0.005^-0.005^-0.005^-0.005^-0.005^-0.005^-0.005^-0.005^-0.005^-0.005^-0.005^-0.005^-0.005^-0.005^-0.005^-0.005^-0.005^-0.005^-0.005^-0.005^-0.005^-0.005^-0.005^-0.005^-0.005^-0.005^-0.005^-0.005^-0.005^-0.005|47|||||F||2.0009|20221027140216\r",
      "OBX|2|NA|5142||-0.005^-0.005^-0.005^-0.005^-0.005^-0.005^-0.005^-0.005^-0.005^-0.005^-0.005^-0.005^-0.005^-0.005^-0.005^-0.005^-0.005^-0.005^-0.005^-0.005^-0.005^-0.005^-0.005^-0.005^-0.005^-0.005^-0.005^-0.005^-0.005^-0.005^-0.005^-0.005^-0.005^-0.005^-0.005^-0.005^-0.005^-0.005^-0.005^-0.005^-0.005^-0.005^-0.005^-0.005^-0.005^-0.005^-0.005^-0.005^-0.005^-0.005^-0.005^-0.005^-0.005^-0.005^-0.005^-0.005^-0.005^-0.005^-0.005^-0.005^-0.005^-0.005^-0.005^-0.005^-0.005^-0.005^-0.005^-0.005^-0.005^-0.005^-0.005^-0.005^-0.005^-0.005^-0.005^-0.005^-0.005^-0.005^-0.005^-0.005^-0.005^-0.005^-0.005^-0.005^-0.005^-0.005^-0.005^-0.005^-0.005^-0.005^-0.005^1.3^-0.005^-0.005^-0.005^-0.005^-0.005^-0.005^-0.005^-0.005^-0.005^-0.005^-0.005^-0.005^-0.005^-0.005^-0.005^-0.005^-0.005^-0.005^-0.005^-0.005^-0.005^-0.005^0.005^0.015^0.035^0.045^0.065^0.095^0.115^0.145^0.175^0.215^0.245^0.275^0.315^0.345^0.375^0.415^0.445^0.475^0.505^0.525^0.545^0.565^0.565^0.565^0.555^0.545^0.525^0.495^0.465^0.425^0.395^0.355^0.305^0.275^0.235^0.205^0.155^0.125^0.095^0.065^0.025^-0.005^-0.015^-0.045^-0.065^-0.065^-0.075^-0.075^-0.085^-0.075^-0.075^-0.075^-0.075^-0.075^-0.085^-0.085^-0.085^-0.085^-0.085^-0.075^-0.075^-0.075^-0.075^-0.075^-0.075^-0.075^-0.075^-0.065^-0.065^-0.065^-0.065^-0.075^-0.075^-0.075^-0.075^-0.065^-0.065^-0.065^-0.065^-0.065^-0.065^-0.065^-0.065^-0.065^-0.055^-0.055^-0.065^-0.065^-0.065^-0.065^-0.065^-0.055^-0.055^-0.055^-0.055^-0.055^-0.055^-0.055^-0.055^-0.045^-0.045^-0.045^-0.055^-0.055^-0.055^-0.055^-0.055^-0.045^-0.045^-0.045^-0.045^-0.045^-0.045^-0.045^-0.045^-0.045^-0.045^-0.045^-0.045^-0.045^-0.045^-0.045^-0.045^-0.045^-0.045^-0.045^-0.045^-0.045^-0.045^-0.045^-0.045^-0.045^-0.045^-0.045^-0.055^-0.045^-0.045^-0.045^-0.045^-0.045^-0.045^-0.045^-0.045^-0.045^-0.045^-0.045^-0.045^-0.045^-0.045^-0.045^-0.045^-0.045^-0.045^-0.045^-0.045^-0.045^-0.045^-0.045^-0.055^-0.055^-0.055^-0.055^-0.055^-0.065^-0.065^-0.065^-0.075^-0.075^-0.085^-0.085^-0.085^-0.095^-0.095^-0.105^-0.105^-0.105^-0.115^-0.115^-0.125^-0.125^-0.125^-0.125^-0.125^-0.135^-0.135^-0.135^-0.145^-0.145^-0.155^-0.155^-0.155^-0.165^-0.165^-0.165^-0.165^-0.155^-0.165^-0.165^-0.155^-0.155^-0.145^-0.145^-0.145^-0.135^-0.125^-0.125^-0.115^-0.115^-0.115^-0.095^-0.095^-0.095^-0.095^-0.085^-0.075^-0.075^-0.075^-0.065^-0.065^-0.065^-0.055^-0.045^-0.045^-0.035^-0.035^-0.035^-0.025^-0.025^-0.015^-0.015^-0.015^-0.015^-0.005^-0.005^-0.005^-0.005^-0.005^-0.005^-0.005^-0.005^-0.005^-0.005^-0.005^-0.005^-0.005^-0.005^-0.005^-0.005^-0.005^-0.005^-0.005^-0.005^-0.005^-0.005^-0.005^-0.005^-0.005^-0.005^-0.005^-0.005^-0.005^-0.005^-0.005^-0.005^-0.005^-0.005^-0.005^-0.005^-0.005^-0.005|47|||||F||2.0009|20221027140216\r",
      "MSH|^~\\&|DATACAPTOR||||20221027140217||ORU^R01|2a271402175729a1|P|2.3||||||8859/1\r",
      "PID\r",
      "PV1||I|CH2\r",
      "OBR|||||||20221027140217|||CH2|||CH2\r",
      "OBX|1|NA|8857||73.5^73.1875^72.9375^72.6875^72.4375^72.25^72^71.75^71.5625^71.375^71.1875^71^70.875^70.6875^70.5625^70.4375^70.3125^70.1875^70.125^70.0625^70^70^70^70.0625^70.125^70.25^70.3125^70.5^70.8125^71.375^72.1875^73.4375^75.1875^77.5^80.25^83.5625^87.375^91.5^95.5^99.25^102.625^105.75^108.8125^111.5^113.6875^115.3125^116.5^117.4375^118.1875^118.8125^119.25^119.625^119.9375^120.125^120.25^120.125^119.875^119.375^118.75^117.9375^117^115.875^114.5^113^111.3125^109.8125^108.4375^107.3125^106.375^105.5625^104.875^104.25^103.6875^103.1875^102.8125^102.875^103.5625^104.75^105.875^106.5625^106.8125^106.75^106.375^105.625^104.4375^103.0625^101.5625^100^98.5625^97.25^96.0625^94.875^93.6875^92.5625^91.375^90.375|9|||||F||8.0036|20221027140217\r",
      "MSH|^~\\&|DATACAPTOR||||20221027140217||ORU^R01|2a271402175729b1|P|2.3||||||8859/1\r",
      "PID\r",
      "PV1||I|CH2\r",
      "OBR|||||||20221027140217|||CH2|||CH2\r",
      "OBX|1|NA|8870||-0.04^-0.053651^-0.066667^-0.077778^-0.087619^-0.096508^-0.104444^-0.110476^-0.115238^-0.11873^-0.12127^-0.123175^-0.124762^-0.124762^-0.12381^-0.121905^-0.119365^-0.11619^-0.113016^-0.109524^-0.105714^-0.101905^-0.098095^-0.094603^-0.091111^-0.087619^-0.084444^-0.08127^-0.078095^-0.074921^-0.071746^-0.068571^-0.065397^-0.06254^-0.06^-0.05746^-0.054921^-0.052381^-0.049841^-0.047302^-0.044762^-0.042857^-0.040952^-0.039048^-0.037143^-0.035238^-0.033333^-0.031429|84|||||F||16.0072|20221027140217\r",
      "MSH|^~\\&|DATACAPTOR||||20221027140218||ORU^R01|2a271402183729c1|P|2.3||||||8859/1\r",
      "PID\r",
      "PV1||I|CH2\r",
      "OBR|||||||20221027140218|||CH2|||CH2\r",
      "OBX|1|NA|113||2749^2803^2853^2899^2939^2975^3005^3029^3048^3062^3070^3072^3068^3059^3045^3026^3002^2973^2939^2902^2860^2816^2768^2717^2664^2609^2553^2495^2437^2379^2320^2263|139|||||F||8.0036|20221027140218\r",
      "MSH|^~\\&|DATACAPTOR||||20221027140218||ORU^R01|2a271402183729d1|P|2.3||||||8859/1\r",
      "PID\r",
      "PV1||I|CH2\r",
      "OBR|||||||20221027140217|||CH2|||CH2\r",
      "OBX|1|NA|5141||-0.005^-0.005^-0.005^-0.005^-0.005^-0.005^-0.005^-0.005^-0.005^-0.005^-0.005^-0.005^-0.005^-0.005^-0.005^-0.005^-0.005^-0.005^-0.005^-0.005^-0.005^-0.005^-0.005^-0.005^-0.005^-0.005^-0.005^-0.005^-0.005^-0.005^-0.005^-0.005^-0.005^-0.005^-0.005^-0.005^-0.005^-0.005^-0.005^-0.005^-0.005^-0.005^-0.005^-0.005^-0.005^-0.005^-0.005^-0.005^-0.005^-0.005^-0.005^-0.005^-0.005^-0.005^-0.005^-0.005^-0.005^-0.005^-0.005^-0.005^-0.005^-0.005^-0.005^-0.005^-0.005^-0.005^-0.005^-0.005^-0.005^-0.005^-0.005^-0.005^-0.005^-0.005^-0.005^-0.005^-0.005^-0.005^-0.005^-0.005^-0.005^-0.005^-0.005^-0.005^-0.005^-0.005^-0.005^-0.005^-0.005^-0.005^-0.005^-0.005^-0.005^-0.005^-0.005^-0.005^-0.005^-0.005^-0.005^-0.005^-0.005^-0.005^-0.005^-0.005^-0.005^-0.005^-0.005^-0.005^-0.005^-0.005^-0.005^-0.005^-0.005^-0.005^-0.005^-0.005^-0.005^-0.005^-0.005^-0.005^-0.005^-0.005^-0.005^-0.005^-0.005^-0.005^-0.005^-0.005|47|||||F||2.0009|20221027140217\r",
      "OBX|2|NA|5142||-0.005^-0.005^-0.005^-0.005^-0.005^-0.005^-0.005^-0.005^-0.005^-0.005^-0.005^-0.005^-0.005^-0.005^-0.005^-0.005^-0.005^-0.005^-0.005^-0.005^-0.005^-0.005^-0.005^-0.005^-0.005^-0.005^-0.005^-0.005^-0.005^-0.005^-0.005^-0.005^-0.005^-0.005^-0.005^-0.005^-0.005^-0.005^-0.005^-0.005^-0.005^-0.005^-0.005^-0.005^-0.005^-0.005^-0.005^-0.005^-0.005^-0.005^-0.005^-0.005^-0.005^-0.005^-0.005^-0.005^-0.005^-0.005^-0.005^-0.005^-0.005^-0.005^-0.005^-0.005^-0.005^-0.005^-0.005^-0.005^-0.005^-0.005^-0.005^-0.005^-0.005^-0.005^-0.005^-0.005^-0.005^-0.005^-0.005^-0.005^-0.005^-0.005^-0.005^-0.005^-0.005^-0.005^-0.005^-0.005^-0.005^-0.005^-0.005^-0.005^-0.005^-0.005^-0.005^-0.005^-0.005^-0.005^-0.005^-0.005^-0.005^-0.005^-0.005^-0.005^-0.005^-0.005^-0.005^-0.005^-0.005^-0.005^-0.005^-0.005^-0.005^-0.005^-0.005^-0.005^-0.005^-0.005^-0.005^-0.005^-0.005^-0.005^-0.005^-0.005^-0.005^-0.005^-0.005^-0.005|47|||||F||2.0009|20221027140217\r",
      "MSH|^~\\&|DATACAPTOR||||20221027140218||ORU^R01|2a271402183729e1|P|2.3||||||8859/1\r",
      "PID\r",
      "PV1||I|CH2\r",
      "OBR|||||||20221027140218|||CH2|||CH2\r",
      "OBX|1|NA|8857||89.5^88.75^88.0625^87.3125^86.5625^85.9375^85.3125^84.75^84.0625^83.375^82.6875^82^81.3125^80.625^79.8125^79.125^78.5^78^77.5^77.0625^76.625^76.1875^75.75^75.4375^75.0625^74.6875^74.375^74.0625^73.75^73.5^73.1875^72.9375|9|||||F||8.0036|20221027140218\r",
      "MSH|^~\\&|DATACAPTOR||||20221027140218||ORU^R01|2a271402183729f1|P|2.3||||||8859/1\r",
      "PID\r",
      "PV1||I|CH2\r",
      "OBR|||||||20221027140218|||CH2|||CH2\r",
      "OBX|1|NA|8870||-0.029524^-0.027619^-0.025714^-0.02381^-0.022222^-0.020952^-0.019683^-0.018413^-0.017143^-0.015873^-0.014603^-0.013333^-0.012063^-0.010794^-0.009524^-0.008254|84|||||F||16.0072|20221027140218\r",
      "MSH|^~\\&|DATACAPTOR||||20221027140218||ORU^R01|2a27140218574a01|P|2.3||||||8859/1\r",
      "PID\r",
      "PV1||I|CH2\r",
      "OBR|||||||20221027140218|||CH2|||CH2\r",
      "OBX|1|NA|113||2206^2150^2096^2043^1993^1945^1899^1856^1816^1779^1746^1715^1687^1663^1641^1623^1607^1594^1583^1575^1569^1565^1562^1561^1561^1562^1563^1565^1566^1568^1568^1568^1567^1565^1562^1557^1550^1541^1531^1519^1504^1488^1470^1451^1429^1407^1382^1357^1331^1304^1276^1249^1222^1195^1169^1144^1120^1099^1079^1062^1048^1037^1029^1025^1024^1028^1035^1048^1064^1086^1111^1142^1177^1216^1260^1309^1361^1417^1477^1541^1607^1676^1747^1820^1895^1971^2047^2124^2201^2276^2351^2424^2495^2563^2628^2691|139|||||F||8.0036|20221027140218\r",
      "MSH|^~\\&|DATACAPTOR||||20221027140218||ORU^R01|2a27140218574a11|P|2.3||||||8859/1\r",
      "PID\r",
      "PV1||I|CH2\r",
      "OBR|||||||20221027140218|||CH2|||CH2\r",
      "OBX|1|NA|5141||-0.005^-0.005^-0.005^-0.005^-0.005^-0.005^-0.005^-0.005^-0.005^-0.005^-0.005^-0.005^-0.005^-0.005^-0.005^-0.005^-0.005^-0.005^-0.005^-0.005^-0.005^-0.005^-0.005^-0.005^-0.005^-0.005^-0.005^-0.005^-0.005^-0.005^-0.005^-0.005^-0.005^-0.005^-0.005^-0.005^-0.005^-0.005^-0.005^-0.005^-0.005^-0.005^-0.005^-0.005^-0.005^-0.005^-0.005^-0.005^-0.005^-0.005^-0.005^-0.005^-0.005^-0.005^-0.005^-0.005^-0.005^-0.005^-0.005^-0.005^-0.005^-0.005^-0.005^-0.005^-0.005^-0.005^-0.005^-0.005^-0.005^-0.005^-0.005^-0.005^-0.005^-0.005^-0.005^-0.005^-0.005^-0.005^-0.005^2.02^-0.005^-0.005^-0.005^-0.005^-0.005^-0.005^-0.005^-0.005^-0.005^-0.005^-0.005^-0.005^-0.005^-0.005^-0.005^-0.005^-0.005^-0.005^-0.005^-0.005^-0.005^-0^0.01^0.02^0.04^0.06^0.085^0.12^0.155^0.195^0.24^0.29^0.335^0.38^0.43^0.475^0.52^0.57^0.615^0.66^0.705^0.74^0.77^0.79^0.8^0.8^0.79^0.775^0.745^0.705^0.66^0.61^0.56^0.505^0.45^0.4^0.345^0.295^0.24^0.19^0.14^0.095^0.05^0.01^-0.02^-0.05^-0.075^-0.09^-0.105^-0.11^-0.115^-0.115^-0.115^-0.115^-0.115^-0.115^-0.115^-0.115^-0.115^-0.115^-0.115^-0.11^-0.11^-0.11^-0.11^-0.11^-0.11^-0.11^-0.11^-0.105^-0.105^-0.105^-0.105^-0.105^-0.105^-0.105^-0.105^-0.1^-0.1^-0.1^-0.1^-0.1^-0.1^-0.1^-0.1^-0.1^-0.095^-0.095^-0.095^-0.095^-0.095^-0.095^-0.095^-0.09^-0.09^-0.09^-0.09^-0.09^-0.09^-0.09^-0.09^-0.085^-0.085^-0.085^-0.085^-0.085^-0.085^-0.085^-0.085^-0.08^-0.08^-0.08^-0.08^-0.08^-0.08^-0.08^-0.08^-0.08^-0.08^-0.08^-0.075^-0.075^-0.075^-0.075^-0.075^-0.075^-0.075^-0.075^-0.075^-0.075^-0.075^-0.075^-0.075^-0.075^-0.075^-0.075^-0.075^-0.07^-0.07^-0.07^-0.07^-0.07^-0.07^-0.07^-0.07^-0.07^-0.07^-0.07^-0.07^-0.07^-0.07^-0.07^-0.065^-0.065^-0.065^-0.065^-0.065^-0.065^-0.065^-0.065^-0.07^-0.07^-0.075^-0.075^-0.08^-0.085^-0.09^-0.095^-0.1^-0.105^-0.11^-0.115^-0.12^-0.125^-0.13^-0.135^-0.14^-0.145^-0.15^-0.155^-0.16^-0.165^-0.17^-0.17^-0.175^-0.18^-0.185^-0.19^-0.195^-0.2^-0.205^-0.21^-0.21^-0.215^-0.215^-0.215^-0.215^-0.21^-0.21^-0.205^-0.2^-0.195^-0.185^-0.18^-0.175^-0.165^-0.16^-0.155^-0.145^-0.14^-0.135^-0.125^-0.12^-0.115^-0.11^-0.1^-0.095^-0.09^-0.085^-0.075^-0.07^-0.065^-0.06^-0.05^-0.045^-0.04^-0.035^-0.03^-0.025^-0.02^-0.015^-0.015^-0.01^-0.01^-0.005^-0.005^-0.005^-0.005^-0.005^-0.005^-0.005^-0.005^-0.005^-0.005^-0.005^-0.005^-0.005^-0.005^-0.005^-0.005^-0.005^-0.005^-0.005^-0.005^-0.005^-0.005^-0.005^-0.005^-0.005^-0.005^-0.005^-0.005^-0.005^-0.005^-0.005^-0.005^-0.005^-0.005^-0.005^-0.005^-0.005^-0.005^-0.005^-0.005^-0.005^-0.005^-0.005^-0.005^-0.005^-0.005^-0.005^-0.005^-0.005^-0.005|47|||||F||2.0009|20221027140218\r",
      "OBX|2|NA|5142||-0.005^-0.005^-0.005^-0.005^-0.005^-0.005^-0.005^-0.005^-0.005^-0.005^-0.005^-0.005^-0.005^-0.005^-0.005^-0.005^-0.005^-0.005^-0.005^-0.005^-0.005^-0.005^-0.005^-0.005^-0.005^-0.005^-0.005^-0.005^-0.005^-0.005^-0.005^-0.005^-0.005^-0.005^-0.005^-0.005^-0.005^-0.005^-0.005^-0.005^-0.005^-0.005^-0.005^-0.005^-0.005^-0.005^-0.005^-0.005^-0.005^-0.005^-0.005^-0.005^-0.005^-0.005^-0.005^-0.005^-0.005^-0.005^-0.005^-0.005^-0.005^-0.005^-0.005^-0.005^-0.005^-0.005^-0.005^-0.005^-0.005^-0.005^-0.005^-0.005^-0.005^-0.005^-0.005^-0.005^-0.005^-0.005^-0.005^1.3^-0.005^-0.005^-0.005^-0.005^-0.005^-0.005^-0.005^-0.005^-0.005^-0.005^-0.005^-0.005^-0.005^-0.005^-0.005^-0.005^-0.005^-0.005^-0.005^-0.005^-0.005^-0.005^0.005^0.015^0.035^0.045^0.065^0.095^0.115^0.145^0.175^0.215^0.245^0.275^0.315^0.345^0.375^0.415^0.445^0.475^0.505^0.525^0.545^0.565^0.565^0.565^0.555^0.545^0.525^0.495^0.465^0.425^0.395^0.355^0.305^0.275^0.235^0.205^0.155^0.125^0.095^0.065^0.025^-0.005^-0.015^-0.045^-0.065^-0.065^-0.075^-0.075^-0.085^-0.075^-0.075^-0.075^-0.075^-0.075^-0.085^-0.085^-0.085^-0.085^-0.085^-0.075^-0.075^-0.075^-0.075^-0.075^-0.075^-0.075^-0.075^-0.065^-0.065^-0.065^-0.065^-0.075^-0.075^-0.075^-0.075^-0.065^-0.065^-0.065^-0.065^-0.065^-0.065^-0.065^-0.065^-0.065^-0.055^-0.055^-0.065^-0.065^-0.065^-0.065^-0.065^-0.055^-0.055^-0.055^-0.055^-0.055^-0.055^-0.055^-0.055^-0.045^-0.045^-0.045^-0.055^-0.055^-0.055^-0.055^-0.055^-0.045^-0.045^-0.045^-0.045^-0.045^-0.045^-0.045^-0.045^-0.045^-0.045^-0.045^-0.045^-0.045^-0.045^-0.045^-0.045^-0.045^-0.045^-0.045^-0.045^-0.045^-0.045^-0.045^-0.045^-0.045^-0.045^-0.045^-0.055^-0.045^-0.045^-0.045^-0.045^-0.045^-0.045^-0.045^-0.045^-0.045^-0.045^-0.045^-0.045^-0.045^-0.045^-0.045^-0.045^-0.045^-0.045^-0.045^-0.045^-0.045^-0.045^-0.045^-0.055^-0.055^-0.055^-0.055^-0.055^-0.065^-0.065^-0.065^-0.075^-0.075^-0.085^-0.085^-0.085^-0.095^-0.095^-0.105^-0.105^-0.105^-0.115^-0.115^-0.125^-0.125^-0.125^-0.125^-0.125^-0.135^-0.135^-0.135^-0.145^-0.145^-0.155^-0.155^-0.155^-0.165^-0.165^-0.165^-0.165^-0.155^-0.165^-0.165^-0.155^-0.155^-0.145^-0.145^-0.145^-0.135^-0.125^-0.125^-0.115^-0.115^-0.115^-0.095^-0.095^-0.095^-0.095^-0.085^-0.075^-0.075^-0.075^-0.065^-0.065^-0.065^-0.055^-0.045^-0.045^-0.035^-0.035^-0.035^-0.025^-0.025^-0.015^-0.015^-0.015^-0.015^-0.005^-0.005^-0.005^-0.005^-0.005^-0.005^-0.005^-0.005^-0.005^-0.005^-0.005^-0.005^-0.005^-0.005^-0.005^-0.005^-0.005^-0.005^-0.005^-0.005^-0.005^-0.005^-0.005^-0.005^-0.005^-0.005^-0.005^-0.005^-0.005^-0.005^-0.005^-0.005^-0.005^-0.005^-0.005^-0.005^-0.005^-0.005^-0.005^-0.005^-0.005^-0.005^-0.005^-0.005^-0.005^-0.005^-0.005^-0.005^-0.005^-0.005|47|||||F||2.0009|20221027140218\r",
      "MSH|^~\\&|DATACAPTOR||||20221027140218||ORU^R01|2a27140218574a21|P|2.3||||||8859/1\r",
      "PID\r",
      "PV1||I|CH2\r",
      "OBR|||||||20221027140218|||CH2|||CH2\r",
      "OBX|1|NA|8857||72.6875^72.4375^72.25^72^71.75^71.5625^71.375^71.1875^71^70.875^70.6875^70.5625^70.4375^70.3125^70.1875^70.125^70.0625^70^70^70^70.0625^70.125^70.25^70.3125^70.5^70.8125^71.375^72.1875^73.4375^75.1875^77.5^80.25^83.5625^87.375^91.5^95.5^99.25^102.625^105.75^108.8125^111.5^113.6875^115.3125^116.5^117.4375^118.1875^118.8125^119.25^119.625^119.9375^120.125^120.25^120.125^119.875^119.375^118.75^117.9375^117^115.875^114.5^113^111.3125^109.8125^108.4375^107.3125^106.375^105.5625^104.875^104.25^103.6875^103.1875^102.8125^102.875^103.5625^104.75^105.875^106.5625^106.8125^106.75^106.375^105.625^104.4375^103.0625^101.5625^100^98.5625^97.25^96.0625^94.875^93.6875^92.5625^91.375^90.375^89.5^88.75^88.0625|9|||||F||8.0036|20221027140218\r",
      "MSH|^~\\&|DATACAPTOR||||20221027140218||ORU^R01|2a27140218574a31|P|2.3||||||8859/1\r",
      "PID\r",
      "PV1||I|CH2\r",
      "OBR|||||||20221027140218|||CH2|||CH2\r",
      "OBX|1|NA|8870||-0.006984^-0.005714^-0.004762^-0.00381^-0.003175^-0.002222^-0.001587^-0.000635^0^0.000635^0.00127^0.001905^0.00254^0.003175^0.00381^0.004444^0.005079^0.005714^0.006349^0.006984^0.007619^0.008254^0.008889^0.009524^0.010159^0.010794^0.011429^0.012063^0.012698^0.013333^0.013651^0.013968^0.014286^0.014603^0.014921^0.015238^0.015556^0.015873^0.01619^0.016508^0.016825^0.017143^0.01746^0.01746^0.017778^0.017778^0.018095^0.018095|84|||||F||16.0072|20221027140218\r",
      "MSH|^~\\&|DATACAPTOR||||20221027140219||ORU^R01|2a27140219575a41|P|2.3||||||8859/1\r",
      "PID\r",
      "PV1||I|CH2\r",
      "OBR|||||||20221027140219|||CH2|||CH2\r",
      "OBX|1|NA|113||2749^2803^2853^2899^2939^2975^3005^3029^3048^3062^3070^3072^3068^3059^3045^3026^3002^2973^2939^2902^2860^2816^2768^2717^2664^2609^2553^2495^2437^2379^2320^2263|139|||||F||8.0036|20221027140219\r",
      "MSH|^~\\&|DATACAPTOR||||20221027140219||ORU^R01|2a27140219576a51|P|2.3||||||8859/1\r",
      "PID\r",
      "PV1||I|CH2\r",
      "OBR|||||||20221027140218|||CH2|||CH2\r",
      "OBX|1|NA|5141||-0.005^-0.005^-0.005^-0.005^-0.005^-0.005^-0.005^-0.005^-0.005^-0.005^-0.005^-0.005^-0.005^-0.005^-0.005^-0.005^-0.005^-0.005^-0.005^-0.005^-0.005^-0.005^-0.005^-0.005^-0.005^-0.005^-0.005^-0.005^-0.005^-0.005^-0.005^-0.005^-0.005^-0.005^-0.005^-0.005^-0.005^-0.005^-0.005^-0.005^-0.005^-0.005^-0.005^-0.005^-0.005^-0.005^-0.005^-0.005^-0.005^-0.005^-0.005^-0.005^-0.005^-0.005^-0.005^-0.005^-0.005^-0.005^-0.005^-0.005^-0.005^-0.005^-0.005^-0.005^-0.005^-0.005^-0.005^-0.005^-0.005^-0.005^-0.005^-0.005^-0.005^-0.005^-0.005^-0.005^-0.005^-0.005^-0.005^-0.005^-0.005^-0.005^-0.005^-0.005^-0.005^-0.005^-0.005^-0.005^-0.005^-0.005^-0.005^-0.005^-0.005^-0.005^-0.005^-0.005^-0.005^-0.005^-0.005^-0.005^-0.005^-0.005^-0.005^-0.005^-0.005^-0.005^-0.005^-0.005^-0.005^-0.005^-0.005^-0.005^-0.005^-0.005^-0.005^-0.005^-0.005^-0.005^-0.005^-0.005^-0.005^-0.005^-0.005^-0.005^-0.005^-0.005^-0.005^-0.005|47|||||F||2.0009|20221027140218\r",
      "OBX|2|NA|5142||-0.005^-0.005^-0.005^-0.005^-0.005^-0.005^-0.005^-0.005^-0.005^-0.005^-0.005^-0.005^-0.005^-0.005^-0.005^-0.005^-0.005^-0.005^-0.005^-0.005^-0.005^-0.005^-0.005^-0.005^-0.005^-0.005^-0.005^-0.005^-0.005^-0.005^-0.005^-0.005^-0.005^-0.005^-0.005^-0.005^-0.005^-0.005^-0.005^-0.005^-0.005^-0.005^-0.005^-0.005^-0.005^-0.005^-0.005^-0.005^-0.005^-0.005^-0.005^-0.005^-0.005^-0.005^-0.005^-0.005^-0.005^-0.005^-0.005^-0.005^-0.005^-0.005^-0.005^-0.005^-0.005^-0.005^-0.005^-0.005^-0.005^-0.005^-0.005^-0.005^-0.005^-0.005^-0.005^-0.005^-0.005^-0.005^-0.005^-0.005^-0.005^-0.005^-0.005^-0.005^-0.005^-0.005^-0.005^-0.005^-0.005^-0.005^-0.005^-0.005^-0.005^-0.005^-0.005^-0.005^-0.005^-0.005^-0.005^-0.005^-0.005^-0.005^-0.005^-0.005^-0.005^-0.005^-0.005^-0.005^-0.005^-0.005^-0.005^-0.005^-0.005^-0.005^-0.005^-0.005^-0.005^-0.005^-0.005^-0.005^-0.005^-0.005^-0.005^-0.005^-0.005^-0.005^-0.005^-0.005|47|||||F||2.0009|20221027140218\r",
      "MSH|^~\\&|DATACAPTOR||||20221027140219||ORU^R01|2a27140219576a61|P|2.3||||||8859/1\r",
      "PID\r",
      "PV1||I|CH2\r",
      "OBR|||||||20221027140219|||CH2|||CH2\r",
      "OBX|1|NA|8857||87.3125^86.5625^85.9375^85.3125^84.75^84.0625^83.375^82.6875^82^81.3125^80.625^79.8125^79.125^78.5^78^77.5^77.0625^76.625^76.1875^75.75^75.4375^75.0625^74.6875^74.375^74.0625^73.75^73.5^73.1875^72.9375^72.6875^72.4375^72.25|9|||||F||8.0036|20221027140219\r",
      "MSH|^~\\&|DATACAPTOR||||20221027140219||ORU^R01|2a27140219576a71|P|2.3||||||8859/1\r",
      "PID\r",
      "PV1||I|CH2\r",
      "OBR|||||||20221027140219|||CH2|||CH2\r",
      "OBX|1|NA|8870||0.018413^0.018413^0.01873^0.01873^0.019048^0.019048^0.019365^0.019365^0.019683^0.019683^0.02^0.02^0.020317^0.020317^0.020635^0.020635|84|||||F||16.0072|20221027140219\r",
      "MSH|^~\\&|DATACAPTOR||||20221027140219||ORU^R01|2a27140219779a81|P|2.3||||||8859/1\r",
      "PID\r",
      "PV1||I|CH2\r",
      "OBR|||||||20221027140219|||CH2|||CH2\r",
      "OBX|1|NA|113||2206^2150^2096^2043^1993^1945^1899^1856^1816^1779^1746^1715^1687^1663^1641^1623^1607^1594^1583^1575^1569^1565^1562^1561^1561^1562^1563^1565^1566^1568^1568^1568^1567^1565^1562^1557^1550^1541^1531^1519^1504^1488^1470^1451^1429^1407^1382^1357^1331^1304^1276^1249^1222^1195^1169^1144^1120^1099^1079^1062^1048^1037^1029^1025^1024^1028^1035^1048^1064^1086^1111^1142^1177^1216^1260^1309^1361^1417^1477^1541^1607^1676^1747^1820^1895^1971^2047^2124^2201^2276^2351^2424^2495^2563^2628^2691|139|||||F||8.0036|20221027140219\r",
      "MSH|^~\\&|DATACAPTOR||||20221027140219||ORU^R01|2a27140219780a91|P|2.3||||||8859/1\r",
      "PID\r",
      "PV1||I|CH2\r",
      "OBR|||||||20221027140219|||CH2|||CH2\r",
      "OBX|1|NA|5141||-0.005^-0.005^-0.005^-0.005^-0.005^-0.005^-0.005^-0.005^-0.005^-0.005^-0.005^-0.005^-0.005^-0.005^-0.005^-0.005^-0.005^-0.005^-0.005^-0.005^-0.005^-0.005^-0.005^-0.005^-0.005^-0.005^-0.005^-0.005^-0.005^-0.005^-0.005^-0.005^-0.005^-0.005^-0.005^-0.005^-0.005^-0.005^-0.005^-0.005^-0.005^-0.005^-0.005^-0.005^-0.005^-0.005^-0.005^-0.005^-0.005^-0.005^-0.005^-0.005^-0.005^-0.005^-0.005^-0.005^-0.005^-0.005^-0.005^-0.005^-0.005^-0.005^-0.005^-0.005^-0.005^-0.005^-0.005^2.02^-0.005^-0.005^-0.005^-0.005^-0.005^-0.005^-0.005^-0.005^-0.005^-0.005^-0.005^-0.005^-0.005^-0.005^-0.005^-0.005^-0.005^-0.005^-0.005^-0.005^-0.005^-0^0.01^0.02^0.04^0.06^0.085^0.12^0.155^0.195^0.24^0.29^0.335^0.38^0.43^0.475^0.52^0.57^0.615^0.66^0.705^0.74^0.77^0.79^0.8^0.8^0.79^0.775^0.745^0.705^0.66^0.61^0.56^0.505^0.45^0.4^0.345^0.295^0.24^0.19^0.14^0.095^0.05^0.01^-0.02^-0.05^-0.075^-0.09^-0.105^-0.11^-0.115^-0.115^-0.115^-0.115^-0.115^-0.115^-0.115^-0.115^-0.115^-0.115^-0.115^-0.11^-0.11^-0.11^-0.11^-0.11^-0.11^-0.11^-0.11^-0.105^-0.105^-0.105^-0.105^-0.105^-0.105^-0.105^-0.105^-0.1^-0.1^-0.1^-0.1^-0.1^-0.1^-0.1^-0.1^-0.1^-0.095^-0.095^-0.095^-0.095^-0.095^-0.095^-0.095^-0.09^-0.09^-0.09^-0.09^-0.09^-0.09^-0.09^-0.09^-0.085^-0.085^-0.085^-0.085^-0.085^-0.085^-0.085^-0.085^-0.08^-0.08^-0.08^-0.08^-0.08^-0.08^-0.08^-0.08^-0.08^-0.08^-0.08^-0.075^-0.075^-0.075^-0.075^-0.075^-0.075^-0.075^-0.075^-0.075^-0.075^-0.075^-0.075^-0.075^-0.075^-0.075^-0.075^-0.075^-0.07^-0.07^-0.07^-0.07^-0.07^-0.07^-0.07^-0.07^-0.07^-0.07^-0.07^-0.07^-0.07^-0.07^-0.07^-0.065^-0.065^-0.065^-0.065^-0.065^-0.065^-0.065^-0.065^-0.07^-0.07^-0.075^-0.075^-0.08^-0.085^-0.09^-0.095^-0.1^-0.105^-0.11^-0.115^-0.12^-0.125^-0.13^-0.135^-0.14^-0.145^-0.15^-0.155^-0.16^-0.165^-0.17^-0.17^-0.175^-0.18^-0.185^-0.19^-0.195^-0.2^-0.205^-0.21^-0.21^-0.215^-0.215^-0.215^-0.215^-0.21^-0.21^-0.205^-0.2^-0.195^-0.185^-0.18^-0.175^-0.165^-0.16^-0.155^-0.145^-0.14^-0.135^-0.125^-0.12^-0.115^-0.11^-0.1^-0.095^-0.09^-0.085^-0.075^-0.07^-0.065^-0.06^-0.05^-0.045^-0.04^-0.035^-0.03^-0.025^-0.02^-0.015^-0.015^-0.01^-0.01^-0.005^-0.005^-0.005^-0.005^-0.005^-0.005^-0.005^-0.005^-0.005^-0.005^-0.005^-0.005^-0.005^-0.005^-0.005^-0.005^-0.005^-0.005^-0.005^-0.005^-0.005^-0.005^-0.005^-0.005^-0.005^-0.005^-0.005^-0.005^-0.005^-0.005^-0.005^-0.005^-0.005^-0.005^-0.005^-0.005^-0.005^-0.005^-0.005^-0.005^-0.005^-0.005^-0.005^-0.005^-0.005^-0.005^-0.005^-0.005^-0.005^-0.005^-0.005^-0.005^-0.005^-0.005^-0.005^-0.005^-0.005^-0.005^-0.005^-0.005^-0.005^-0.005|47|||||F||2.0009|20221027140219\r",
      "OBX|2|NA|5142||-0.005^-0.005^-0.005^-0.005^-0.005^-0.005^-0.005^-0.005^-0.005^-0.005^-0.005^-0.005^-0.005^-0.005^-0.005^-0.005^-0.005^-0.005^-0.005^-0.005^-0.005^-0.005^-0.005^-0.005^-0.005^-0.005^-0.005^-0.005^-0.005^-0.005^-0.005^-0.005^-0.005^-0.005^-0.005^-0.005^-0.005^-0.005^-0.005^-0.005^-0.005^-0.005^-0.005^-0.005^-0.005^-0.005^-0.005^-0.005^-0.005^-0.005^-0.005^-0.005^-0.005^-0.005^-0.005^-0.005^-0.005^-0.005^-0.005^-0.005^-0.005^-0.005^-0.005^-0.005^-0.005^-0.005^-0.005^1.3^-0.005^-0.005^-0.005^-0.005^-0.005^-0.005^-0.005^-0.005^-0.005^-0.005^-0.005^-0.005^-0.005^-0.005^-0.005^-0.005^-0.005^-0.005^-0.005^-0.005^-0.005^-0.005^0.005^0.015^0.035^0.045^0.065^0.095^0.115^0.145^0.175^0.215^0.245^0.275^0.315^0.345^0.375^0.415^0.445^0.475^0.505^0.525^0.545^0.565^0.565^0.565^0.555^0.545^0.525^0.495^0.465^0.425^0.395^0.355^0.305^0.275^0.235^0.205^0.155^0.125^0.095^0.065^0.025^-0.005^-0.015^-0.045^-0.065^-0.065^-0.075^-0.075^-0.085^-0.075^-0.075^-0.075^-0.075^-0.075^-0.085^-0.085^-0.085^-0.085^-0.085^-0.075^-0.075^-0.075^-0.075^-0.075^-0.075^-0.075^-0.075^-0.065^-0.065^-0.065^-0.065^-0.075^-0.075^-0.075^-0.075^-0.065^-0.065^-0.065^-0.065^-0.065^-0.065^-0.065^-0.065^-0.065^-0.055^-0.055^-0.065^-0.065^-0.065^-0.065^-0.065^-0.055^-0.055^-0.055^-0.055^-0.055^-0.055^-0.055^-0.055^-0.045^-0.045^-0.045^-0.055^-0.055^-0.055^-0.055^-0.055^-0.045^-0.045^-0.045^-0.045^-0.045^-0.045^-0.045^-0.045^-0.045^-0.045^-0.045^-0.045^-0.045^-0.045^-0.045^-0.045^-0.045^-0.045^-0.045^-0.045^-0.045^-0.045^-0.045^-0.045^-0.045^-0.045^-0.045^-0.055^-0.045^-0.045^-0.045^-0.045^-0.045^-0.045^-0.045^-0.045^-0.045^-0.045^-0.045^-0.045^-0.045^-0.045^-0.045^-0.045^-0.045^-0.045^-0.045^-0.045^-0.045^-0.045^-0.045^-0.055^-0.055^-0.055^-0.055^-0.055^-0.065^-0.065^-0.065^-0.075^-0.075^-0.085^-0.085^-0.085^-0.095^-0.095^-0.105^-0.105^-0.105^-0.115^-0.115^-0.125^-0.125^-0.125^-0.125^-0.125^-0.135^-0.135^-0.135^-0.145^-0.145^-0.155^-0.155^-0.155^-0.165^-0.165^-0.165^-0.165^-0.155^-0.165^-0.165^-0.155^-0.155^-0.145^-0.145^-0.145^-0.135^-0.125^-0.125^-0.115^-0.115^-0.115^-0.095^-0.095^-0.095^-0.095^-0.085^-0.075^-0.075^-0.075^-0.065^-0.065^-0.065^-0.055^-0.045^-0.045^-0.035^-0.035^-0.035^-0.025^-0.025^-0.015^-0.015^-0.015^-0.015^-0.005^-0.005^-0.005^-0.005^-0.005^-0.005^-0.005^-0.005^-0.005^-0.005^-0.005^-0.005^-0.005^-0.005^-0.005^-0.005^-0.005^-0.005^-0.005^-0.005^-0.005^-0.005^-0.005^-0.005^-0.005^-0.005^-0.005^-0.005^-0.005^-0.005^-0.005^-0.005^-0.005^-0.005^-0.005^-0.005^-0.005^-0.005^-0.005^-0.005^-0.005^-0.005^-0.005^-0.005^-0.005^-0.005^-0.005^-0.005^-0.005^-0.005^-0.005^-0.005^-0.005^-0.005^-0.005^-0.005^-0.005^-0.005^-0.005^-0.005^-0.005^-0.005|47|||||F||2.0009|20221027140219\r",
      "MSH|^~\\&|DATACAPTOR||||20221027140219||ORU^R01|2a27140219780aa1|P|2.3||||||8859/1\r",
      "PID\r",
      "PV1||I|CH2\r",
      "OBR|||||||20221027140219|||CH2|||CH2\r",
      "OBX|1|NA|8857||72^71.75^71.5625^71.375^71.1875^71^70.875^70.6875^70.5625^70.4375^70.3125^70.1875^70.125^70.0625^70^70^70^70.0625^70.125^70.25^70.3125^70.5^70.8125^71.375^72.1875^73.4375^75.1875^77.5^80.25^83.5625^87.375^91.5^95.5^99.25^102.625^105.75^108.8125^111.5^113.6875^115.3125^116.5^117.4375^118.1875^118.8125^119.25^119.625^119.9375^120.125^120.25^120.125^119.875^119.375^118.75^117.9375^117^115.875^114.5^113^111.3125^109.8125^108.4375^107.3125^106.375^105.5625^104.875^104.25^103.6875^103.1875^102.8125^102.875^103.5625^104.75^105.875^106.5625^106.8125^106.75^106.375^105.625^104.4375^103.0625^101.5625^100^98.5625^97.25^96.0625^94.875^93.6875^92.5625^91.375^90.375^89.5^88.75^88.0625^87.3125^86.5625^85.9375|9|||||F||8.0036|20221027140219\r",
      "MSH|^~\\&|DATACAPTOR||||20221027140219||ORU^R01|2a27140219780ab1|P|2.3||||||8859/1\r",
      "PID\r",
      "PV1||I|CH2\r",
      "OBR|||||||20221027140219|||CH2|||CH2\r",
      "OBX|1|NA|8870||0.02127^0.02254^0.024444^0.026984^0.030159^0.033651^0.037778^0.043175^0.049524^0.056825^0.064762^0.074286^0.085079^0.096825^0.109206^0.122222^0.135873^0.150794^0.166984^0.18381^0.20127^0.219365^0.237778^0.25619^0.275238^0.294286^0.313333^0.333333^0.354286^0.374603^0.394921^0.415873^0.43746^0.459683^0.481905^0.503175^0.524127^0.545397^0.566984^0.587937^0.608254^0.627937^0.646984^0.666032^0.684444^0.702857^0.720952^0.73873|84|||||F||16.0072|20221027140219\r",
      "MSH|^~\\&|DATACAPTOR||||20221027140220||ORU^R01|2a27140220575ac1|P|2.3||||||8859/1\r",
      "PID\r",
      "PV1||I|CH2\r",
      "OBR|||||||20221027140220|||CH2|||CH2\r",
      "OBX|1|NA|113||2749^2803^2853^2899^2939^2975^3005^3029^3048^3062^3070^3072^3068^3059^3045^3026^3002^2973^2939^2902^2860^2816^2768^2717^2664^2609^2553^2495^2437^2379^2320^2263|139|||||F||8.0036|20221027140220\r",
      "MSH|^~\\&|DATACAPTOR||||20221027140220||ORU^R01|2a27140220575ad1|P|2.3||||||8859/1\r",
      "PID\r",
      "PV1||I|CH2\r",
      "OBR|||||||20221027140219|||CH2|||CH2\r",
      "OBX|1|NA|5141||-0.005^-0.005^-0.005^-0.005^-0.005^-0.005^-0.005^-0.005^-0.005^-0.005^-0.005^-0.005^-0.005^-0.005^-0.005^-0.005^-0.005^-0.005^-0.005^-0.005^-0.005^-0.005^-0.005^-0.005^-0.005^-0.005^-0.005^-0.005^-0.005^-0.005^-0.005^-0.005^-0.005^-0.005^-0.005^-0.005^-0.005^-0.005^-0.005^-0.005^-0.005^-0.005^-0.005^-0.005^-0.005^-0.005^-0.005^-0.005^-0.005^-0.005^-0.005^-0.005^-0.005^-0.005^-0.005^-0.005^-0.005^-0.005^-0.005^-0.005^-0.005^-0.005^-0.005^-0.005^-0.005^-0.005^-0.005^-0.005^-0.005^-0.005^-0.005^-0.005^-0.005^-0.005^-0.005^-0.005^-0.005^-0.005^-0.005^-0.005^-0.005^-0.005^-0.005^-0.005^-0.005^-0.005^-0.005^-0.005^-0.005^-0.005^-0.005^-0.005^-0.005^-0.005^-0.005^-0.005^-0.005^-0.005^-0.005^-0.005^-0.005^-0.005^-0.005^-0.005^-0.005^-0.005^-0.005^-0.005^-0.005^-0.005^-0.005^-0.005^-0.005^-0.005^-0.005^-0.005^-0.005^-0.005^-0.005^-0.005^-0.005^-0.005^-0.005^-0.005^-0.005^-0.005^-0.005^-0.005|47|||||F||2.0009|20221027140219\r",
      "OBX|2|NA|5142||-0.005^-0.005^-0.005^-0.005^-0.005^-0.005^-0.005^-0.005^-0.005^-0.005^-0.005^-0.005^-0.005^-0.005^-0.005^-0.005^-0.005^-0.005^-0.005^-0.005^-0.005^-0.005^-0.005^-0.005^-0.005^-0.005^-0.005^-0.005^-0.005^-0.005^-0.005^-0.005^-0.005^-0.005^-0.005^-0.005^-0.005^-0.005^-0.005^-0.005^-0.005^-0.005^-0.005^-0.005^-0.005^-0.005^-0.005^-0.005^-0.005^-0.005^-0.005^-0.005^-0.005^-0.005^-0.005^-0.005^-0.005^-0.005^-0.005^-0.005^-0.005^-0.005^-0.005^-0.005^-0.005^-0.005^-0.005^-0.005^-0.005^-0.005^-0.005^-0.005^-0.005^-0.005^-0.005^-0.005^-0.005^-0.005^-0.005^-0.005^-0.005^-0.005^-0.005^-0.005^-0.005^-0.005^-0.005^-0.005^-0.005^-0.005^-0.005^-0.005^-0.005^-0.005^-0.005^-0.005^-0.005^-0.005^-0.005^-0.005^-0.005^-0.005^-0.005^-0.005^-0.005^-0.005^-0.005^-0.005^-0.005^-0.005^-0.005^-0.005^-0.005^-0.005^-0.005^-0.005^-0.005^-0.005^-0.005^-0.005^-0.005^-0.005^-0.005^-0.005^-0.005^-0.005^-0.005^-0.005|47|||||F||2.0009|20221027140219\r",
      "MSH|^~\\&|DATACAPTOR||||20221027140220||ORU^R01|2a27140220575ae1|P|2.3||||||8859/1\r",
      "PID\r",
      "PV1||I|CH2\r",
      "OBR|||||||20221027140220|||CH2|||CH2\r",
      "OBX|1|NA|8857||85.3125^84.75^84.0625^83.375^82.6875^82^81.3125^80.625^79.8125^79.125^78.5^78^77.5^77.0625^76.625^76.1875^75.75^75.4375^75.0625^74.6875^74.375^74.0625^73.75^73.5^73.1875^72.9375^72.6875^72.4375^72.25^72^71.75^71.5625|9|||||F||8.0036|20221027140220\r",
      "MSH|^~\\&|DATACAPTOR||||20221027140220||ORU^R01|2a27140220575af1|P|2.3||||||8859/1\r",
      "PID\r",
      "PV1||I|CH2\r",
      "OBR|||||||20221027140220|||CH2|||CH2\r",
      "OBX|1|NA|8870||0.756508^0.773333^0.788889^0.803492^0.81746^0.830794^0.84381^0.855556^0.866032^0.875873^0.884444^0.891746^0.897778^0.90254^0.906667^0.910159|84|||||F||16.0072|20221027140220\r",
      "MSH|^~\\&|DATACAPTOR||||20221027140220||ORU^R01|2a27140220778b01|P|2.3||||||8859/1\r",
      "PID\r",
      "PV1||I|CH2\r",
      "OBR|||||||20221027140220|||CH2|||CH2\r",
      "OBX|1|NA|113||2206^2150^2096^2043^1993^1945^1899^1856^1816^1779^1746^1715^1687^1663^1641^1623^1607^1594^1583^1575^1569^1565^1562^1561^1561^1562^1563^1565^1566^1568^1568^1568^1567^1565^1562^1557^1550^1541^1531^1519^1504^1488^1470^1451^1429^1407^1382^1357^1331^1304^1276^1249^1222^1195^1169^1144^1120^1099^1079^1062^1048^1037^1029^1025^1024^1028^1035^1048^1064^1086^1111^1142^1177^1216^1260^1309^1361^1417^1477^1541^1607^1676^1747^1820^1895^1971^2047^2124^2201^2276^2351^2424^2495^2563^2628^2691|139|||||F||8.0036|20221027140220\r",
      "MSH|^~\\&|DATACAPTOR||||20221027140220||ORU^R01|2a27140220778b11|P|2.3||||||8859/1\r",
      "PID\r",
      "PV1||I|CH2\r",
      "OBR|||||||20221027140220|||CH2|||CH2\r",
      "OBX|1|NA|5141||-0.005^-0.005^-0.005^-0.005^-0.005^-0.005^-0.005^-0.005^-0.005^-0.005^-0.005^-0.005^-0.005^-0.005^-0.005^-0.005^-0.005^-0.005^-0.005^-0.005^-0.005^-0.005^-0.005^-0.005^-0.005^-0.005^-0.005^-0.005^-0.005^-0.005^-0.005^-0.005^-0.005^-0.005^-0.005^-0.005^-0.005^-0.005^-0.005^-0.005^-0.005^-0.005^-0.005^-0.005^-0.005^-0.005^-0.005^-0.005^-0.005^-0.005^-0.005^-0.005^-0.005^-0.005^-0.005^2.02^-0.005^-0.005^-0.005^-0.005^-0.005^-0.005^-0.005^-0.005^-0.005^-0.005^-0.005^-0.005^-0.005^-0.005^-0.005^-0.005^-0.005^-0.005^-0.005^-0.005^-0.005^-0^0.01^0.02^0.04^0.06^0.085^0.12^0.155^0.195^0.24^0.29^0.335^0.38^0.43^0.475^0.52^0.57^0.615^0.66^0.705^0.74^0.77^0.79^0.8^0.8^0.79^0.775^0.745^0.705^0.66^0.61^0.56^0.505^0.45^0.4^0.345^0.295^0.24^0.19^0.14^0.095^0.05^0.01^-0.02^-0.05^-0.075^-0.09^-0.105^-0.11^-0.115^-0.115^-0.115^-0.115^-0.115^-0.115^-0.115^-0.115^-0.115^-0.115^-0.115^-0.11^-0.11^-0.11^-0.11^-0.11^-0.11^-0.11^-0.11^-0.105^-0.105^-0.105^-0.105^-0.105^-0.105^-0.105^-0.105^-0.1^-0.1^-0.1^-0.1^-0.1^-0.1^-0.1^-0.1^-0.1^-0.095^-0.095^-0.095^-0.095^-0.095^-0.095^-0.095^-0.09^-0.09^-0.09^-0.09^-0.09^-0.09^-0.09^-0.09^-0.085^-0.085^-0.085^-0.085^-0.085^-0.085^-0.085^-0.085^-0.08^-0.08^-0.08^-0.08^-0.08^-0.08^-0.08^-0.08^-0.08^-0.08^-0.08^-0.075^-0.075^-0.075^-0.075^-0.075^-0.075^-0.075^-0.075^-0.075^-0.075^-0.075^-0.075^-0.075^-0.075^-0.075^-0.075^-0.075^-0.07^-0.07^-0.07^-0.07^-0.07^-0.07^-0.07^-0.07^-0.07^-0.07^-0.07^-0.07^-0.07^-0.07^-0.07^-0.065^-0.065^-0.065^-0.065^-0.065^-0.065^-0.065^-0.065^-0.07^-0.07^-0.075^-0.075^-0.08^-0.085^-0.09^-0.095^-0.1^-0.105^-0.11^-0.115^-0.12^-0.125^-0.13^-0.135^-0.14^-0.145^-0.15^-0.155^-0.16^-0.165^-0.17^-0.17^-0.175^-0.18^-0.185^-0.19^-0.195^-0.2^-0.205^-0.21^-0.21^-0.215^-0.215^-0.215^-0.215^-0.21^-0.21^-0.205^-0.2^-0.19^-0.185^-0.18^-0.175^-0.165^-0.16^-0.15^-0.145^-0.14^-0.135^-0.125^-0.12^-0.115^-0.11^-0.1^-0.095^-0.09^-0.085^-0.075^-0.07^-0.065^-0.06^-0.05^-0.045^-0.04^-0.035^-0.03^-0.025^-0.02^-0.015^-0.015^-0.01^-0.01^-0.005^-0.005^-0.005^-0.005^-0.005^-0.005^-0.005^-0.005^-0.005^-0.005^-0.005^-0.005^-0.005^-0.005^-0.005^-0.005^-0.005^-0.005^-0.005^-0.005^-0.005^-0.005^-0.005^-0.005^-0.005^-0.005^-0.005^-0.005^-0.005^-0.005^-0.005^-0.005^-0.005^-0.005^-0.005^-0.005^-0.005^-0.005^-0.005^-0.005^-0.005^-0.005^-0.005^-0.005^-0.005^-0.005^-0.005^-0.005^-0.005^-0.005^-0.005^-0.005^-0.005^-0.005^-0.005^-0.005^-0.005^-0.005^-0.005^-0.005^-0.005^-0.005^-0.005^-0.005^-0.005^-0.005^-0.005^-0.005^-0.005^-0.005^-0.005^-0.005^-0.005^-0.005|47|||||F||2.0009|20221027140220\r",
      "OBX|2|NA|5142||-0.005^-0.005^-0.005^-0.005^-0.005^-0.005^-0.005^-0.005^-0.005^-0.005^-0.005^-0.005^-0.005^-0.005^-0.005^-0.005^-0.005^-0.005^-0.005^-0.005^-0.005^-0.005^-0.005^-0.005^-0.005^-0.005^-0.005^-0.005^-0.005^-0.005^-0.005^-0.005^-0.005^-0.005^-0.005^-0.005^-0.005^-0.005^-0.005^-0.005^-0.005^-0.005^-0.005^-0.005^-0.005^-0.005^-0.005^-0.005^-0.005^-0.005^-0.005^-0.005^-0.005^-0.005^-0.005^1.3^-0.005^-0.005^-0.005^-0.005^-0.005^-0.005^-0.005^-0.005^-0.005^-0.005^-0.005^-0.005^-0.005^-0.005^-0.005^-0.005^-0.005^-0.005^-0.005^-0.005^-0.005^-0.005^0.005^0.015^0.035^0.045^0.065^0.095^0.115^0.145^0.175^0.215^0.245^0.275^0.315^0.345^0.375^0.415^0.445^0.475^0.505^0.525^0.545^0.565^0.565^0.565^0.555^0.545^0.525^0.495^0.465^0.425^0.395^0.355^0.305^0.275^0.235^0.205^0.155^0.125^0.095^0.065^0.025^-0.005^-0.015^-0.045^-0.065^-0.065^-0.075^-0.075^-0.085^-0.075^-0.075^-0.075^-0.075^-0.075^-0.085^-0.085^-0.085^-0.085^-0.085^-0.075^-0.075^-0.075^-0.075^-0.075^-0.075^-0.075^-0.075^-0.065^-0.065^-0.065^-0.065^-0.075^-0.075^-0.075^-0.075^-0.065^-0.065^-0.065^-0.065^-0.065^-0.065^-0.065^-0.065^-0.065^-0.055^-0.055^-0.065^-0.065^-0.065^-0.065^-0.065^-0.055^-0.055^-0.055^-0.055^-0.055^-0.055^-0.055^-0.055^-0.045^-0.045^-0.045^-0.055^-0.055^-0.055^-0.055^-0.055^-0.045^-0.045^-0.045^-0.045^-0.045^-0.045^-0.045^-0.045^-0.045^-0.045^-0.045^-0.045^-0.045^-0.045^-0.045^-0.045^-0.045^-0.045^-0.045^-0.045^-0.045^-0.045^-0.045^-0.045^-0.045^-0.045^-0.045^-0.055^-0.045^-0.045^-0.045^-0.045^-0.045^-0.045^-0.045^-0.045^-0.045^-0.045^-0.045^-0.045^-0.045^-0.045^-0.045^-0.045^-0.045^-0.045^-0.045^-0.045^-0.045^-0.045^-0.045^-0.055^-0.055^-0.055^-0.055^-0.055^-0.065^-0.065^-0.065^-0.075^-0.075^-0.085^-0.085^-0.085^-0.095^-0.095^-0.105^-0.105^-0.105^-0.115^-0.115^-0.125^-0.125^-0.125^-0.125^-0.125^-0.135^-0.135^-0.135^-0.145^-0.145^-0.155^-0.155^-0.155^-0.165^-0.165^-0.165^-0.165^-0.155^-0.165^-0.165^-0.155^-0.145^-0.145^-0.145^-0.145^-0.135^-0.125^-0.115^-0.115^-0.115^-0.115^-0.095^-0.095^-0.095^-0.095^-0.085^-0.075^-0.075^-0.075^-0.065^-0.065^-0.065^-0.055^-0.045^-0.045^-0.035^-0.035^-0.035^-0.025^-0.025^-0.015^-0.015^-0.015^-0.015^-0.005^-0.005^-0.005^-0.005^-0.005^-0.005^-0.005^-0.005^-0.005^-0.005^-0.005^-0.005^-0.005^-0.005^-0.005^-0.005^-0.005^-0.005^-0.005^-0.005^-0.005^-0.005^-0.005^-0.005^-0.005^-0.005^-0.005^-0.005^-0.005^-0.005^-0.005^-0.005^-0.005^-0.005^-0.005^-0.005^-0.005^-0.005^-0.005^-0.005^-0.005^-0.005^-0.005^-0.005^-0.005^-0.005^-0.005^-0.005^-0.005^-0.005^-0.005^-0.005^-0.005^-0.005^-0.005^-0.005^-0.005^-0.005^-0.005^-0.005^-0.005^-0.005^-0.005^-0.005^-0.005^-0.005^-0.005^-0.005^-0.005^-0.005^-0.005^-0.005^-0.005^-0.005|47|||||F||2.0009|20221027140220\r",
      "MSH|^~\\&|DATACAPTOR||||20221027140220||ORU^R01|2a27140220778b21|P|2.3||||||8859/1\r",
      "PID\r",
      "PV1||I|CH2\r",
      "OBR|||||||20221027140220|||CH2|||CH2\r",
      "OBX|1|NA|8857||71.375^71.1875^71^70.875^70.6875^70.5625^70.4375^70.3125^70.1875^70.125^70.0625^70^70^70^70.0625^70.125^70.25^70.3125^70.5^70.8125^71.375^72.1875^73.4375^75.1875^77.5^80.25^83.5625^87.375^91.5^95.5^99.25^102.625^105.75^108.8125^111.5^113.6875^115.3125^116.5^117.4375^118.1875^118.8125^119.25^119.625^119.9375^120.125^120.25^120.125^119.875^119.375^118.75^117.9375^117^115.875^114.5^113^111.3125^109.8125^108.4375^107.3125^106.375^105.5625^104.875^104.25^103.6875^103.1875^102.8125^102.875^103.5625^104.75^105.875^106.5625^106.8125^106.75^106.375^105.625^104.4375^103.0625^101.5625^100^98.5625^97.25^96.0625^94.875^93.6875^92.5625^91.375^90.375^89.5^88.75^88.0625^87.3125^86.5625^85.9375^85.3125^84.75^84.0625|9|||||F||8.0036|20221027140220\r",
      "MSH|^~\\&|DATACAPTOR||||20221027140220||ORU^R01|2a27140220779b31|P|2.3||||||8859/1\r",
      "PID\r",
      "PV1||I|CH2\r",
      "OBR|||||||20221027140220|||CH2|||CH2\r",
      "OBX|1|NA|8870||0.913016^0.914603^0.914921^0.914286^0.912698^0.909841^0.905397^0.9^0.893968^0.887302^0.88^0.871429^0.861587^0.851111^0.839365^0.826349^0.812063^0.797143^0.78127^0.764762^0.747937^0.729841^0.710476^0.690159^0.669206^0.647619^0.626032^0.604127^0.581905^0.559683^0.537143^0.513968^0.489841^0.466032^0.44254^0.418413^0.393651^0.368254^0.342857^0.318095^0.293968^0.269524^0.244762^0.220635^0.197143^0.174286^0.152063^0.130159|84|||||F||16.0072|20221027140220\r",
      "MSH|^~\\&|DATACAPTOR||||20221027140221||ORU^R01|2a27140221564b41|P|2.3||||||8859/1\r",
      "PID\r",
      "PV1||I|CH2\r",
      "OBR|||||||20221027140221|||CH2|||CH2\r",
      "OBX|1|NA|113||2749^2803^2853^2899^2939^2975^3005^3029^3048^3062^3070^3072^3068^3059^3045^3026^3002^2973^2939^2902^2860^2816^2768^2717^2664^2609^2553^2495^2437^2379^2320^2263^2206^2150^2096^2043^1993^1945^1899^1856^1816^1779^1746^1715^1687^1663^1641^1623^1607^1594^1583^1575^1569^1565^1562^1561^1561^1562^1563^1565^1566^1568^1568^1568^1567^1565^1562^1557^1550^1541^1531^1519^1504^1488^1470^1451^1429^1407^1382^1357^1331^1304^1276^1249^1222^1195^1169^1144^1120^1099^1079^1062^1048^1037^1029^1025|139|||||F||8.0036|20221027140221\r",
      "MSH|^~\\&|DATACAPTOR||||20221027140221||ORU^R01|2a27140221564b51|P|2.3||||||8859/1\r",
      "PID\r",
      "PV1||I|CH2\r",
      "OBR|||||||20221027140220|||CH2|||CH2\r",
      "OBX|1|NA|5141||-0.005^-0.005^-0.005^-0.005^-0.005^-0.005^-0.005^-0.005^-0.005^-0.005^-0.005^-0.005^-0.005^-0.005^-0.005^-0.005^-0.005^-0.005^-0.005^-0.005^-0.005^-0.005^-0.005^-0.005^-0.005^-0.005^-0.005^-0.005^-0.005^-0.005^-0.005^-0.005^-0.005^-0.005^-0.005^-0.005^-0.005^-0.005^-0.005^-0.005^-0.005^-0.005^-0.005^-0.005^-0.005^-0.005^-0.005^-0.005^-0.005^-0.005^-0.005^-0.005^-0.005^-0.005^-0.005^-0.005^-0.005^-0.005^-0.005^-0.005^-0.005^-0.005^-0.005^-0.005^-0.005^-0.005^-0.005^-0.005^-0.005^-0.005^-0.005^-0.005^-0.005^-0.005^-0.005^-0.005^-0.005^-0.005^-0.005^-0.005^-0.005^-0.005^-0.005^-0.005^-0.005^-0.005^-0.005^-0.005^-0.005^-0.005^-0.005^-0.005^-0.005^-0.005^-0.005^-0.005^-0.005^-0.005^-0.005^-0.005^-0.005^-0.005^-0.005^-0.005^-0.005^-0.005^-0.005^-0.005^-0.005^-0.005^-0.005^-0.005^-0.005^-0.005^-0.005^-0.005^-0.005^-0.005^-0.005^-0.005^-0.005^-0.005^-0.005^-0.005^-0.005^-0.005^-0.005^-0.005^-0.005^-0.005^-0.005^-0.005^-0.005^-0.005^-0.005^-0.005^-0.005^-0.005^-0.005^-0.005^-0.005^-0.005^-0.005^-0.005^-0.005^-0.005^-0.005^-0.005^-0.005^-0.005^-0.005^-0.005^-0.005^-0.005^-0.005^-0.005^-0.005^-0.005^-0.005^-0.005^-0.005^-0.005^-0.005^-0.005^-0.005^-0.005^-0.005^-0.005^-0.005^-0.005^-0.005^2.02^-0.005^-0.005^-0.005^-0.005^-0.005^-0.005^-0.005^-0.005^-0.005^-0.005^-0.005^-0.005^-0.005^-0.005^-0.005^-0.005^-0.005^-0.005^-0.005^-0.005^-0.005^-0^0.01^0.02^0.04^0.06^0.085^0.12^0.155^0.195^0.24^0.285^0.335^0.38^0.425^0.475^0.52^0.57^0.615^0.66^0.705^0.74^0.77^0.79^0.8^0.8^0.79^0.775^0.745^0.705^0.66^0.61^0.555^0.505^0.45^0.4^0.345^0.295^0.24^0.19^0.135^0.09^0.05^0.01^-0.025^-0.05^-0.075^-0.09^-0.105^-0.11^-0.115^-0.115^-0.115^-0.115^-0.115^-0.115^-0.115^-0.115^-0.115^-0.115^-0.115^-0.11^-0.11^-0.11^-0.11^-0.11^-0.11^-0.11^-0.11^-0.105^-0.105^-0.105^-0.105^-0.105^-0.105^-0.105^-0.105^-0.1^-0.1^-0.1^-0.1^-0.1^-0.1^-0.1^-0.1^-0.1^-0.095^-0.095^-0.095^-0.095^-0.095^-0.095^-0.095^-0.09^-0.09^-0.09^-0.09^-0.09^-0.09^-0.09^-0.09^-0.085^-0.085^-0.085^-0.085^-0.085^-0.085^-0.085^-0.085^-0.08^-0.08^-0.08^-0.08^-0.08^-0.08^-0.08^-0.08^-0.08^-0.08^-0.08^-0.075^-0.075^-0.075^-0.075^-0.075^-0.075^-0.075^-0.075^-0.075^-0.075^-0.075^-0.075^-0.075^-0.075^-0.075^-0.075^-0.075^-0.07^-0.07^-0.07^-0.07^-0.07^-0.07^-0.07^-0.07^-0.07^-0.07^-0.07^-0.07^-0.07^-0.07^-0.07^-0.065^-0.065^-0.065^-0.065^-0.065^-0.065^-0.065^-0.065^-0.07^-0.07^-0.075^-0.075^-0.08^-0.085^-0.09^-0.095^-0.1^-0.105^-0.11^-0.115^-0.12^-0.125^-0.13^-0.135^-0.14^-0.145^-0.15^-0.155^-0.16^-0.165^-0.17^-0.17^-0.175^-0.18^-0.185^-0.19^-0.195^-0.2^-0.205^-0.21|47|||||F||2.0009|20221027140220\r",
      "OBX|2|NA|5142||-0.005^-0.005^-0.005^-0.005^-0.005^-0.005^-0.005^-0.005^-0.005^-0.005^-0.005^-0.005^-0.005^-0.005^-0.005^-0.005^-0.005^-0.005^-0.005^-0.005^-0.005^-0.005^-0.005^-0.005^-0.005^-0.005^-0.005^-0.005^-0.005^-0.005^-0.005^-0.005^-0.005^-0.005^-0.005^-0.005^-0.005^-0.005^-0.005^-0.005^-0.005^-0.005^-0.005^-0.005^-0.005^-0.005^-0.005^-0.005^-0.005^-0.005^-0.005^-0.005^-0.005^-0.005^-0.005^-0.005^-0.005^-0.005^-0.005^-0.005^-0.005^-0.005^-0.005^-0.005^-0.005^-0.005^-0.005^-0.005^-0.005^-0.005^-0.005^-0.005^-0.005^-0.005^-0.005^-0.005^-0.005^-0.005^-0.005^-0.005^-0.005^-0.005^-0.005^-0.005^-0.005^-0.005^-0.005^-0.005^-0.005^-0.005^-0.005^-0.005^-0.005^-0.005^-0.005^-0.005^-0.005^-0.005^-0.005^-0.005^-0.005^-0.005^-0.005^-0.005^-0.005^-0.005^-0.005^-0.005^-0.005^-0.005^-0.005^-0.005^-0.005^-0.005^-0.005^-0.005^-0.005^-0.005^-0.005^-0.005^-0.005^-0.005^-0.005^-0.005^-0.005^-0.005^-0.005^-0.005^-0.005^-0.005^-0.005^-0.005^-0.005^-0.005^-0.005^-0.005^-0.005^-0.005^-0.005^-0.005^-0.005^-0.005^-0.005^-0.005^-0.005^-0.005^-0.005^-0.005^-0.005^-0.005^-0.005^-0.005^-0.005^-0.005^-0.005^-0.005^-0.005^-0.005^-0.005^-0.005^-0.005^-0.005^-0.005^-0.005^-0.005^-0.005^-0.005^-0.005^-0.005^-0.005^-0.005^1.3^-0.005^-0.005^-0.005^-0.005^-0.005^-0.005^-0.005^-0.005^-0.005^-0.005^-0.005^-0.005^-0.005^-0.005^-0.005^-0.005^-0.005^-0.005^-0.005^-0.005^-0.005^-0.005^0.005^0.015^0.035^0.045^0.065^0.095^0.115^0.145^0.175^0.205^0.245^0.275^0.305^0.345^0.375^0.415^0.445^0.475^0.505^0.525^0.545^0.565^0.565^0.565^0.555^0.545^0.525^0.495^0.465^0.425^0.385^0.355^0.305^0.275^0.235^0.205^0.155^0.125^0.085^0.055^0.025^-0.005^-0.025^-0.045^-0.065^-0.065^-0.075^-0.075^-0.085^-0.075^-0.075^-0.075^-0.075^-0.075^-0.085^-0.085^-0.085^-0.085^-0.085^-0.075^-0.075^-0.075^-0.075^-0.075^-0.075^-0.075^-0.075^-0.065^-0.065^-0.065^-0.065^-0.075^-0.075^-0.075^-0.075^-0.065^-0.065^-0.065^-0.065^-0.065^-0.065^-0.065^-0.065^-0.065^-0.055^-0.055^-0.065^-0.065^-0.065^-0.065^-0.065^-0.055^-0.055^-0.055^-0.055^-0.055^-0.055^-0.055^-0.055^-0.045^-0.045^-0.045^-0.055^-0.055^-0.055^-0.055^-0.055^-0.045^-0.045^-0.045^-0.045^-0.045^-0.045^-0.045^-0.045^-0.045^-0.045^-0.045^-0.045^-0.045^-0.045^-0.045^-0.045^-0.045^-0.045^-0.045^-0.045^-0.045^-0.045^-0.045^-0.045^-0.045^-0.045^-0.045^-0.055^-0.045^-0.045^-0.045^-0.045^-0.045^-0.045^-0.045^-0.045^-0.045^-0.045^-0.045^-0.045^-0.045^-0.045^-0.045^-0.045^-0.045^-0.045^-0.045^-0.045^-0.045^-0.045^-0.045^-0.055^-0.055^-0.055^-0.055^-0.055^-0.065^-0.065^-0.065^-0.075^-0.075^-0.085^-0.085^-0.085^-0.095^-0.095^-0.105^-0.105^-0.105^-0.115^-0.115^-0.125^-0.125^-0.125^-0.125^-0.125^-0.135^-0.135^-0.135^-0.145^-0.145^-0.155^-0.155|47|||||F||2.0009|20221027140220\r",
      "MSH|^~\\&|DATACAPTOR||||20221027140221||ORU^R01|2a27140221565b61|P|2.3||||||8859/1\r",
      "PID\r",
      "PV1||I|CH2\r",
      "OBR|||||||20221027140221|||CH2|||CH2\r",
      "OBX|1|NA|8857||83.375^82.6875^82^81.3125^80.625^79.8125^79.125^78.5^78^77.5^77.0625^76.625^76.1875^75.75^75.4375^75.0625^74.6875^74.375^74.0625^73.75^73.5^73.1875^72.9375^72.6875^72.4375^72.25^72^71.75^71.5625^71.375^71.1875^71^70.875^70.6875^70.5625^70.4375^70.3125^70.1875^70.125^70.0625^70^70^70^70.0625^70.125^70.25^70.3125^70.5^70.8125^71.375^72.1875^73.4375^75.1875^77.5^80.25^83.5625^87.375^91.5^95.5^99.25^102.625^105.75^108.8125^111.5^113.6875^115.3125^116.5^117.4375^118.1875^118.8125^119.25^119.625^119.9375^120.125^120.25^120.125^119.875^119.375^118.75^117.9375^117^115.875^114.5^113^111.3125^109.8125^108.4375^107.3125^106.375^105.5625^104.875^104.25^103.6875^103.1875^102.8125^102.875|9|||||F||8.0036|20221027140221\r",
      "MSH|^~\\&|DATACAPTOR||||20221027140221||ORU^R01|2a27140221565b71|P|2.3||||||8859/1\r",
      "PID\r",
      "PV1||I|CH2\r",
      "OBR|||||||20221027140221|||CH2|||CH2\r",
      "OBX|1|NA|8870||0.108571^0.086984^0.066032^0.045397^0.025397^0.007302^-0.009524^-0.025079^-0.04^-0.053651^-0.066667^-0.077778^-0.087619^-0.096508^-0.104444^-0.110476^-0.115238^-0.11873^-0.12127^-0.123175^-0.124762^-0.124762^-0.12381^-0.121905^-0.119365^-0.11619^-0.113016^-0.109524^-0.105714^-0.101905^-0.098095^-0.094603^-0.091111^-0.087619^-0.084444^-0.08127^-0.078095^-0.074921^-0.071746^-0.068571^-0.065397^-0.06254^-0.06^-0.05746^-0.054921^-0.052381^-0.049841^-0.047302|84|||||F||16.0072|20221027140221\r",
      "MSH|^~\\&|DATACAPTOR||||20221027140221||ORU^R01|2a27140221763b81|P|2.3||||||8859/1\r",
      "PID\r",
      "PV1||I|CH2\r",
      "OBR|||||||20221027140221|||CH2|||CH2\r",
      "OBX|1|NA|113||1024^1028^1035^1048^1064^1086^1111^1142^1177^1216^1260^1309^1361^1417^1477^1541^1607^1676^1747^1820^1895^1971^2047^2124^2201^2276^2351^2424^2495^2563^2628^2691|139|||||F||8.0036|20221027140221\r",
      "MSH|^~\\&|DATACAPTOR||||20221027140221||ORU^R01|2a27140221763b91|P|2.3||||||8859/1\r",
      "PID\r",
      "PV1||I|CH2\r",
      "OBR|||||||20221027140221|||CH2|||CH2\r",
      "OBX|1|NA|5141||-0.21^-0.215^-0.215^-0.215^-0.215^-0.21^-0.21^-0.205^-0.2^-0.195^-0.185^-0.18^-0.175^-0.165^-0.16^-0.155^-0.145^-0.14^-0.135^-0.125^-0.12^-0.115^-0.11^-0.1^-0.095^-0.09^-0.085^-0.075^-0.07^-0.065^-0.06^-0.05^-0.045^-0.04^-0.035^-0.03^-0.025^-0.02^-0.015^-0.015^-0.01^-0.01^-0.005^-0.005^-0.005^-0.005^-0.005^-0.005^-0.005^-0.005^-0.005^-0.005^-0.005^-0.005^-0.005^-0.005^-0.005^-0.005^-0.005^-0.005^-0.005^-0.005^-0.005^-0.005^-0.005^-0.005^-0.005^-0.005^-0.005^-0.005^-0.005^-0.005^-0.005^-0.005^-0.005^-0.005^-0.005^-0.005^-0.005^-0.005^-0.005^-0.005^-0.005^-0.005^-0.005^-0.005^-0.005^-0.005^-0.005^-0.005^-0.005^-0.005^-0.005^-0.005^-0.005^-0.005^-0.005^-0.005^-0.005^-0.005^-0.005^-0.005^-0.005^-0.005^-0.005^-0.005^-0.005^-0.005^-0.005^-0.005^-0.005^-0.005^-0.005^-0.005^-0.005^-0.005^-0.005^-0.005^-0.005^-0.005^-0.005^-0.005^-0.005^-0.005^-0.005^-0.005^-0.005^-0.005|47|||||F||2.0009|20221027140221\r",
      "OBX|2|NA|5142||-0.155^-0.165^-0.165^-0.165^-0.165^-0.155^-0.165^-0.165^-0.155^-0.155^-0.145^-0.145^-0.145^-0.135^-0.125^-0.125^-0.115^-0.115^-0.115^-0.095^-0.095^-0.095^-0.095^-0.085^-0.075^-0.075^-0.075^-0.065^-0.065^-0.065^-0.055^-0.045^-0.045^-0.035^-0.035^-0.035^-0.025^-0.025^-0.015^-0.015^-0.015^-0.015^-0.005^-0.005^-0.005^-0.005^-0.005^-0.005^-0.005^-0.005^-0.005^-0.005^-0.005^-0.005^-0.005^-0.005^-0.005^-0.005^-0.005^-0.005^-0.005^-0.005^-0.005^-0.005^-0.005^-0.005^-0.005^-0.005^-0.005^-0.005^-0.005^-0.005^-0.005^-0.005^-0.005^-0.005^-0.005^-0.005^-0.005^-0.005^-0.005^-0.005^-0.005^-0.005^-0.005^-0.005^-0.005^-0.005^-0.005^-0.005^-0.005^-0.005^-0.005^-0.005^-0.005^-0.005^-0.005^-0.005^-0.005^-0.005^-0.005^-0.005^-0.005^-0.005^-0.005^-0.005^-0.005^-0.005^-0.005^-0.005^-0.005^-0.005^-0.005^-0.005^-0.005^-0.005^-0.005^-0.005^-0.005^-0.005^-0.005^-0.005^-0.005^-0.005^-0.005^-0.005^-0.005^-0.005|47|||||F||2.0009|20221027140221\r",
      "MSH|^~\\&|DATACAPTOR||||20221027140221||ORU^R01|2a27140221763ba1|P|2.3||||||8859/1\r",
      "PID\r",
      "PV1||I|CH2\r",
      "OBR|||||||20221027140221|||CH2|||CH2\r",
      "OBX|1|NA|8857||103.5625^104.75^105.875^106.5625^106.8125^106.75^106.375^105.625^104.4375^103.0625^101.5625^100^98.5625^97.25^96.0625^94.875^93.6875^92.5625^91.375^90.375^89.5^88.75^88.0625^87.3125^86.5625^85.9375^85.3125^84.75^84.0625^83.375^82.6875^82|9|||||F||8.0036|20221027140221\r",
      "MSH|^~\\&|DATACAPTOR||||20221027140221||ORU^R01|2a27140221763bb1|P|2.3||||||8859/1\r",
      "PID\r",
      "PV1||I|CH2\r",
      "OBR|||||||20221027140221|||CH2|||CH2\r",
      "OBX|1|NA|8870||-0.044762^-0.042857^-0.040952^-0.039048^-0.037143^-0.035238^-0.033333^-0.031429^-0.029524^-0.027619^-0.025714^-0.02381^-0.022222^-0.020952^-0.019683^-0.018413|84|||||F||16.0072|20221027140221\r",
      "MSH|^~\\&|DATACAPTOR||||20221027140222||ORU^R01|2a27140222564bc1|P|2.3||||||8859/1\r",
      "PID\r",
      "PV1||I|CH2\r",
      "OBR|||||||20221027140222|||CH2|||CH2\r",
      "OBX|1|NA|113||2749^2803^2853^2899^2939^2975^3005^3029^3048^3062^3070^3072^3068^3059^3045^3026^3002^2973^2939^2902^2860^2816^2768^2717^2664^2609^2553^2495^2437^2379^2320^2263^2206^2150^2096^2043^1993^1945^1899^1856^1816^1779^1746^1715^1687^1663^1641^1623^1607^1594^1583^1575^1569^1565^1562^1561^1561^1562^1563^1565^1566^1568^1568^1568|139|||||F||8.0036|20221027140222\r",
      "MSH|^~\\&|DATACAPTOR||||20221027140222||ORU^R01|2a27140222564bd1|P|2.3||||||8859/1\r",
      "PID\r",
      "PV1||I|CH2\r",
      "OBR|||||||20221027140221|||CH2|||CH2\r",
      "OBX|1|NA|5141||-0.005^-0.005^-0.005^-0.005^-0.005^-0.005^-0.005^-0.005^-0.005^-0.005^-0.005^-0.005^-0.005^-0.005^-0.005^-0.005^-0.005^-0.005^-0.005^-0.005^-0.005^-0.005^-0.005^-0.005^-0.005^-0.005^-0.005^-0.005^-0.005^-0.005^-0.005^-0.005^-0.005^-0.005^-0.005^-0.005^-0.005^-0.005^-0.005^-0.005^-0.005^-0.005^-0.005^-0.005^-0.005^-0.005^-0.005^-0.005^-0.005^-0.005^-0.005^-0.005^-0.005^-0.005^-0.005^-0.005^-0.005^-0.005^-0.005^-0.005^-0.005^-0.005^-0.005^-0.005^-0.005^-0.005^-0.005^-0.005^-0.005^-0.005^-0.005^-0.005^-0.005^-0.005^-0.005^-0.005^-0.005^-0.005^-0.005^-0.005^-0.005^-0.005^-0.005^-0.005^-0.005^-0.005^-0.005^-0.005^-0.005^-0.005^-0.005^-0.005^-0.005^-0.005^-0.005^-0.005^-0.005^-0.005^-0.005^-0.005^-0.005^-0.005^-0.005^-0.005^-0.005^-0.005^-0.005^-0.005^-0.005^-0.005^-0.005^-0.005^-0.005^-0.005^-0.005^-0.005^-0.005^-0.005^-0.005^-0.005^-0.005^-0.005^-0.005^-0.005^-0.005^-0.005^-0.005^-0.005^-0.005^-0.005^-0.005^-0.005^-0.005^-0.005^-0.005^-0.005^-0.005^-0.005^-0.005^-0.005^-0.005^-0.005^-0.005^-0.005^-0.005^-0.005^-0.005^-0.005^-0.005^-0.005^-0.005^-0.005^-0.005^-0.005^-0.005^-0.005^-0.005^-0.005^-0.005^2.02^-0.005^-0.005^-0.005^-0.005^-0.005^-0.005^-0.005^-0.005^-0.005^-0.005^-0.005^-0.005^-0.005^-0.005^-0.005^-0.005^-0.005^-0.005^-0.005^-0.005^-0.005^-0^0.01^0.02^0.04^0.06^0.085^0.12^0.155^0.195^0.24^0.29^0.335^0.38^0.43^0.475^0.52^0.57^0.615^0.66^0.705^0.74^0.77^0.79^0.8^0.8^0.79^0.775^0.745^0.705^0.66^0.61^0.56^0.505^0.45^0.4^0.345^0.295^0.24^0.19^0.14^0.095^0.05^0.01^-0.02^-0.05^-0.075^-0.09^-0.105^-0.11^-0.115^-0.115^-0.115^-0.115^-0.115^-0.115^-0.115^-0.115^-0.115^-0.115^-0.115^-0.11^-0.11^-0.11^-0.11^-0.11^-0.11^-0.11^-0.11^-0.105^-0.105^-0.105^-0.105^-0.105^-0.105^-0.105|47|||||F||2.0009|20221027140221\r",
      "OBX|2|NA|5142||-0.005^-0.005^-0.005^-0.005^-0.005^-0.005^-0.005^-0.005^-0.005^-0.005^-0.005^-0.005^-0.005^-0.005^-0.005^-0.005^-0.005^-0.005^-0.005^-0.005^-0.005^-0.005^-0.005^-0.005^-0.005^-0.005^-0.005^-0.005^-0.005^-0.005^-0.005^-0.005^-0.005^-0.005^-0.005^-0.005^-0.005^-0.005^-0.005^-0.005^-0.005^-0.005^-0.005^-0.005^-0.005^-0.005^-0.005^-0.005^-0.005^-0.005^-0.005^-0.005^-0.005^-0.005^-0.005^-0.005^-0.005^-0.005^-0.005^-0.005^-0.005^-0.005^-0.005^-0.005^-0.005^-0.005^-0.005^-0.005^-0.005^-0.005^-0.005^-0.005^-0.005^-0.005^-0.005^-0.005^-0.005^-0.005^-0.005^-0.005^-0.005^-0.005^-0.005^-0.005^-0.005^-0.005^-0.005^-0.005^-0.005^-0.005^-0.005^-0.005^-0.005^-0.005^-0.005^-0.005^-0.005^-0.005^-0.005^-0.005^-0.005^-0.005^-0.005^-0.005^-0.005^-0.005^-0.005^-0.005^-0.005^-0.005^-0.005^-0.005^-0.005^-0.005^-0.005^-0.005^-0.005^-0.005^-0.005^-0.005^-0.005^-0.005^-0.005^-0.005^-0.005^-0.005^-0.005^-0.005^-0.005^-0.005^-0.005^-0.005^-0.005^-0.005^-0.005^-0.005^-0.005^-0.005^-0.005^-0.005^-0.005^-0.005^-0.005^-0.005^-0.005^-0.005^-0.005^-0.005^-0.005^-0.005^-0.005^-0.005^-0.005^-0.005^-0.005^-0.005^-0.005^-0.005^-0.005^1.3^-0.005^-0.005^-0.005^-0.005^-0.005^-0.005^-0.005^-0.005^-0.005^-0.005^-0.005^-0.005^-0.005^-0.005^-0.005^-0.005^-0.005^-0.005^-0.005^-0.005^-0.005^-0.005^0.005^0.015^0.035^0.045^0.065^0.095^0.115^0.145^0.175^0.215^0.245^0.275^0.315^0.345^0.375^0.415^0.445^0.475^0.505^0.525^0.545^0.565^0.565^0.565^0.555^0.545^0.525^0.495^0.465^0.425^0.395^0.355^0.305^0.275^0.235^0.205^0.155^0.125^0.095^0.065^0.025^-0.005^-0.015^-0.045^-0.065^-0.065^-0.075^-0.075^-0.085^-0.075^-0.075^-0.075^-0.075^-0.075^-0.085^-0.085^-0.085^-0.085^-0.085^-0.075^-0.075^-0.075^-0.075^-0.075^-0.075^-0.075^-0.075^-0.065^-0.065^-0.065^-0.065^-0.075^-0.075^-0.075|47|||||F||2.0009|20221027140221\r",
      "MSH|^~\\&|DATACAPTOR||||20221027140222||ORU^R01|2a27140222564be1|P|2.3||||||8859/1\r",
      "PID\r",
      "PV1||I|CH2\r",
      "OBR|||||||20221027140222|||CH2|||CH2\r",
      "OBX|1|NA|8857||81.3125^80.625^79.8125^79.125^78.5^78^77.5^77.0625^76.625^76.1875^75.75^75.4375^75.0625^74.6875^74.375^74.0625^73.75^73.5^73.1875^72.9375^72.6875^72.4375^72.25^72^71.75^71.5625^71.375^71.1875^71^70.875^70.6875^70.5625^70.4375^70.3125^70.1875^70.125^70.0625^70^70^70^70.0625^70.125^70.25^70.3125^70.5^70.8125^71.375^72.1875^73.4375^75.1875^77.5^80.25^83.5625^87.375^91.5^95.5^99.25^102.625^105.75^108.8125^111.5^113.6875^115.3125^116.5|9|||||F||8.0036|20221027140222\r",
      "MSH|^~\\&|DATACAPTOR||||20221027140222||ORU^R01|2a27140222564bf1|P|2.3||||||8859/1\r",
      "PID\r",
      "PV1||I|CH2\r",
      "OBR|||||||20221027140222|||CH2|||CH2\r",
      "OBX|1|NA|8870||-0.017143^-0.015873^-0.014603^-0.013333^-0.012063^-0.010794^-0.009524^-0.008254^-0.006984^-0.005714^-0.004762^-0.00381^-0.003175^-0.002222^-0.001587^-0.000635^0^0.000635^0.00127^0.001905^0.00254^0.003175^0.00381^0.004444^0.005079^0.005714^0.006349^0.006984^0.007619^0.008254^0.008889^0.009524|84|||||F||16.0072|20221027140222\r",
      "MSH|^~\\&|DATACAPTOR||||20221027140222||ORU^R01|2a27140222764c01|P|2.3||||||8859/1\r",
      "PID\r",
      "PV1||I|CH2\r",
      "OBR|||||||20221027140222|||CH2|||CH2\r",
      "OBX|1|NA|113||1567^1565^1562^1557^1550^1541^1531^1519^1504^1488^1470^1451^1429^1407^1382^1357^1331^1304^1276^1249^1222^1195^1169^1144^1120^1099^1079^1062^1048^1037^1029^1025^1024^1028^1035^1048^1064^1086^1111^1142^1177^1216^1260^1309^1361^1417^1477^1541^1607^1676^1747^1820^1895^1971^2047^2124^2201^2276^2351^2424^2495^2563^2628^2691|139|||||F||8.0036|20221027140222\r",
      "MSH|^~\\&|DATACAPTOR||||20221027140222||ORU^R01|2a27140222764c11|P|2.3||||||8859/1\r",
      "PID\r",
      "PV1||I|CH2\r",
      "OBR|||||||20221027140222|||CH2|||CH2\r",
      "OBX|1|NA|5141||-0.105^-0.1^-0.1^-0.1^-0.1^-0.1^-0.1^-0.1^-0.1^-0.1^-0.095^-0.095^-0.095^-0.095^-0.095^-0.095^-0.095^-0.09^-0.09^-0.09^-0.09^-0.09^-0.09^-0.09^-0.09^-0.085^-0.085^-0.085^-0.085^-0.085^-0.085^-0.085^-0.085^-0.08^-0.08^-0.08^-0.08^-0.08^-0.08^-0.08^-0.08^-0.08^-0.08^-0.08^-0.075^-0.075^-0.075^-0.075^-0.075^-0.075^-0.075^-0.075^-0.075^-0.075^-0.075^-0.075^-0.075^-0.075^-0.075^-0.075^-0.075^-0.07^-0.07^-0.07^-0.07^-0.07^-0.07^-0.07^-0.07^-0.07^-0.07^-0.07^-0.07^-0.07^-0.07^-0.07^-0.065^-0.065^-0.065^-0.065^-0.065^-0.065^-0.065^-0.065^-0.07^-0.07^-0.075^-0.075^-0.08^-0.085^-0.09^-0.095^-0.1^-0.105^-0.11^-0.115^-0.12^-0.125^-0.13^-0.135^-0.14^-0.145^-0.15^-0.155^-0.16^-0.165^-0.17^-0.17^-0.175^-0.18^-0.185^-0.19^-0.195^-0.2^-0.205^-0.21^-0.21^-0.215^-0.215^-0.215^-0.215^-0.21^-0.21^-0.205^-0.2^-0.195^-0.185^-0.18^-0.175^-0.165^-0.16^-0.155^-0.145^-0.14^-0.135^-0.125^-0.12^-0.115^-0.11^-0.1^-0.095^-0.09^-0.085^-0.075^-0.07^-0.065^-0.06^-0.05^-0.045^-0.04^-0.035^-0.03^-0.025^-0.02^-0.015^-0.015^-0.01^-0.01^-0.005^-0.005^-0.005^-0.005^-0.005^-0.005^-0.005^-0.005^-0.005^-0.005^-0.005^-0.005^-0.005^-0.005^-0.005^-0.005^-0.005^-0.005^-0.005^-0.005^-0.005^-0.005^-0.005^-0.005^-0.005^-0.005^-0.005^-0.005^-0.005^-0.005^-0.005^-0.005^-0.005^-0.005^-0.005^-0.005^-0.005^-0.005^-0.005^-0.005^-0.005^-0.005^-0.005^-0.005^-0.005^-0.005^-0.005^-0.005^-0.005^-0.005^-0.005^-0.005^-0.005^-0.005^-0.005^-0.005^-0.005^-0.005^-0.005^-0.005^-0.005^-0.005^-0.005^-0.005^-0.005^-0.005^-0.005^-0.005^-0.005^-0.005^-0.005^-0.005^-0.005^-0.005^-0.005^-0.005^-0.005^-0.005^-0.005^-0.005^-0.005^-0.005^-0.005^-0.005^-0.005^-0.005^-0.005^-0.005^-0.005^-0.005^-0.005^-0.005^-0.005^-0.005^-0.005^-0.005^-0.005^-0.005|47|||||F||2.0009|20221027140222\r",
      "OBX|2|NA|5142||-0.075^-0.065^-0.065^-0.065^-0.065^-0.065^-0.065^-0.065^-0.065^-0.065^-0.055^-0.055^-0.065^-0.065^-0.065^-0.065^-0.065^-0.055^-0.055^-0.055^-0.055^-0.055^-0.055^-0.055^-0.055^-0.045^-0.045^-0.045^-0.055^-0.055^-0.055^-0.055^-0.055^-0.045^-0.045^-0.045^-0.045^-0.045^-0.045^-0.045^-0.045^-0.045^-0.045^-0.045^-0.045^-0.045^-0.045^-0.045^-0.045^-0.045^-0.045^-0.045^-0.045^-0.045^-0.045^-0.045^-0.045^-0.045^-0.045^-0.045^-0.055^-0.045^-0.045^-0.045^-0.045^-0.045^-0.045^-0.045^-0.045^-0.045^-0.045^-0.045^-0.045^-0.045^-0.045^-0.045^-0.045^-0.045^-0.045^-0.045^-0.045^-0.045^-0.045^-0.045^-0.055^-0.055^-0.055^-0.055^-0.055^-0.065^-0.065^-0.065^-0.075^-0.075^-0.085^-0.085^-0.085^-0.095^-0.095^-0.105^-0.105^-0.105^-0.115^-0.115^-0.125^-0.125^-0.125^-0.125^-0.125^-0.135^-0.135^-0.135^-0.145^-0.145^-0.155^-0.155^-0.155^-0.165^-0.165^-0.165^-0.165^-0.155^-0.165^-0.165^-0.155^-0.155^-0.145^-0.145^-0.145^-0.135^-0.125^-0.125^-0.115^-0.115^-0.115^-0.095^-0.095^-0.095^-0.095^-0.085^-0.075^-0.075^-0.075^-0.065^-0.065^-0.065^-0.055^-0.045^-0.045^-0.035^-0.035^-0.035^-0.025^-0.025^-0.015^-0.015^-0.015^-0.015^-0.005^-0.005^-0.005^-0.005^-0.005^-0.005^-0.005^-0.005^-0.005^-0.005^-0.005^-0.005^-0.005^-0.005^-0.005^-0.005^-0.005^-0.005^-0.005^-0.005^-0.005^-0.005^-0.005^-0.005^-0.005^-0.005^-0.005^-0.005^-0.005^-0.005^-0.005^-0.005^-0.005^-0.005^-0.005^-0.005^-0.005^-0.005^-0.005^-0.005^-0.005^-0.005^-0.005^-0.005^-0.005^-0.005^-0.005^-0.005^-0.005^-0.005^-0.005^-0.005^-0.005^-0.005^-0.005^-0.005^-0.005^-0.005^-0.005^-0.005^-0.005^-0.005^-0.005^-0.005^-0.005^-0.005^-0.005^-0.005^-0.005^-0.005^-0.005^-0.005^-0.005^-0.005^-0.005^-0.005^-0.005^-0.005^-0.005^-0.005^-0.005^-0.005^-0.005^-0.005^-0.005^-0.005^-0.005^-0.005^-0.005^-0.005^-0.005^-0.005^-0.005^-0.005^-0.005^-0.005^-0.005^-0.005|47|||||F||2.0009|20221027140222\r",
      "MSH|^~\\&|DATACAPTOR||||20221027140222||ORU^R01|2a27140222764c21|P|2.3||||||8859/1\r",
      "PID\r",
      "PV1||I|CH2\r",
      "OBR|||||||20221027140222|||CH2|||CH2\r",
      "OBX|1|NA|8857||117.4375^118.1875^118.8125^119.25^119.625^119.9375^120.125^120.25^120.125^119.875^119.375^118.75^117.9375^117^115.875^114.5^113^111.3125^109.8125^108.4375^107.3125^106.375^105.5625^104.875^104.25^103.6875^103.1875^102.8125^102.875^103.5625^104.75^105.875^106.5625^106.8125^106.75^106.375^105.625^104.4375^103.0625^101.5625^100^98.5625^97.25^96.0625^94.875^93.6875^92.5625^91.375^90.375^89.5^88.75^88.0625^87.3125^86.5625^85.9375^85.3125^84.75^84.0625^83.375^82.6875^82^81.3125^80.625^79.8125|9|||||F||8.0036|20221027140222\r",
      "MSH|^~\\&|DATACAPTOR||||20221027140222||ORU^R01|2a27140222765c31|P|2.3||||||8859/1\r",
      "PID\r",
      "PV1||I|CH2\r",
      "OBR|||||||20221027140222|||CH2|||CH2\r",
      "OBX|1|NA|8870||0.010159^0.010794^0.011429^0.012063^0.012698^0.013333^0.013651^0.013968^0.014286^0.014603^0.014921^0.015238^0.015556^0.015873^0.01619^0.016508^0.016825^0.017143^0.01746^0.01746^0.017778^0.017778^0.018095^0.018095^0.018413^0.018413^0.01873^0.01873^0.019048^0.019048^0.019365^0.019365|84|||||F||16.0072|20221027140222\r",
      "MSH|^~\\&|DATACAPTOR||||20221027140223||ORU^R01|2a27140223567c41|P|2.3||||||8859/1\r",
      "PID\r",
      "PV1||I|CH2\r",
      "OBR|||||||20221027140223|||CH2|||CH2\r",
      "OBX|1|NA|113||2749^2803^2853^2899^2939^2975^3005^3029^3048^3062^3070^3072^3068^3059^3045^3026^3002^2973^2939^2902^2860^2816^2768^2717^2664^2609^2553^2495^2437^2379^2320^2263^2206^2150^2096^2043^1993^1945^1899^1856^1816^1779^1746^1715^1687^1663^1641^1623^1607^1594^1583^1575^1569^1565^1562^1561^1561^1562^1563^1565^1566^1568^1568^1568|139|||||F||8.0036|20221027140223\r",
      "MSH|^~\\&|DATACAPTOR||||20221027140223||ORU^R01|2a27140223567c51|P|2.3||||||8859/1\r",
      "PID\r",
      "PV1||I|CH2\r",
      "OBR|||||||20221027140222|||CH2|||CH2\r",
      "OBX|1|NA|5141||-0.005^-0.005^-0.005^-0.005^-0.005^-0.005^-0.005^-0.005^-0.005^-0.005^-0.005^-0.005^-0.005^-0.005^-0.005^-0.005^-0.005^-0.005^-0.005^-0.005^-0.005^-0.005^-0.005^-0.005^-0.005^-0.005^-0.005^-0.005^-0.005^-0.005^-0.005^-0.005^-0.005^-0.005^-0.005^-0.005^-0.005^-0.005^-0.005^-0.005^-0.005^-0.005^-0.005^-0.005^-0.005^-0.005^-0.005^-0.005^-0.005^-0.005^-0.005^-0.005^-0.005^-0.005^-0.005^-0.005^-0.005^-0.005^-0.005^-0.005^-0.005^-0.005^-0.005^-0.005^-0.005^-0.005^-0.005^-0.005^-0.005^-0.005^-0.005^-0.005^-0.005^-0.005^-0.005^-0.005^-0.005^-0.005^-0.005^-0.005^-0.005^-0.005^-0.005^-0.005^-0.005^-0.005^-0.005^-0.005^-0.005^-0.005^-0.005^-0.005^-0.005^-0.005^-0.005^-0.005^-0.005^-0.005^-0.005^-0.005^-0.005^-0.005^-0.005^-0.005^-0.005^-0.005^-0.005^-0.005^-0.005^-0.005^-0.005^-0.005^-0.005^-0.005^-0.005^-0.005^-0.005^-0.005^-0.005^-0.005^-0.005^-0.005^-0.005^-0.005^-0.005^-0.005^-0.005^-0.005^-0.005^-0.005^-0.005^-0.005^-0.005^-0.005^-0.005^-0.005^-0.005^-0.005^-0.005^-0.005^-0.005^-0.005^-0.005^-0.005^-0.005^-0.005^-0.005^2.02^-0.005^-0.005^-0.005^-0.005^-0.005^-0.005^-0.005^-0.005^-0.005^-0.005^-0.005^-0.005^-0.005^-0.005^-0.005^-0.005^-0.005^-0.005^-0.005^-0.005^-0.005^-0^0.01^0.02^0.04^0.06^0.085^0.12^0.155^0.195^0.24^0.29^0.335^0.38^0.43^0.475^0.52^0.57^0.615^0.66^0.705^0.74^0.77^0.79^0.8^0.8^0.79^0.775^0.745^0.705^0.66^0.61^0.56^0.505^0.45^0.4^0.345^0.295^0.24^0.19^0.14^0.095^0.05^0.01^-0.02^-0.05^-0.075^-0.09^-0.105^-0.11^-0.115^-0.115^-0.115^-0.115^-0.115^-0.115^-0.115^-0.115^-0.115^-0.115^-0.115^-0.11^-0.11^-0.11^-0.11^-0.11^-0.11^-0.11^-0.11^-0.105^-0.105^-0.105^-0.105^-0.105^-0.105^-0.105^-0.105^-0.1^-0.1^-0.1^-0.1^-0.1^-0.1^-0.1^-0.1^-0.1^-0.095^-0.095|47|||||F||2.0009|20221027140222\r",
      "OBX|2|NA|5142||-0.005^-0.005^-0.005^-0.005^-0.005^-0.005^-0.005^-0.005^-0.005^-0.005^-0.005^-0.005^-0.005^-0.005^-0.005^-0.005^-0.005^-0.005^-0.005^-0.005^-0.005^-0.005^-0.005^-0.005^-0.005^-0.005^-0.005^-0.005^-0.005^-0.005^-0.005^-0.005^-0.005^-0.005^-0.005^-0.005^-0.005^-0.005^-0.005^-0.005^-0.005^-0.005^-0.005^-0.005^-0.005^-0.005^-0.005^-0.005^-0.005^-0.005^-0.005^-0.005^-0.005^-0.005^-0.005^-0.005^-0.005^-0.005^-0.005^-0.005^-0.005^-0.005^-0.005^-0.005^-0.005^-0.005^-0.005^-0.005^-0.005^-0.005^-0.005^-0.005^-0.005^-0.005^-0.005^-0.005^-0.005^-0.005^-0.005^-0.005^-0.005^-0.005^-0.005^-0.005^-0.005^-0.005^-0.005^-0.005^-0.005^-0.005^-0.005^-0.005^-0.005^-0.005^-0.005^-0.005^-0.005^-0.005^-0.005^-0.005^-0.005^-0.005^-0.005^-0.005^-0.005^-0.005^-0.005^-0.005^-0.005^-0.005^-0.005^-0.005^-0.005^-0.005^-0.005^-0.005^-0.005^-0.005^-0.005^-0.005^-0.005^-0.005^-0.005^-0.005^-0.005^-0.005^-0.005^-0.005^-0.005^-0.005^-0.005^-0.005^-0.005^-0.005^-0.005^-0.005^-0.005^-0.005^-0.005^-0.005^-0.005^-0.005^-0.005^-0.005^-0.005^-0.005^-0.005^1.3^-0.005^-0.005^-0.005^-0.005^-0.005^-0.005^-0.005^-0.005^-0.005^-0.005^-0.005^-0.005^-0.005^-0.005^-0.005^-0.005^-0.005^-0.005^-0.005^-0.005^-0.005^-0.005^0.005^0.015^0.035^0.045^0.065^0.095^0.115^0.145^0.175^0.215^0.245^0.275^0.315^0.345^0.375^0.415^0.445^0.475^0.505^0.525^0.545^0.565^0.565^0.565^0.555^0.545^0.525^0.495^0.465^0.425^0.395^0.355^0.305^0.275^0.235^0.205^0.155^0.125^0.095^0.065^0.025^-0.005^-0.015^-0.045^-0.065^-0.065^-0.075^-0.075^-0.085^-0.075^-0.075^-0.075^-0.075^-0.075^-0.085^-0.085^-0.085^-0.085^-0.085^-0.075^-0.075^-0.075^-0.075^-0.075^-0.075^-0.075^-0.075^-0.065^-0.065^-0.065^-0.065^-0.075^-0.075^-0.075^-0.075^-0.065^-0.065^-0.065^-0.065^-0.065^-0.065^-0.065^-0.065^-0.065^-0.055^-0.055|47|||||F||2.0009|20221027140222\r",
      "MSH|^~\\&|DATACAPTOR||||20221027140223||ORU^R01|2a27140223567c61|P|2.3||||||8859/1\r",
      "PID\r",
      "PV1||I|CH2\r",
      "OBR|||||||20221027140223|||CH2|||CH2\r",
      "OBX|1|NA|8857||79.125^78.5^78^77.5^77.0625^76.625^76.1875^75.75^75.4375^75.0625^74.6875^74.375^74.0625^73.75^73.5^73.1875^72.9375^72.6875^72.4375^72.25^72^71.75^71.5625^71.375^71.1875^71^70.875^70.6875^70.5625^70.4375^70.3125^70.1875^70.125^70.0625^70^70^70^70.0625^70.125^70.25^70.3125^70.5^70.8125^71.375^72.1875^73.4375^75.1875^77.5^80.25^83.5625^87.375^91.5^95.5^99.25^102.625^105.75^108.8125^111.5^113.6875^115.3125^116.5^117.4375^118.1875^118.8125|9|||||F||8.0036|20221027140223\r",
      "MSH|^~\\&|DATACAPTOR||||20221027140223||ORU^R01|2a27140223567c71|P|2.3||||||8859/1\r",
      "PID\r",
      "PV1||I|CH2\r",
      "OBR|||||||20221027140223|||CH2|||CH2\r",
      "OBX|1|NA|8870||0.019683^0.019683^0.02^0.02^0.020317^0.020317^0.020635^0.020635^0.02127^0.02254^0.024444^0.026984^0.030159^0.033651^0.037778^0.043175^0.049524^0.056825^0.064762^0.074286^0.085079^0.096825^0.109206^0.122222^0.135873^0.150794^0.166984^0.18381^0.20127^0.219365^0.237778^0.25619|84|||||F||16.0072|20221027140223\r",
      "MSH|^~\\&|DATACAPTOR||||20221027140223||ORU^R01|2a27140223772c81|P|2.3||||||8859/1\r",
      "PID\r",
      "PV1||I|CH2\r",
      "OBR|||||||20221027140223|||CH2|||CH2\r",
      "OBX|1|NA|113||1567^1565^1562^1557^1550^1541^1531^1519^1504^1488^1470^1451^1429^1407^1382^1357^1331^1304^1276^1249^1222^1195^1169^1144^1120^1099^1079^1062^1048^1037^1029^1025^1024^1028^1035^1048^1064^1086^1111^1142^1177^1216^1260^1309^1361^1417^1477^1541^1607^1676^1747^1820^1895^1971^2047^2124^2201^2276^2351^2424^2495^2563^2628^2691|139|||||F||8.0036|20221027140223\r",
      "MSH|^~\\&|DATACAPTOR||||20221027140223||ORU^R01|2a27140223772c91|P|2.3||||||8859/1\r",
      "PID\r",
      "PV1||I|CH2\r",
      "OBR|||||||20221027140223|||CH2|||CH2\r",
      "OBX|1|NA|5141||-0.095^-0.095^-0.095^-0.095^-0.095^-0.09^-0.09^-0.09^-0.09^-0.09^-0.09^-0.09^-0.09^-0.085^-0.085^-0.085^-0.085^-0.085^-0.085^-0.085^-0.085^-0.08^-0.08^-0.08^-0.08^-0.08^-0.08^-0.08^-0.08^-0.08^-0.08^-0.08^-0.075^-0.075^-0.075^-0.075^-0.075^-0.075^-0.075^-0.075^-0.075^-0.075^-0.075^-0.075^-0.075^-0.075^-0.075^-0.075^-0.075^-0.07^-0.07^-0.07^-0.07^-0.07^-0.07^-0.07^-0.07^-0.07^-0.07^-0.07^-0.07^-0.07^-0.07^-0.07^-0.065^-0.065^-0.065^-0.065^-0.065^-0.065^-0.065^-0.065^-0.07^-0.07^-0.075^-0.075^-0.08^-0.085^-0.09^-0.095^-0.1^-0.105^-0.11^-0.115^-0.12^-0.125^-0.13^-0.135^-0.14^-0.145^-0.15^-0.155^-0.16^-0.165^-0.17^-0.17^-0.175^-0.18^-0.185^-0.19^-0.195^-0.2^-0.205^-0.21^-0.21^-0.215^-0.215^-0.215^-0.215^-0.21^-0.21^-0.205^-0.2^-0.195^-0.185^-0.18^-0.175^-0.165^-0.16^-0.155^-0.145^-0.14^-0.135^-0.125^-0.12^-0.115^-0.11^-0.1^-0.095^-0.09^-0.085^-0.075^-0.07^-0.065^-0.06^-0.05^-0.045^-0.04^-0.035^-0.03^-0.025^-0.02^-0.015^-0.015^-0.01^-0.01^-0.005^-0.005^-0.005^-0.005^-0.005^-0.005^-0.005^-0.005^-0.005^-0.005^-0.005^-0.005^-0.005^-0.005^-0.005^-0.005^-0.005^-0.005^-0.005^-0.005^-0.005^-0.005^-0.005^-0.005^-0.005^-0.005^-0.005^-0.005^-0.005^-0.005^-0.005^-0.005^-0.005^-0.005^-0.005^-0.005^-0.005^-0.005^-0.005^-0.005^-0.005^-0.005^-0.005^-0.005^-0.005^-0.005^-0.005^-0.005^-0.005^-0.005^-0.005^-0.005^-0.005^-0.005^-0.005^-0.005^-0.005^-0.005^-0.005^-0.005^-0.005^-0.005^-0.005^-0.005^-0.005^-0.005^-0.005^-0.005^-0.005^-0.005^-0.005^-0.005^-0.005^-0.005^-0.005^-0.005^-0.005^-0.005^-0.005^-0.005^-0.005^-0.005^-0.005^-0.005^-0.005^-0.005^-0.005^-0.005^-0.005^-0.005^-0.005^-0.005^-0.005^-0.005^-0.005^-0.005^-0.005^-0.005^-0.005^-0.005^-0.005^-0.005^-0.005^-0.005^-0.005^-0.005^-0.005^-0.005^-0.005^-0.005|47|||||F||2.0009|20221027140223\r",
      "OBX|2|NA|5142||-0.065^-0.065^-0.065^-0.065^-0.065^-0.055^-0.055^-0.055^-0.055^-0.055^-0.055^-0.055^-0.055^-0.045^-0.045^-0.045^-0.055^-0.055^-0.055^-0.055^-0.055^-0.045^-0.045^-0.045^-0.045^-0.045^-0.045^-0.045^-0.045^-0.045^-0.045^-0.045^-0.045^-0.045^-0.045^-0.045^-0.045^-0.045^-0.045^-0.045^-0.045^-0.045^-0.045^-0.045^-0.045^-0.045^-0.045^-0.045^-0.055^-0.045^-0.045^-0.045^-0.045^-0.045^-0.045^-0.045^-0.045^-0.045^-0.045^-0.045^-0.045^-0.045^-0.045^-0.045^-0.045^-0.045^-0.045^-0.045^-0.045^-0.045^-0.045^-0.045^-0.055^-0.055^-0.055^-0.055^-0.055^-0.065^-0.065^-0.065^-0.075^-0.075^-0.085^-0.085^-0.085^-0.095^-0.095^-0.105^-0.105^-0.105^-0.115^-0.115^-0.125^-0.125^-0.125^-0.125^-0.125^-0.135^-0.135^-0.135^-0.145^-0.145^-0.155^-0.155^-0.155^-0.165^-0.165^-0.165^-0.165^-0.155^-0.165^-0.165^-0.155^-0.155^-0.145^-0.145^-0.145^-0.135^-0.125^-0.125^-0.115^-0.115^-0.115^-0.095^-0.095^-0.095^-0.095^-0.085^-0.075^-0.075^-0.075^-0.065^-0.065^-0.065^-0.055^-0.045^-0.045^-0.035^-0.035^-0.035^-0.025^-0.025^-0.015^-0.015^-0.015^-0.015^-0.005^-0.005^-0.005^-0.005^-0.005^-0.005^-0.005^-0.005^-0.005^-0.005^-0.005^-0.005^-0.005^-0.005^-0.005^-0.005^-0.005^-0.005^-0.005^-0.005^-0.005^-0.005^-0.005^-0.005^-0.005^-0.005^-0.005^-0.005^-0.005^-0.005^-0.005^-0.005^-0.005^-0.005^-0.005^-0.005^-0.005^-0.005^-0.005^-0.005^-0.005^-0.005^-0.005^-0.005^-0.005^-0.005^-0.005^-0.005^-0.005^-0.005^-0.005^-0.005^-0.005^-0.005^-0.005^-0.005^-0.005^-0.005^-0.005^-0.005^-0.005^-0.005^-0.005^-0.005^-0.005^-0.005^-0.005^-0.005^-0.005^-0.005^-0.005^-0.005^-0.005^-0.005^-0.005^-0.005^-0.005^-0.005^-0.005^-0.005^-0.005^-0.005^-0.005^-0.005^-0.005^-0.005^-0.005^-0.005^-0.005^-0.005^-0.005^-0.005^-0.005^-0.005^-0.005^-0.005^-0.005^-0.005^-0.005^-0.005^-0.005^-0.005^-0.005^-0.005^-0.005^-0.005^-0.005^-0.005^-0.005^-0.005|47|||||F||2.0009|20221027140223\r",
      "MSH|^~\\&|DATACAPTOR||||20221027140223||ORU^R01|2a27140223772ca1|P|2.3||||||8859/1\r",
      "PID\r",
      "PV1||I|CH2\r",
      "OBR|||||||20221027140223|||CH2|||CH2\r",
      "OBX|1|NA|8857||119.25^119.625^119.9375^120.125^120.25^120.125^119.875^119.375^118.75^117.9375^117^115.875^114.5^113^111.3125^109.8125^108.4375^107.3125^106.375^105.5625^104.875^104.25^103.6875^103.1875^102.8125^102.875^103.5625^104.75^105.875^106.5625^106.8125^106.75^106.375^105.625^104.4375^103.0625^101.5625^100^98.5625^97.25^96.0625^94.875^93.6875^92.5625^91.375^90.375^89.5^88.75^88.0625^87.3125^86.5625^85.9375^85.3125^84.75^84.0625^83.375^82.6875^82^81.3125^80.625^79.8125^79.125^78.5^78|9|||||F||8.0036|20221027140223\r",
      "MSH|^~\\&|DATACAPTOR||||20221027140223||ORU^R01|2a27140223772cb1|P|2.3||||||8859/1\r",
      "PID\r",
      "PV1||I|CH2\r",
      "OBR|||||||20221027140223|||CH2|||CH2\r",
      "OBX|1|NA|8870||0.275238^0.294286^0.313333^0.333333^0.354286^0.374603^0.394921^0.415873^0.43746^0.459683^0.481905^0.503175^0.524127^0.545397^0.566984^0.587937^0.608254^0.627937^0.646984^0.666032^0.684444^0.702857^0.720952^0.73873^0.756508^0.773333^0.788889^0.803492^0.81746^0.830794^0.84381^0.855556|84|||||F||16.0072|20221027140223\r",
      "MSH|^~\\&|DATACAPTOR||||20221027140224||ORU^R01|2a27140224569cc1|P|2.3||||||8859/1\r",
      "PID\r",
      "PV1||I|CH2\r",
      "OBR|||||||20221027140224|||CH2|||CH2\r",
      "OBX|1|NA|113||2749^2803^2853^2899^2939^2975^3005^3029^3048^3062^3070^3072^3068^3059^3045^3026^2987^2956^2920^2838^2792^2742^2636^2581^2524^2408^2349^2291^2206^2150^2096^2043|139|||||F||8.0036|20221027140224\r",
      "MSH|^~\\&|DATACAPTOR||||20221027140224||ORU^R01|2a27140224569cd1|P|2.3||||||8859/1\r",
      "PID\r",
      "PV1||I|CH2\r",
      "OBR|||||||20221027140223|||CH2|||CH2\r",
      "OBX|1|NA|5141||-0.005^-0.005^-0.005^-0.005^-0.005^-0.005^-0.005^-0.005^-0.005^-0.005^-0.005^-0.005^-0.005^-0.005^-0.005^-0.005^-0.005^-0.005^-0.005^-0.005^-0.005^-0.005^-0.005^-0.005^-0.005^-0.005^-0.005^-0.005^-0.005^-0.005^-0.005^-0.005^-0.005^-0.005^-0.005^-0.005^-0.005^-0.005^-0.005^-0.005^-0.005^-0.005^-0.005^-0.005^-0.005^-0.005^-0.005^-0.005^-0.005^-0.005^-0.005^-0.005^-0.005^-0.005^-0.005^-0.005^-0.005^-0.005^-0.005^-0.005^-0.005^-0.005^-0.005^-0.005^-0.005^-0.005^-0.005^-0.005^-0.005^-0.005^-0.005^-0.005^-0.005^-0.005^-0.005^-0.005^-0.005^-0.005^-0.005^-0.005^-0.005^-0.005^-0.005^-0.005^-0.005^-0.005^-0.005^-0.005^-0.005^-0.005^-0.005^-0.005^-0.005^-0.005^-0.005^-0.005^-0.005^-0.005^-0.005^-0.005^-0.005^-0.005^-0.005^-0.005^-0.005^-0.005^-0.005^-0.005^-0.005^-0.005^-0.005^-0.005^-0.005^-0.005^-0.005^-0.005^-0.005^-0.005^-0.005^-0.005^-0.005^-0.005^-0.005^-0.005^-0.005^-0.005^-0.005^-0.005|47|||||F||2.0009|20221027140223\r",
      "OBX|2|NA|5142||-0.005^-0.005^-0.005^-0.005^-0.005^-0.005^-0.005^-0.005^-0.005^-0.005^-0.005^-0.005^-0.005^-0.005^-0.005^-0.005^-0.005^-0.005^-0.005^-0.005^-0.005^-0.005^-0.005^-0.005^-0.005^-0.005^-0.005^-0.005^-0.005^-0.005^-0.005^-0.005^-0.005^-0.005^-0.005^-0.005^-0.005^-0.005^-0.005^-0.005^-0.005^-0.005^-0.005^-0.005^-0.005^-0.005^-0.005^-0.005^-0.005^-0.005^-0.005^-0.005^-0.005^-0.005^-0.005^-0.005^-0.005^-0.005^-0.005^-0.005^-0.005^-0.005^-0.005^-0.005^-0.005^-0.005^-0.005^-0.005^-0.005^-0.005^-0.005^-0.005^-0.005^-0.005^-0.005^-0.005^-0.005^-0.005^-0.005^-0.005^-0.005^-0.005^-0.005^-0.005^-0.005^-0.005^-0.005^-0.005^-0.005^-0.005^-0.005^-0.005^-0.005^-0.005^-0.005^-0.005^-0.005^-0.005^-0.005^-0.005^-0.005^-0.005^-0.005^-0.005^-0.005^-0.005^-0.005^-0.005^-0.005^-0.005^-0.005^-0.005^-0.005^-0.005^-0.005^-0.005^-0.005^-0.005^-0.005^-0.005^-0.005^-0.005^-0.005^-0.005^-0.005^-0.005^-0.005^-0.005|47|||||F||2.0009|20221027140223\r",
      "MSH|^~\\&|DATACAPTOR||||20221027140224||ORU^R01|2a27140224569ce1|P|2.3||||||8859/1\r",
      "PID\r",
      "PV1||I|CH2\r",
      "OBR|||||||20221027140224|||CH2|||CH2\r",
      "OBX|1|NA|8857||77.5^77.0625^76.625^76.1875^75.75^75.4375^75.0625^74.6875^74.375^74.0625^73.75^73.5^73.1875^72.9375^72.6875^72.4375^72.25^72^71.75^71.5625^71.375^71.1875^71^70.875^70.6875^70.5625^70.4375^70.3125^70.1875^70.125^70.0625^70|9|||||F||8.0036|20221027140224\r",
      "MSH|^~\\&|DATACAPTOR||||20221027140224||ORU^R01|2a27140224570cf1|P|2.3||||||8859/1\r",
      "PID\r",
      "PV1||I|CH2\r",
      "OBR|||||||20221027140224|||CH2|||CH2\r",
      "OBX|1|NA|8870||0.866032^0.875873^0.884444^0.891746^0.897778^0.90254^0.906667^0.910159^0.913016^0.914603^0.914921^0.914286^0.912698^0.909841^0.905397^0.9|84|||||F||16.0072|20221027140224\r",
      "MSH|^~\\&|DATACAPTOR||||20221027140224||ORU^R01|2a27140224769d01|P|2.3||||||8859/1\r",
      "PID\r",
      "PV1||I|CH2\r",
      "OBR|||||||20221027140224|||CH2|||CH2\r",
      "OBX|1|NA|113||1993^1945^1899^1856^1816^1779^1746^1715^1687^1663^1641^1623^1607^1594^1583^1575^1569^1565^1562^1561^1561^1562^1563^1565^1566^1568^1568^1568^1567^1565^1562^1557^1550^1541^1531^1519^1504^1488^1470^1451^1429^1407^1382^1357^1331^1304^1276^1249^1222^1195^1169^1144^1120^1099^1079^1062^1048^1037^1029^1025^1024^1028^1035^1048^1064^1086^1111^1142^1177^1216^1260^1309^1361^1417^1477^1541^1607^1676^1747^1820^1895^1971^2047^2124^2201^2276^2351^2424^2495^2563^2628^2691^2749^2803^2853^2899|139|||||F||8.0036|20221027140224\r",
      "MSH|^~\\&|DATACAPTOR||||20221027140224||ORU^R01|2a27140224770d11|P|2.3||||||8859/1\r",
      "PID\r",
      "PV1||I|CH2\r",
      "OBR|||||||20221027140224|||CH2|||CH2\r",
      "OBX|1|NA|5141||-0.005^-0.005^-0.005^-0.005^-0.005^-0.005^-0.005^2.02^-0.005^-0.005^-0.005^-0.005^-0.005^-0.005^-0.005^-0.005^-0.005^-0.005^-0.005^-0.005^-0.005^-0.005^-0.005^-0.005^-0.005^-0.005^-0.005^-0.005^-0.005^-0^0.01^0.02^0.04^0.06^0.085^0.12^0.155^0.195^0.24^0.29^0.335^0.38^0.43^0.475^0.52^0.57^0.615^0.66^0.705^0.74^0.77^0.79^0.8^0.8^0.79^0.775^0.745^0.705^0.66^0.61^0.56^0.505^0.45^0.4^0.345^0.295^0.24^0.19^0.14^0.095^0.05^0.01^-0.02^-0.05^-0.075^-0.09^-0.105^-0.11^-0.115^-0.115^-0.115^-0.115^-0.115^-0.115^-0.115^-0.115^-0.115^-0.115^-0.115^-0.11^-0.11^-0.11^-0.11^-0.11^-0.11^-0.11^-0.11^-0.105^-0.105^-0.105^-0.105^-0.105^-0.105^-0.105^-0.105^-0.1^-0.1^-0.1^-0.1^-0.1^-0.1^-0.1^-0.1^-0.1^-0.095^-0.095^-0.095^-0.095^-0.095^-0.095^-0.095^-0.09^-0.09^-0.09^-0.09^-0.09^-0.09^-0.09^-0.09^-0.085^-0.085^-0.085^-0.085^-0.085^-0.085^-0.085^-0.085^-0.08^-0.08^-0.08^-0.08^-0.08^-0.08^-0.08^-0.08^-0.08^-0.08^-0.08^-0.075^-0.075^-0.075^-0.075^-0.075^-0.075^-0.075^-0.075^-0.075^-0.075^-0.075^-0.075^-0.075^-0.075^-0.075^-0.075^-0.075^-0.07^-0.07^-0.07^-0.07^-0.07^-0.07^-0.07^-0.07^-0.07^-0.07^-0.07^-0.07^-0.07^-0.07^-0.07^-0.065^-0.065^-0.065^-0.065^-0.065^-0.065^-0.065^-0.065^-0.07^-0.07^-0.075^-0.075^-0.08^-0.085^-0.09^-0.095^-0.1^-0.105^-0.11^-0.115^-0.12^-0.125^-0.13^-0.135^-0.14^-0.145^-0.15^-0.155^-0.16^-0.165^-0.17^-0.17^-0.175^-0.18^-0.185^-0.19^-0.195^-0.2^-0.205^-0.21^-0.21^-0.215^-0.215^-0.215^-0.215^-0.21^-0.21^-0.205^-0.2^-0.19^-0.185^-0.18^-0.175^-0.165^-0.16^-0.15^-0.145^-0.14^-0.135^-0.125^-0.12^-0.115^-0.11^-0.1^-0.095^-0.09^-0.085^-0.075^-0.07^-0.065^-0.06^-0.05^-0.045^-0.04^-0.035^-0.03^-0.025^-0.02^-0.015^-0.015^-0.01^-0.01^-0.005^-0.005^-0.005^-0.005^-0.005^-0.005^-0.005^-0.005^-0.005^-0.005^-0.005^-0.005^-0.005^-0.005^-0.005^-0.005^-0.005^-0.005^-0.005^-0.005^-0.005^-0.005^-0.005^-0.005^-0.005^-0.005^-0.005^-0.005^-0.005^-0.005^-0.005^-0.005^-0.005^-0.005^-0.005^-0.005^-0.005^-0.005^-0.005^-0.005^-0.005^-0.005^-0.005^-0.005^-0.005^-0.005^-0.005^-0.005^-0.005^-0.005^-0.005^-0.005^-0.005^-0.005^-0.005^-0.005^-0.005^-0.005^-0.005^-0.005^-0.005^-0.005^-0.005^-0.005^-0.005^-0.005^-0.005^-0.005^-0.005^-0.005^-0.005^-0.005^-0.005^-0.005^-0.005^-0.005^-0.005^-0.005^-0.005^-0.005^-0.005^-0.005^-0.005^-0.005^-0.005^-0.005^-0.005^-0.005^-0.005^-0.005^-0.005^-0.005^-0.005^-0.005^-0.005^-0.005^-0.005^-0.005^-0.005^-0.005^-0.005^-0.005^-0.005^-0.005^-0.005^-0.005^-0.005^-0.005^-0.005^-0.005^-0.005^-0.005^-0.005^-0.005^-0.005^-0.005^-0.005^-0.005^-0.005^-0.005^-0.005^-0.005|47|||||F||2.0009|20221027140224\r",
      "OBX|2|NA|5142||-0.005^-0.005^-0.005^-0.005^-0.005^-0.005^-0.005^1.3^-0.005^-0.005^-0.005^-0.005^-0.005^-0.005^-0.005^-0.005^-0.005^-0.005^-0.005^-0.005^-0.005^-0.005^-0.005^-0.005^-0.005^-0.005^-0.005^-0.005^-0.005^-0.005^0.005^0.015^0.035^0.045^0.065^0.095^0.115^0.145^0.175^0.215^0.245^0.275^0.315^0.345^0.375^0.415^0.445^0.475^0.505^0.525^0.545^0.565^0.565^0.565^0.555^0.545^0.525^0.495^0.465^0.425^0.395^0.355^0.305^0.275^0.235^0.205^0.155^0.125^0.095^0.065^0.025^-0.005^-0.015^-0.045^-0.065^-0.065^-0.075^-0.075^-0.085^-0.075^-0.075^-0.075^-0.075^-0.075^-0.085^-0.085^-0.085^-0.085^-0.085^-0.075^-0.075^-0.075^-0.075^-0.075^-0.075^-0.075^-0.075^-0.065^-0.065^-0.065^-0.065^-0.075^-0.075^-0.075^-0.075^-0.065^-0.065^-0.065^-0.065^-0.065^-0.065^-0.065^-0.065^-0.065^-0.055^-0.055^-0.065^-0.065^-0.065^-0.065^-0.065^-0.055^-0.055^-0.055^-0.055^-0.055^-0.055^-0.055^-0.055^-0.045^-0.045^-0.045^-0.055^-0.055^-0.055^-0.055^-0.055^-0.045^-0.045^-0.045^-0.045^-0.045^-0.045^-0.045^-0.045^-0.045^-0.045^-0.045^-0.045^-0.045^-0.045^-0.045^-0.045^-0.045^-0.045^-0.045^-0.045^-0.045^-0.045^-0.045^-0.045^-0.045^-0.045^-0.045^-0.055^-0.045^-0.045^-0.045^-0.045^-0.045^-0.045^-0.045^-0.045^-0.045^-0.045^-0.045^-0.045^-0.045^-0.045^-0.045^-0.045^-0.045^-0.045^-0.045^-0.045^-0.045^-0.045^-0.045^-0.055^-0.055^-0.055^-0.055^-0.055^-0.065^-0.065^-0.065^-0.075^-0.075^-0.085^-0.085^-0.085^-0.095^-0.095^-0.105^-0.105^-0.105^-0.115^-0.115^-0.125^-0.125^-0.125^-0.125^-0.125^-0.135^-0.135^-0.135^-0.145^-0.145^-0.155^-0.155^-0.155^-0.165^-0.165^-0.165^-0.165^-0.155^-0.165^-0.165^-0.155^-0.145^-0.145^-0.145^-0.145^-0.135^-0.125^-0.115^-0.115^-0.115^-0.115^-0.095^-0.095^-0.095^-0.095^-0.085^-0.075^-0.075^-0.075^-0.065^-0.065^-0.065^-0.055^-0.045^-0.045^-0.035^-0.035^-0.035^-0.025^-0.025^-0.015^-0.015^-0.015^-0.015^-0.005^-0.005^-0.005^-0.005^-0.005^-0.005^-0.005^-0.005^-0.005^-0.005^-0.005^-0.005^-0.005^-0.005^-0.005^-0.005^-0.005^-0.005^-0.005^-0.005^-0.005^-0.005^-0.005^-0.005^-0.005^-0.005^-0.005^-0.005^-0.005^-0.005^-0.005^-0.005^-0.005^-0.005^-0.005^-0.005^-0.005^-0.005^-0.005^-0.005^-0.005^-0.005^-0.005^-0.005^-0.005^-0.005^-0.005^-0.005^-0.005^-0.005^-0.005^-0.005^-0.005^-0.005^-0.005^-0.005^-0.005^-0.005^-0.005^-0.005^-0.005^-0.005^-0.005^-0.005^-0.005^-0.005^-0.005^-0.005^-0.005^-0.005^-0.005^-0.005^-0.005^-0.005^-0.005^-0.005^-0.005^-0.005^-0.005^-0.005^-0.005^-0.005^-0.005^-0.005^-0.005^-0.005^-0.005^-0.005^-0.005^-0.005^-0.005^-0.005^-0.005^-0.005^-0.005^-0.005^-0.005^-0.005^-0.005^-0.005^-0.005^-0.005^-0.005^-0.005^-0.005^-0.005^-0.005^-0.005^-0.005^-0.005^-0.005^-0.005^-0.005^-0.005^-0.005^-0.005^-0.005^-0.005^-0.005^-0.005^-0.005^-0.005|47|||||F||2.0009|20221027140224\r",
      "MSH|^~\\&|DATACAPTOR||||20221027140224||ORU^R01|2a27140224770d21|P|2.3||||||8859/1\r",
      "PID\r",
      "PV1||I|CH2\r",
      "OBR|||||||20221027140224|||CH2|||CH2\r",
      "OBX|1|NA|8857||70^70^70.0625^70.125^70.25^70.3125^70.5^70.8125^71.375^72.1875^73.4375^75.1875^77.5^80.25^83.5625^87.375^91.5^95.5^99.25^102.625^105.75^108.8125^111.5^113.6875^115.3125^116.5^117.4375^118.1875^118.8125^119.25^119.625^119.9375^120.125^120.25^120.125^119.875^119.375^118.75^117.9375^117^115.875^114.5^113^111.3125^109.8125^108.4375^107.3125^106.375^105.5625^104.875^104.25^103.6875^103.1875^102.8125^102.875^103.5625^104.75^105.875^106.5625^106.8125^106.75^106.375^105.625^104.4375^103.0625^101.5625^100^98.5625^97.25^96.0625^94.875^93.6875^92.5625^91.375^90.375^89.5^88.75^88.0625^87.3125^86.5625^85.9375^85.3125^84.75^84.0625^83.375^82.6875^82^81.3125^80.625^79.8125^79.125^78.5^78^77.5^77.0625^76.625|9|||||F||8.0036|20221027140224\r",
      "MSH|^~\\&|DATACAPTOR||||20221027140224||ORU^R01|2a27140224770d31|P|2.3||||||8859/1\r",
      "PID\r",
      "PV1||I|CH2\r",
      "OBR|||||||20221027140224|||CH2|||CH2\r",
      "OBX|1|NA|8870||0.893968^0.887302^0.88^0.871429^0.861587^0.851111^0.839365^0.826349^0.812063^0.797143^0.78127^0.764762^0.747937^0.729841^0.710476^0.690159^0.669206^0.647619^0.626032^0.604127^0.581905^0.559683^0.537143^0.513968^0.489841^0.466032^0.44254^0.418413^0.393651^0.368254^0.342857^0.318095^0.293968^0.269524^0.244762^0.220635^0.197143^0.174286^0.152063^0.130159^0.108571^0.086984^0.066032^0.045397^0.025397^0.007302^-0.009524^-0.025079|84|||||F||16.0072|20221027140224\r",
      "MSH|^~\\&|DATACAPTOR||||20221027140225||ORU^R01|2a27140225573d41|P|2.3||||||8859/1\r",
      "PID\r",
      "PV1||I|CH2\r",
      "OBR|||||||20221027140225|||CH2|||CH2\r",
      "OBX|1|NA|113||2939^2975^3005^3029^3048^3062^3070^3072^3068^3059^3045^3026^3002^2973^2939^2902^2860^2816^2768^2717^2664^2609^2553^2495^2437^2379^2320^2263^2206^2150^2096^2043^1993^1945^1899^1856^1816^1779^1746^1715^1687^1663^1641^1623^1607^1594^1583^1575^1569^1565^1562^1561^1561^1562^1563^1565^1566^1568^1568^1568^1567^1565^1562^1557|139|||||F||8.0036|20221027140225\r",
      "MSH|^~\\&|DATACAPTOR||||20221027140225||ORU^R01|2a27140225574d51|P|2.3||||||8859/1\r",
      "PID\r",
      "PV1||I|CH2\r",
      "OBR|||||||20221027140224|||CH2|||CH2\r",
      "OBX|1|NA|5141||-0.005^-0.005^-0.005^-0.005^-0.005^-0.005^-0.005^-0.005^-0.005^-0.005^-0.005^-0.005^-0.005^-0.005^-0.005^-0.005^-0.005^-0.005^-0.005^-0.005^-0.005^-0.005^-0.005^-0.005^-0.005^-0.005^-0.005^-0.005^-0.005^-0.005^-0.005^-0.005^-0.005^-0.005^-0.005^-0.005^-0.005^-0.005^-0.005^-0.005^-0.005^-0.005^-0.005^-0.005^-0.005^-0.005^-0.005^-0.005^-0.005^-0.005^-0.005^-0.005^-0.005^-0.005^-0.005^-0.005^-0.005^-0.005^-0.005^-0.005^-0.005^-0.005^-0.005^-0.005^-0.005^-0.005^-0.005^-0.005^-0.005^-0.005^-0.005^-0.005^-0.005^-0.005^-0.005^-0.005^-0.005^-0.005^-0.005^-0.005^-0.005^-0.005^-0.005^-0.005^-0.005^-0.005^-0.005^-0.005^-0.005^-0.005^-0.005^-0.005^-0.005^-0.005^-0.005^-0.005^-0.005^-0.005^-0.005^-0.005^-0.005^-0.005^-0.005^-0.005^-0.005^-0.005^-0.005^-0.005^-0.005^-0.005^-0.005^-0.005^-0.005^-0.005^-0.005^-0.005^-0.005^-0.005^-0.005^-0.005^-0.005^-0.005^-0.005^2.02^-0.005^-0.005^-0.005^-0.005^-0.005^-0.005^-0.005^-0.005^-0.005^-0.005^-0.005^-0.005^-0.005^-0.005^-0.005^-0.005^-0.005^-0.005^-0.005^-0.005^-0.005^-0^0.01^0.02^0.04^0.06^0.085^0.12^0.155^0.195^0.24^0.285^0.335^0.38^0.425^0.475^0.52^0.57^0.615^0.66^0.705^0.74^0.77^0.79^0.8^0.8^0.79^0.775^0.745^0.705^0.66^0.61^0.555^0.505^0.45^0.4^0.345^0.295^0.24^0.19^0.135^0.09^0.05^0.01^-0.025^-0.05^-0.075^-0.09^-0.105^-0.11^-0.115^-0.115^-0.115^-0.115^-0.115^-0.115^-0.115^-0.115^-0.115^-0.115^-0.115^-0.11^-0.11^-0.11^-0.11^-0.11^-0.11^-0.11^-0.11^-0.105^-0.105^-0.105^-0.105^-0.105^-0.105^-0.105^-0.105^-0.1^-0.1^-0.1^-0.1^-0.1^-0.1^-0.1^-0.1^-0.1^-0.095^-0.095^-0.095^-0.095^-0.095^-0.095^-0.095^-0.09^-0.09^-0.09^-0.09^-0.09^-0.09^-0.09^-0.09^-0.085^-0.085^-0.085^-0.085^-0.085^-0.085^-0.085^-0.085^-0.08^-0.08^-0.08|47|||||F||2.0009|20221027140224\r",
      "OBX|2|NA|5142||-0.005^-0.005^-0.005^-0.005^-0.005^-0.005^-0.005^-0.005^-0.005^-0.005^-0.005^-0.005^-0.005^-0.005^-0.005^-0.005^-0.005^-0.005^-0.005^-0.005^-0.005^-0.005^-0.005^-0.005^-0.005^-0.005^-0.005^-0.005^-0.005^-0.005^-0.005^-0.005^-0.005^-0.005^-0.005^-0.005^-0.005^-0.005^-0.005^-0.005^-0.005^-0.005^-0.005^-0.005^-0.005^-0.005^-0.005^-0.005^-0.005^-0.005^-0.005^-0.005^-0.005^-0.005^-0.005^-0.005^-0.005^-0.005^-0.005^-0.005^-0.005^-0.005^-0.005^-0.005^-0.005^-0.005^-0.005^-0.005^-0.005^-0.005^-0.005^-0.005^-0.005^-0.005^-0.005^-0.005^-0.005^-0.005^-0.005^-0.005^-0.005^-0.005^-0.005^-0.005^-0.005^-0.005^-0.005^-0.005^-0.005^-0.005^-0.005^-0.005^-0.005^-0.005^-0.005^-0.005^-0.005^-0.005^-0.005^-0.005^-0.005^-0.005^-0.005^-0.005^-0.005^-0.005^-0.005^-0.005^-0.005^-0.005^-0.005^-0.005^-0.005^-0.005^-0.005^-0.005^-0.005^-0.005^-0.005^-0.005^-0.005^-0.005^-0.005^1.3^-0.005^-0.005^-0.005^-0.005^-0.005^-0.005^-0.005^-0.005^-0.005^-0.005^-0.005^-0.005^-0.005^-0.005^-0.005^-0.005^-0.005^-0.005^-0.005^-0.005^-0.005^-0.005^0.005^0.015^0.035^0.045^0.065^0.095^0.115^0.145^0.175^0.205^0.245^0.275^0.305^0.345^0.375^0.415^0.445^0.475^0.505^0.525^0.545^0.565^0.565^0.565^0.555^0.545^0.525^0.495^0.465^0.425^0.385^0.355^0.305^0.275^0.235^0.205^0.155^0.125^0.085^0.055^0.025^-0.005^-0.025^-0.045^-0.065^-0.065^-0.075^-0.075^-0.085^-0.075^-0.075^-0.075^-0.075^-0.075^-0.085^-0.085^-0.085^-0.085^-0.085^-0.075^-0.075^-0.075^-0.075^-0.075^-0.075^-0.075^-0.075^-0.065^-0.065^-0.065^-0.065^-0.075^-0.075^-0.075^-0.075^-0.065^-0.065^-0.065^-0.065^-0.065^-0.065^-0.065^-0.065^-0.065^-0.055^-0.055^-0.065^-0.065^-0.065^-0.065^-0.065^-0.055^-0.055^-0.055^-0.055^-0.055^-0.055^-0.055^-0.055^-0.045^-0.045^-0.045^-0.055^-0.055^-0.055^-0.055^-0.055^-0.045^-0.045^-0.045|47|||||F||2.0009|20221027140224\r",
      "MSH|^~\\&|DATACAPTOR||||20221027140225||ORU^R01|2a27140225574d61|P|2.3||||||8859/1\r",
      "PID\r",
      "PV1||I|CH2\r",
      "OBR|||||||20221027140225|||CH2|||CH2\r",
      "OBX|1|NA|8857||76.1875^75.75^75.4375^75.0625^74.6875^74.375^74.0625^73.75^73.5^73.1875^72.9375^72.6875^72.4375^72.25^72^71.75^71.5625^71.375^71.1875^71^70.875^70.6875^70.5625^70.4375^70.3125^70.1875^70.125^70.0625^70^70^70^70.0625^70.125^70.25^70.3125^70.5^70.8125^71.375^72.1875^73.4375^75.1875^77.5^80.25^83.5625^87.375^91.5^95.5^99.25^102.625^105.75^108.8125^111.5^113.6875^115.3125^116.5^117.4375^118.1875^118.8125^119.25^119.625^119.9375^120.125^120.25^120.125|9|||||F||8.0036|20221027140225\r",
      "OBX|2|NA|8870||-0.04^-0.053651^-0.066667^-0.077778^-0.087619^-0.096508^-0.104444^-0.110476^-0.115238^-0.11873^-0.12127^-0.123175^-0.124762^-0.124762^-0.12381^-0.121905^-0.119365^-0.11619^-0.113016^-0.109524^-0.105714^-0.101905^-0.098095^-0.094603^-0.091111^-0.087619^-0.084444^-0.08127^-0.078095^-0.074921^-0.071746^-0.068571|84|||||F||16.0072|20221027140225\r",
      "MSH|^~\\&|DATACAPTOR||||20221027140225||ORU^R01|2a27140225773d71|P|2.3||||||8859/1\r",
      "PID\r",
      "PV1||I|CH2\r",
      "OBR|||||||20221027140225|||CH2|||CH2\r",
      "OBX|1|NA|113||1550^1541^1531^1519^1504^1488^1470^1451^1429^1407^1382^1357^1331^1304^1276^1249^1222^1195^1169^1144^1120^1099^1079^1062^1048^1037^1029^1025^1024^1028^1035^1048^1064^1086^1111^1142^1177^1216^1260^1309^1361^1417^1477^1541^1607^1676^1747^1820^1895^1971^2047^2124^2201^2276^2351^2424^2495^2563^2628^2691^2749^2803^2853^2899|139|||||F||8.0036|20221027140225\r",
      "MSH|^~\\&|DATACAPTOR||||20221027140225||ORU^R01|2a27140225774d81|P|2.3||||||8859/1\r",
      "PID\r",
      "PV1||I|CH2\r",
      "OBR|||||||20221027140225|||CH2|||CH2\r",
      "OBX|1|NA|5141||-0.08^-0.08^-0.08^-0.08^-0.08^-0.08^-0.08^-0.08^-0.075^-0.075^-0.075^-0.075^-0.075^-0.075^-0.075^-0.075^-0.075^-0.075^-0.075^-0.075^-0.075^-0.075^-0.075^-0.075^-0.075^-0.07^-0.07^-0.07^-0.07^-0.07^-0.07^-0.07^-0.07^-0.07^-0.07^-0.07^-0.07^-0.07^-0.07^-0.07^-0.065^-0.065^-0.065^-0.065^-0.065^-0.065^-0.065^-0.065^-0.07^-0.07^-0.075^-0.075^-0.08^-0.085^-0.09^-0.095^-0.1^-0.105^-0.11^-0.115^-0.12^-0.125^-0.13^-0.135^-0.14^-0.145^-0.15^-0.155^-0.16^-0.165^-0.17^-0.17^-0.175^-0.18^-0.185^-0.19^-0.195^-0.2^-0.205^-0.21^-0.21^-0.215^-0.215^-0.215^-0.215^-0.21^-0.21^-0.205^-0.2^-0.195^-0.185^-0.18^-0.175^-0.165^-0.16^-0.155^-0.145^-0.14^-0.135^-0.125^-0.12^-0.115^-0.11^-0.1^-0.095^-0.09^-0.085^-0.075^-0.07^-0.065^-0.06^-0.05^-0.045^-0.04^-0.035^-0.03^-0.025^-0.02^-0.015^-0.015^-0.01^-0.01^-0.005^-0.005^-0.005^-0.005^-0.005^-0.005^-0.005^-0.005^-0.005^-0.005^-0.005^-0.005^-0.005^-0.005^-0.005^-0.005^-0.005^-0.005^-0.005^-0.005^-0.005^-0.005^-0.005^-0.005^-0.005^-0.005^-0.005^-0.005^-0.005^-0.005^-0.005^-0.005^-0.005^-0.005^-0.005^-0.005^-0.005^-0.005^-0.005^-0.005^-0.005^-0.005^-0.005^-0.005^-0.005^-0.005^-0.005^-0.005^-0.005^-0.005^-0.005^-0.005^-0.005^-0.005^-0.005^-0.005^-0.005^-0.005^-0.005^-0.005^-0.005^-0.005^-0.005^-0.005^-0.005^-0.005^-0.005^-0.005^-0.005^-0.005^-0.005^-0.005^-0.005^-0.005^-0.005^-0.005^-0.005^-0.005^-0.005^-0.005^-0.005^-0.005^-0.005^-0.005^-0.005^-0.005^-0.005^-0.005^-0.005^-0.005^-0.005^-0.005^-0.005^-0.005^-0.005^-0.005^-0.005^-0.005^-0.005^-0.005^-0.005^-0.005^-0.005^-0.005^-0.005^-0.005^-0.005^-0.005^-0.005^-0.005^-0.005^-0.005^-0.005^-0.005^-0.005^-0.005^-0.005^-0.005^-0.005^-0.005^-0.005^-0.005^-0.005^-0.005^-0.005^-0.005^-0.005^-0.005^-0.005^-0.005^-0.005^-0.005^-0.005^-0.005|47|||||F||2.0009|20221027140225\r",
      "OBX|2|NA|5142||-0.045^-0.045^-0.045^-0.045^-0.045^-0.045^-0.045^-0.045^-0.045^-0.045^-0.045^-0.045^-0.045^-0.045^-0.045^-0.045^-0.045^-0.045^-0.045^-0.045^-0.045^-0.045^-0.045^-0.045^-0.055^-0.045^-0.045^-0.045^-0.045^-0.045^-0.045^-0.045^-0.045^-0.045^-0.045^-0.045^-0.045^-0.045^-0.045^-0.045^-0.045^-0.045^-0.045^-0.045^-0.045^-0.045^-0.045^-0.045^-0.055^-0.055^-0.055^-0.055^-0.055^-0.065^-0.065^-0.065^-0.075^-0.075^-0.085^-0.085^-0.085^-0.095^-0.095^-0.105^-0.105^-0.105^-0.115^-0.115^-0.125^-0.125^-0.125^-0.125^-0.125^-0.135^-0.135^-0.135^-0.145^-0.145^-0.155^-0.155^-0.155^-0.165^-0.165^-0.165^-0.165^-0.155^-0.165^-0.165^-0.155^-0.155^-0.145^-0.145^-0.145^-0.135^-0.125^-0.125^-0.115^-0.115^-0.115^-0.095^-0.095^-0.095^-0.095^-0.085^-0.075^-0.075^-0.075^-0.065^-0.065^-0.065^-0.055^-0.045^-0.045^-0.035^-0.035^-0.035^-0.025^-0.025^-0.015^-0.015^-0.015^-0.015^-0.005^-0.005^-0.005^-0.005^-0.005^-0.005^-0.005^-0.005^-0.005^-0.005^-0.005^-0.005^-0.005^-0.005^-0.005^-0.005^-0.005^-0.005^-0.005^-0.005^-0.005^-0.005^-0.005^-0.005^-0.005^-0.005^-0.005^-0.005^-0.005^-0.005^-0.005^-0.005^-0.005^-0.005^-0.005^-0.005^-0.005^-0.005^-0.005^-0.005^-0.005^-0.005^-0.005^-0.005^-0.005^-0.005^-0.005^-0.005^-0.005^-0.005^-0.005^-0.005^-0.005^-0.005^-0.005^-0.005^-0.005^-0.005^-0.005^-0.005^-0.005^-0.005^-0.005^-0.005^-0.005^-0.005^-0.005^-0.005^-0.005^-0.005^-0.005^-0.005^-0.005^-0.005^-0.005^-0.005^-0.005^-0.005^-0.005^-0.005^-0.005^-0.005^-0.005^-0.005^-0.005^-0.005^-0.005^-0.005^-0.005^-0.005^-0.005^-0.005^-0.005^-0.005^-0.005^-0.005^-0.005^-0.005^-0.005^-0.005^-0.005^-0.005^-0.005^-0.005^-0.005^-0.005^-0.005^-0.005^-0.005^-0.005^-0.005^-0.005^-0.005^-0.005^-0.005^-0.005^-0.005^-0.005^-0.005^-0.005^-0.005^-0.005^-0.005^-0.005^-0.005^-0.005^-0.005^-0.005^-0.005^-0.005^-0.005^-0.005^-0.005^-0.005|47|||||F||2.0009|20221027140225\r",
      "MSH|^~\\&|DATACAPTOR||||20221027140225||ORU^R01|2a27140225774d91|P|2.3||||||8859/1\r",
      "PID\r",
      "PV1||I|CH2\r",
      "OBR|||||||20221027140225|||CH2|||CH2\r",
      "OBX|1|NA|8857||119.875^119.375^118.75^117.9375^117^115.875^114.5^113^111.3125^109.8125^108.4375^107.3125^106.375^105.5625^104.875^104.25^103.6875^103.1875^102.8125^102.875^103.5625^104.75^105.875^106.5625^106.8125^106.75^106.375^105.625^104.4375^103.0625^101.5625^100^98.5625^97.25^96.0625^94.875^93.6875^92.5625^91.375^90.375^89.5^88.75^88.0625^87.3125^86.5625^85.9375^85.3125^84.75^84.0625^83.375^82.6875^82^81.3125^80.625^79.8125^79.125^78.5^78^77.5^77.0625^76.625^76.1875^75.75^75.4375|9|||||F||8.0036|20221027140225\r",
      "MSH|^~\\&|DATACAPTOR||||20221027140225||ORU^R01|2a27140225774da1|P|2.3||||||8859/1\r",
      "PID\r",
      "PV1||I|CH2\r",
      "OBR|||||||20221027140225|||CH2|||CH2\r",
      "OBX|1|NA|8870||-0.065397^-0.06254^-0.06^-0.05746^-0.054921^-0.052381^-0.049841^-0.047302^-0.044762^-0.042857^-0.040952^-0.039048^-0.037143^-0.035238^-0.033333^-0.031429^-0.029524^-0.027619^-0.025714^-0.02381^-0.022222^-0.020952^-0.019683^-0.018413^-0.017143^-0.015873^-0.014603^-0.013333^-0.012063^-0.010794^-0.009524^-0.008254|84|||||F||16.0072|20221027140225\n"
     ]
    }
   ],
   "source": [
    "# Affichage du message sous format str\n",
    "print(msg.to_er7())"
   ]
  },
  {
   "cell_type": "code",
   "execution_count": 77,
   "id": "d3fd6cd5",
   "metadata": {},
   "outputs": [
    {
     "name": "stdout",
     "output_type": "stream",
     "text": [
      "<Message ORU_R01>\n"
     ]
    }
   ],
   "source": [
    "# notre message est de type ORU_R01\n",
    "print(msg)"
   ]
  },
  {
   "cell_type": "code",
   "execution_count": 74,
   "id": "4eff0ff1",
   "metadata": {},
   "outputs": [
    {
     "name": "stdout",
     "output_type": "stream",
     "text": [
      "[<Segment MSH>, <Group ORU_R01_RESPONSE>, <Segment MSH>, <Group ORU_R01_RESPONSE>, <Segment MSH>, <Group ORU_R01_RESPONSE>, <Segment MSH>, <Group ORU_R01_RESPONSE>, <Segment MSH>, <Group ORU_R01_RESPONSE>, <Segment MSH>, <Group ORU_R01_RESPONSE>, <Segment MSH>, <Group ORU_R01_RESPONSE>, <Segment MSH>, <Group ORU_R01_RESPONSE>, <Segment MSH>, <Group ORU_R01_RESPONSE>, <Segment MSH>, <Group ORU_R01_RESPONSE>, <Segment MSH>, <Group ORU_R01_RESPONSE>, <Segment MSH>, <Group ORU_R01_RESPONSE>, <Segment MSH>, <Group ORU_R01_RESPONSE>, <Segment MSH>, <Group ORU_R01_RESPONSE>, <Segment MSH>, <Group ORU_R01_RESPONSE>, <Segment MSH>, <Group ORU_R01_RESPONSE>, <Segment MSH>, <Group ORU_R01_RESPONSE>, <Segment MSH>, <Group ORU_R01_RESPONSE>, <Segment MSH>, <Group ORU_R01_RESPONSE>, <Segment MSH>, <Group ORU_R01_RESPONSE>, <Segment MSH>, <Group ORU_R01_RESPONSE>, <Segment MSH>, <Group ORU_R01_RESPONSE>, <Segment MSH>, <Group ORU_R01_RESPONSE>, <Segment MSH>, <Group ORU_R01_RESPONSE>, <Segment MSH>, <Group ORU_R01_RESPONSE>, <Segment MSH>, <Group ORU_R01_RESPONSE>, <Segment MSH>, <Group ORU_R01_RESPONSE>, <Segment MSH>, <Group ORU_R01_RESPONSE>, <Segment MSH>, <Group ORU_R01_RESPONSE>, <Segment MSH>, <Group ORU_R01_RESPONSE>, <Segment MSH>, <Group ORU_R01_RESPONSE>, <Segment MSH>, <Group ORU_R01_RESPONSE>, <Segment MSH>, <Group ORU_R01_RESPONSE>, <Segment MSH>, <Group ORU_R01_RESPONSE>, <Segment MSH>, <Group ORU_R01_RESPONSE>, <Segment MSH>, <Group ORU_R01_RESPONSE>, <Segment MSH>, <Group ORU_R01_RESPONSE>, <Segment MSH>, <Group ORU_R01_RESPONSE>, <Segment MSH>, <Group ORU_R01_RESPONSE>, <Segment MSH>, <Group ORU_R01_RESPONSE>, <Segment MSH>, <Group ORU_R01_RESPONSE>, <Segment MSH>, <Group ORU_R01_RESPONSE>, <Segment MSH>, <Group ORU_R01_RESPONSE>, <Segment MSH>, <Group ORU_R01_RESPONSE>, <Segment MSH>, <Group ORU_R01_RESPONSE>, <Segment MSH>, <Group ORU_R01_RESPONSE>, <Segment MSH>, <Group ORU_R01_RESPONSE>, <Segment MSH>, <Group ORU_R01_RESPONSE>, <Segment MSH>, <Group ORU_R01_RESPONSE>, <Segment MSH>, <Group ORU_R01_RESPONSE>, <Segment MSH>, <Group ORU_R01_RESPONSE>, <Segment MSH>, <Group ORU_R01_RESPONSE>, <Segment MSH>, <Group ORU_R01_RESPONSE>, <Segment MSH>, <Group ORU_R01_RESPONSE>, <Segment MSH>, <Group ORU_R01_RESPONSE>, <Segment MSH>, <Group ORU_R01_RESPONSE>, <Segment MSH>, <Group ORU_R01_RESPONSE>, <Segment MSH>, <Group ORU_R01_RESPONSE>, <Segment MSH>, <Group ORU_R01_RESPONSE>, <Segment MSH>, <Group ORU_R01_RESPONSE>, <Segment MSH>, <Group ORU_R01_RESPONSE>, <Segment MSH>, <Group ORU_R01_RESPONSE>, <Segment MSH>, <Group ORU_R01_RESPONSE>, <Segment MSH>, <Group ORU_R01_RESPONSE>, <Segment MSH>, <Group ORU_R01_RESPONSE>, <Segment MSH>, <Group ORU_R01_RESPONSE>, <Segment MSH>, <Group ORU_R01_RESPONSE>, <Segment MSH>, <Group ORU_R01_RESPONSE>, <Segment MSH>, <Group ORU_R01_RESPONSE>, <Segment MSH>, <Group ORU_R01_RESPONSE>, <Segment MSH>, <Group ORU_R01_RESPONSE>, <Segment MSH>, <Group ORU_R01_RESPONSE>, <Segment MSH>, <Group ORU_R01_RESPONSE>, <Segment MSH>, <Group ORU_R01_RESPONSE>, <Segment MSH>, <Group ORU_R01_RESPONSE>, <Segment MSH>, <Group ORU_R01_RESPONSE>, <Segment MSH>, <Group ORU_R01_RESPONSE>, <Segment MSH>, <Group ORU_R01_RESPONSE>, <Segment MSH>, <Group ORU_R01_RESPONSE>, <Segment MSH>, <Group ORU_R01_RESPONSE>, <Segment MSH>, <Group ORU_R01_RESPONSE>, <Segment MSH>, <Group ORU_R01_RESPONSE>, <Segment MSH>, <Group ORU_R01_RESPONSE>, <Segment MSH>, <Group ORU_R01_RESPONSE>, <Segment MSH>, <Group ORU_R01_RESPONSE>, <Segment MSH>, <Group ORU_R01_RESPONSE>, <Segment MSH>, <Group ORU_R01_RESPONSE>]\n"
     ]
    }
   ],
   "source": [
    "# msg a deux fils distincts : \n",
    "    # Segment MSH\n",
    "    # Group ORU_R01_RESPONSE\n",
    "print(msg.children)"
   ]
  },
  {
   "cell_type": "code",
   "execution_count": 30,
   "id": "06fa3675",
   "metadata": {},
   "outputs": [
    {
     "name": "stdout",
     "output_type": "stream",
     "text": [
      "[<Segment MSH>, <Segment MSH>, <Segment MSH>, <Segment MSH>, <Segment MSH>, <Segment MSH>, <Segment MSH>, <Segment MSH>, <Segment MSH>, <Segment MSH>, <Segment MSH>, <Segment MSH>, <Segment MSH>, <Segment MSH>, <Segment MSH>, <Segment MSH>, <Segment MSH>, <Segment MSH>, <Segment MSH>, <Segment MSH>, <Segment MSH>, <Segment MSH>, <Segment MSH>, <Segment MSH>, <Segment MSH>, <Segment MSH>, <Segment MSH>, <Segment MSH>, <Segment MSH>, <Segment MSH>, <Segment MSH>, <Segment MSH>, <Segment MSH>, <Segment MSH>, <Segment MSH>, <Segment MSH>, <Segment MSH>, <Segment MSH>, <Segment MSH>, <Segment MSH>, <Segment MSH>, <Segment MSH>, <Segment MSH>, <Segment MSH>, <Segment MSH>, <Segment MSH>, <Segment MSH>, <Segment MSH>, <Segment MSH>, <Segment MSH>, <Segment MSH>, <Segment MSH>, <Segment MSH>, <Segment MSH>, <Segment MSH>, <Segment MSH>, <Segment MSH>, <Segment MSH>, <Segment MSH>, <Segment MSH>, <Segment MSH>, <Segment MSH>, <Segment MSH>, <Segment MSH>, <Segment MSH>, <Segment MSH>, <Segment MSH>, <Segment MSH>, <Segment MSH>, <Segment MSH>, <Segment MSH>, <Segment MSH>, <Segment MSH>, <Segment MSH>, <Segment MSH>, <Segment MSH>, <Segment MSH>, <Segment MSH>, <Segment MSH>, <Segment MSH>, <Segment MSH>, <Segment MSH>, <Segment MSH>, <Segment MSH>, <Segment MSH>, <Segment MSH>, <Segment MSH>]\n"
     ]
    }
   ],
   "source": [
    "print(msg.msh)"
   ]
  },
  {
   "cell_type": "code",
   "execution_count": 32,
   "id": "032364b9",
   "metadata": {},
   "outputs": [
    {
     "name": "stdout",
     "output_type": "stream",
     "text": [
      "[<Field MSH_1 (FIELD_SEPARATOR) of type ST>, <Field MSH_2 (ENCODING_CHARACTERS) of type ST>, <Field MSH_3 (SENDING_APPLICATION) of type HD>, <Field MSH_7 (DATE_TIME_OF_MESSAGE) of type TS>, <Field MSH_9 (MESSAGE_TYPE) of type CM_MSG>, <Field MSH_10 (MESSAGE_CONTROL_ID) of type ST>, <Field MSH_11 (PROCESSING_ID) of type PT>, <Field MSH_12 (VERSION_ID) of type ID>, <Field MSH_18 (CHARACTER_SET) of type ID>]\n"
     ]
    }
   ],
   "source": [
    "# le segment msh a 18 fils (fields)\n",
    "print(msg.msh.children)"
   ]
  },
  {
   "cell_type": "code",
   "execution_count": 31,
   "id": "2abbf154",
   "metadata": {},
   "outputs": [
    {
     "name": "stdout",
     "output_type": "stream",
     "text": [
      "[<Group ORU_R01_RESPONSE>, <Group ORU_R01_RESPONSE>, <Group ORU_R01_RESPONSE>, <Group ORU_R01_RESPONSE>, <Group ORU_R01_RESPONSE>, <Group ORU_R01_RESPONSE>, <Group ORU_R01_RESPONSE>, <Group ORU_R01_RESPONSE>, <Group ORU_R01_RESPONSE>, <Group ORU_R01_RESPONSE>, <Group ORU_R01_RESPONSE>, <Group ORU_R01_RESPONSE>, <Group ORU_R01_RESPONSE>, <Group ORU_R01_RESPONSE>, <Group ORU_R01_RESPONSE>, <Group ORU_R01_RESPONSE>, <Group ORU_R01_RESPONSE>, <Group ORU_R01_RESPONSE>, <Group ORU_R01_RESPONSE>, <Group ORU_R01_RESPONSE>, <Group ORU_R01_RESPONSE>, <Group ORU_R01_RESPONSE>, <Group ORU_R01_RESPONSE>, <Group ORU_R01_RESPONSE>, <Group ORU_R01_RESPONSE>, <Group ORU_R01_RESPONSE>, <Group ORU_R01_RESPONSE>, <Group ORU_R01_RESPONSE>, <Group ORU_R01_RESPONSE>, <Group ORU_R01_RESPONSE>, <Group ORU_R01_RESPONSE>, <Group ORU_R01_RESPONSE>, <Group ORU_R01_RESPONSE>, <Group ORU_R01_RESPONSE>, <Group ORU_R01_RESPONSE>, <Group ORU_R01_RESPONSE>, <Group ORU_R01_RESPONSE>, <Group ORU_R01_RESPONSE>, <Group ORU_R01_RESPONSE>, <Group ORU_R01_RESPONSE>, <Group ORU_R01_RESPONSE>, <Group ORU_R01_RESPONSE>, <Group ORU_R01_RESPONSE>, <Group ORU_R01_RESPONSE>, <Group ORU_R01_RESPONSE>, <Group ORU_R01_RESPONSE>, <Group ORU_R01_RESPONSE>, <Group ORU_R01_RESPONSE>, <Group ORU_R01_RESPONSE>, <Group ORU_R01_RESPONSE>, <Group ORU_R01_RESPONSE>, <Group ORU_R01_RESPONSE>, <Group ORU_R01_RESPONSE>, <Group ORU_R01_RESPONSE>, <Group ORU_R01_RESPONSE>, <Group ORU_R01_RESPONSE>, <Group ORU_R01_RESPONSE>, <Group ORU_R01_RESPONSE>, <Group ORU_R01_RESPONSE>, <Group ORU_R01_RESPONSE>, <Group ORU_R01_RESPONSE>, <Group ORU_R01_RESPONSE>, <Group ORU_R01_RESPONSE>, <Group ORU_R01_RESPONSE>, <Group ORU_R01_RESPONSE>, <Group ORU_R01_RESPONSE>, <Group ORU_R01_RESPONSE>, <Group ORU_R01_RESPONSE>, <Group ORU_R01_RESPONSE>, <Group ORU_R01_RESPONSE>, <Group ORU_R01_RESPONSE>, <Group ORU_R01_RESPONSE>, <Group ORU_R01_RESPONSE>, <Group ORU_R01_RESPONSE>, <Group ORU_R01_RESPONSE>, <Group ORU_R01_RESPONSE>, <Group ORU_R01_RESPONSE>, <Group ORU_R01_RESPONSE>, <Group ORU_R01_RESPONSE>, <Group ORU_R01_RESPONSE>, <Group ORU_R01_RESPONSE>, <Group ORU_R01_RESPONSE>, <Group ORU_R01_RESPONSE>, <Group ORU_R01_RESPONSE>, <Group ORU_R01_RESPONSE>, <Group ORU_R01_RESPONSE>, <Group ORU_R01_RESPONSE>]\n"
     ]
    }
   ],
   "source": [
    "print(msg.ORU_R01_RESPONSE)"
   ]
  },
  {
   "cell_type": "code",
   "execution_count": 34,
   "id": "ce05394a",
   "metadata": {},
   "outputs": [
    {
     "name": "stdout",
     "output_type": "stream",
     "text": [
      "[<Group ORU_R01_PATIENT>, <Group ORU_R01_ORDER_OBSERVATION>]\n"
     ]
    }
   ],
   "source": [
    "# le Group ORU_R01_RESPONSE contient deux groupes fils\n",
    "    # Group ORU_R01_PATIENT\n",
    "    # Group ORU_R01_ORDER_OBSERVATION\n",
    "print(msg.ORU_R01_RESPONSE.children)"
   ]
  },
  {
   "cell_type": "code",
   "execution_count": 36,
   "id": "016b0398",
   "metadata": {},
   "outputs": [
    {
     "name": "stdout",
     "output_type": "stream",
     "text": [
      "[<Segment PID>, <Group ORU_R01_VISIT>]\n"
     ]
    }
   ],
   "source": [
    "# le Group ORU_R01_PATIENT\n",
    "    # Segment PID\n",
    "    # Group ORU_R01_VISIT\n",
    "print(msg.ORU_R01_RESPONSE.ORU_R01_PATIENT.children)"
   ]
  },
  {
   "cell_type": "code",
   "execution_count": 38,
   "id": "8fbd2bb6",
   "metadata": {},
   "outputs": [
    {
     "name": "stdout",
     "output_type": "stream",
     "text": [
      "[]\n"
     ]
    }
   ],
   "source": [
    "# le segment pid est vide\n",
    "print(msg.ORU_R01_RESPONSE.ORU_R01_PATIENT.pid.children)"
   ]
  },
  {
   "cell_type": "code",
   "execution_count": 41,
   "id": "1eb1f6dc",
   "metadata": {},
   "outputs": [
    {
     "name": "stdout",
     "output_type": "stream",
     "text": [
      "[<Segment PV1>]\n"
     ]
    }
   ],
   "source": [
    "# le Group ORU_R01_VISIT contient un seul fils PV1\n",
    "print(msg.ORU_R01_RESPONSE.ORU_R01_PATIENT.ORU_R01_VISIT.children)"
   ]
  },
  {
   "cell_type": "code",
   "execution_count": 43,
   "id": "28081371",
   "metadata": {},
   "outputs": [
    {
     "name": "stdout",
     "output_type": "stream",
     "text": [
      "[<Field PV1_2 (PATIENT_CLASS) of type ID>, <Field PV1_3 (ASSIGNED_PATIENT_LOCATION) of type PL>]\n"
     ]
    }
   ],
   "source": [
    "print(msg.ORU_R01_RESPONSE.ORU_R01_PATIENT.ORU_R01_VISIT.PV1.children)"
   ]
  },
  {
   "cell_type": "code",
   "execution_count": 99,
   "id": "493b7ecd",
   "metadata": {},
   "outputs": [
    {
     "name": "stdout",
     "output_type": "stream",
     "text": [
      "I\n"
     ]
    }
   ],
   "source": [
    "# Patient class\n",
    "print(msg.ORU_R01_RESPONSE.ORU_R01_PATIENT.ORU_R01_VISIT.PV1.PATIENT_CLASS.value)"
   ]
  },
  {
   "cell_type": "code",
   "execution_count": 102,
   "id": "059648e6",
   "metadata": {},
   "outputs": [
    {
     "name": "stdout",
     "output_type": "stream",
     "text": [
      "CH2\n"
     ]
    }
   ],
   "source": [
    "# Patient location (numéro de chambre)\n",
    "print(msg.ORU_R01_RESPONSE.ORU_R01_PATIENT.ORU_R01_VISIT.PV1.ASSIGNED_PATIENT_LOCATION.value)"
   ]
  },
  {
   "cell_type": "code",
   "execution_count": 97,
   "id": "bd72da3a",
   "metadata": {},
   "outputs": [
    {
     "name": "stdout",
     "output_type": "stream",
     "text": [
      "[<Segment OBR>, <Group ORU_R01_OBSERVATION>]\n"
     ]
    }
   ],
   "source": [
    "# le Group ORU_R01_ORDER_OBSERVATION contient : \n",
    "    # Segment OBR\n",
    "    # Group ORU_R01_OBSERVATION\n",
    "print(msg.ORU_R01_RESPONSE.ORU_R01_ORDER_OBSERVATION.children)"
   ]
  },
  {
   "cell_type": "code",
   "execution_count": 51,
   "id": "c84b4f4e",
   "metadata": {},
   "outputs": [
    {
     "name": "stdout",
     "output_type": "stream",
     "text": [
      "[<Field OBR_7 (OBSERVATION_DATE_TIME) of type TS>, <Field OBR_10 (COLLECTOR_IDENTIFIER) of type XCN>, <Field OBR_13 (RELEVANT_CLINICAL_INFORMATION) of type ST>]\n"
     ]
    }
   ],
   "source": [
    "# le segment OBR contient 3 champs (fields)\n",
    "print(msg.ORU_R01_RESPONSE.ORU_R01_ORDER_OBSERVATION.OBR.children)"
   ]
  },
  {
   "cell_type": "code",
   "execution_count": 54,
   "id": "11086c4e",
   "metadata": {},
   "outputs": [
    {
     "name": "stdout",
     "output_type": "stream",
     "text": [
      "[<Segment OBX>]\n"
     ]
    }
   ],
   "source": [
    "# le Groupe ORU_R01_OBSERVATION contient une seul fils :\n",
    "    # segment OBX\n",
    "print(msg.ORU_R01_RESPONSE.ORU_R01_ORDER_OBSERVATION.ORU_R01_OBSERVATION.children)"
   ]
  },
  {
   "cell_type": "code",
   "execution_count": 56,
   "id": "7d3483f4",
   "metadata": {},
   "outputs": [
    {
     "data": {
      "text/plain": [
       "[<Field OBX_1 (SET_ID_OBX) of type SI>, <Field OBX_2 (VALUE_TYPE) of type ID>, <Field OBX_3 (OBSERVATION_IDENTIFIER) of type CE>, <Field OBX_5 (OBSERVATION_VALUE) of type varies>, <Field OBX_6 (UNITS) of type CE>, <Field OBX_11 (OBSERV_RESULT_STATUS) of type ID>, <Field OBX_13 (USER_DEFINED_ACCESS_CHECKS) of type ST>, <Field OBX_14 (DATE_TIME_OF_THE_OBSERVATION) of type TS>]"
      ]
     },
     "metadata": {},
     "output_type": "display_data"
    }
   ],
   "source": [
    "# le segment OBX contient les champs suivants :\n",
    "print(msg.ORU_R01_RESPONSE.ORU_R01_ORDER_OBSERVATION.ORU_R01_OBSERVATION.obx.children)"
   ]
  },
  {
   "cell_type": "code",
   "execution_count": 91,
   "id": "06d987cf",
   "metadata": {},
   "outputs": [
    {
     "name": "stdout",
     "output_type": "stream",
     "text": [
      "F\n"
     ]
    }
   ],
   "source": [
    "print(msg.ORU_R01_RESPONSE.ORU_R01_ORDER_OBSERVATION.ORU_R01_OBSERVATION.obx.OBSERV_RESULT_STATUS.value)"
   ]
  },
  {
   "cell_type": "code",
   "execution_count": 84,
   "id": "1acf0793",
   "metadata": {},
   "outputs": [
    {
     "name": "stdout",
     "output_type": "stream",
     "text": [
      "OBX|1|NA|113||2749^2803^2853^2899^2939^2975^3005^3029^3048^3062^3070^3072^3068^3059^3045^3026^3002^2973^2939^2902^2860^2816^2768^2717^2664^2609^2553^2495^2437^2379^2320^2263^2206^2150^2096^2043^1993^1945^1899^1856^1816^1779^1746^1715^1687^1663^1641^1623^1607^1594^1583^1575^1569^1565^1562^1561^1561^1562^1563^1565^1566^1568^1568^1568|139|||||F||8.0036|20221027140214\n"
     ]
    }
   ],
   "source": [
    "champs_obx = msg.ORU_R01_RESPONSE.ORU_R01_ORDER_OBSERVATION.ORU_R01_OBSERVATION.obx\n",
    "print(champs_obx.to_er7())"
   ]
  }
 ],
 "metadata": {
  "kernelspec": {
   "display_name": "Python 3 (ipykernel)",
   "language": "python",
   "name": "python3"
  },
  "language_info": {
   "codemirror_mode": {
    "name": "ipython",
    "version": 3
   },
   "file_extension": ".py",
   "mimetype": "text/x-python",
   "name": "python",
   "nbconvert_exporter": "python",
   "pygments_lexer": "ipython3",
   "version": "3.11.5"
  }
 },
 "nbformat": 4,
 "nbformat_minor": 5
}
