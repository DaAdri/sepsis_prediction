{
 "cells": [
  {
   "cell_type": "code",
   "execution_count": 1,
   "id": "68a38eb9",
   "metadata": {
    "_cell_guid": "b1076dfc-b9ad-4769-8c92-a6c4dae69d19",
    "_uuid": "8f2839f25d086af736a60e9eeb907d3b93b6e0e5",
    "execution": {
     "iopub.execute_input": "2023-03-20T11:59:59.812592Z",
     "iopub.status.busy": "2023-03-20T11:59:59.811969Z",
     "iopub.status.idle": "2023-03-20T11:59:59.825941Z",
     "shell.execute_reply": "2023-03-20T11:59:59.824617Z"
    },
    "papermill": {
     "duration": 0.025011,
     "end_time": "2023-03-20T11:59:59.828506",
     "exception": false,
     "start_time": "2023-03-20T11:59:59.803495",
     "status": "completed"
    },
    "tags": []
   },
   "outputs": [],
   "source": [
    "import numpy as np \n",
    "import pandas as pd "
   ]
  },
  {
   "cell_type": "code",
   "execution_count": 2,
   "id": "2097bb50",
   "metadata": {
    "execution": {
     "iopub.execute_input": "2023-03-20T11:59:59.841159Z",
     "iopub.status.busy": "2023-03-20T11:59:59.839924Z",
     "iopub.status.idle": "2023-03-20T11:59:59.892444Z",
     "shell.execute_reply": "2023-03-20T11:59:59.891007Z"
    },
    "papermill": {
     "duration": 0.062482,
     "end_time": "2023-03-20T11:59:59.895921",
     "exception": false,
     "start_time": "2023-03-20T11:59:59.833439",
     "status": "completed"
    },
    "tags": []
   },
   "outputs": [
    {
     "data": {
      "text/html": [
       "<div>\n",
       "<style scoped>\n",
       "    .dataframe tbody tr th:only-of-type {\n",
       "        vertical-align: middle;\n",
       "    }\n",
       "\n",
       "    .dataframe tbody tr th {\n",
       "        vertical-align: top;\n",
       "    }\n",
       "\n",
       "    .dataframe thead th {\n",
       "        text-align: right;\n",
       "    }\n",
       "</style>\n",
       "<table border=\"1\" class=\"dataframe\">\n",
       "  <thead>\n",
       "    <tr style=\"text-align: right;\">\n",
       "      <th></th>\n",
       "      <th>Hour</th>\n",
       "      <th>HR</th>\n",
       "      <th>O2Sat</th>\n",
       "      <th>Temp</th>\n",
       "      <th>SBP</th>\n",
       "      <th>MAP</th>\n",
       "      <th>DBP</th>\n",
       "      <th>Resp</th>\n",
       "      <th>EtCO2</th>\n",
       "      <th>BaseExcess</th>\n",
       "      <th>...</th>\n",
       "      <th>Fibrinogen</th>\n",
       "      <th>Platelets</th>\n",
       "      <th>Age</th>\n",
       "      <th>Gender</th>\n",
       "      <th>Unit1</th>\n",
       "      <th>Unit2</th>\n",
       "      <th>HospAdmTime</th>\n",
       "      <th>ICULOS</th>\n",
       "      <th>SepsisLabel</th>\n",
       "      <th>Patient_ID</th>\n",
       "    </tr>\n",
       "  </thead>\n",
       "  <tbody>\n",
       "    <tr>\n",
       "      <th>0</th>\n",
       "      <td>0</td>\n",
       "      <td>NaN</td>\n",
       "      <td>NaN</td>\n",
       "      <td>NaN</td>\n",
       "      <td>NaN</td>\n",
       "      <td>NaN</td>\n",
       "      <td>NaN</td>\n",
       "      <td>NaN</td>\n",
       "      <td>NaN</td>\n",
       "      <td>NaN</td>\n",
       "      <td>...</td>\n",
       "      <td>NaN</td>\n",
       "      <td>NaN</td>\n",
       "      <td>68.54</td>\n",
       "      <td>0</td>\n",
       "      <td>NaN</td>\n",
       "      <td>NaN</td>\n",
       "      <td>-0.02</td>\n",
       "      <td>1</td>\n",
       "      <td>0</td>\n",
       "      <td>17072</td>\n",
       "    </tr>\n",
       "    <tr>\n",
       "      <th>1</th>\n",
       "      <td>1</td>\n",
       "      <td>65.0</td>\n",
       "      <td>100.0</td>\n",
       "      <td>NaN</td>\n",
       "      <td>NaN</td>\n",
       "      <td>72.0</td>\n",
       "      <td>NaN</td>\n",
       "      <td>16.5</td>\n",
       "      <td>NaN</td>\n",
       "      <td>NaN</td>\n",
       "      <td>...</td>\n",
       "      <td>NaN</td>\n",
       "      <td>NaN</td>\n",
       "      <td>68.54</td>\n",
       "      <td>0</td>\n",
       "      <td>NaN</td>\n",
       "      <td>NaN</td>\n",
       "      <td>-0.02</td>\n",
       "      <td>2</td>\n",
       "      <td>0</td>\n",
       "      <td>17072</td>\n",
       "    </tr>\n",
       "    <tr>\n",
       "      <th>2</th>\n",
       "      <td>2</td>\n",
       "      <td>78.0</td>\n",
       "      <td>100.0</td>\n",
       "      <td>NaN</td>\n",
       "      <td>NaN</td>\n",
       "      <td>42.5</td>\n",
       "      <td>NaN</td>\n",
       "      <td>NaN</td>\n",
       "      <td>NaN</td>\n",
       "      <td>NaN</td>\n",
       "      <td>...</td>\n",
       "      <td>NaN</td>\n",
       "      <td>NaN</td>\n",
       "      <td>68.54</td>\n",
       "      <td>0</td>\n",
       "      <td>NaN</td>\n",
       "      <td>NaN</td>\n",
       "      <td>-0.02</td>\n",
       "      <td>3</td>\n",
       "      <td>0</td>\n",
       "      <td>17072</td>\n",
       "    </tr>\n",
       "    <tr>\n",
       "      <th>3</th>\n",
       "      <td>3</td>\n",
       "      <td>73.0</td>\n",
       "      <td>100.0</td>\n",
       "      <td>NaN</td>\n",
       "      <td>NaN</td>\n",
       "      <td>NaN</td>\n",
       "      <td>NaN</td>\n",
       "      <td>17.0</td>\n",
       "      <td>NaN</td>\n",
       "      <td>NaN</td>\n",
       "      <td>...</td>\n",
       "      <td>NaN</td>\n",
       "      <td>NaN</td>\n",
       "      <td>68.54</td>\n",
       "      <td>0</td>\n",
       "      <td>NaN</td>\n",
       "      <td>NaN</td>\n",
       "      <td>-0.02</td>\n",
       "      <td>4</td>\n",
       "      <td>0</td>\n",
       "      <td>17072</td>\n",
       "    </tr>\n",
       "    <tr>\n",
       "      <th>4</th>\n",
       "      <td>4</td>\n",
       "      <td>70.0</td>\n",
       "      <td>100.0</td>\n",
       "      <td>NaN</td>\n",
       "      <td>129.0</td>\n",
       "      <td>74.0</td>\n",
       "      <td>69.0</td>\n",
       "      <td>14.0</td>\n",
       "      <td>NaN</td>\n",
       "      <td>NaN</td>\n",
       "      <td>...</td>\n",
       "      <td>NaN</td>\n",
       "      <td>330.0</td>\n",
       "      <td>68.54</td>\n",
       "      <td>0</td>\n",
       "      <td>NaN</td>\n",
       "      <td>NaN</td>\n",
       "      <td>-0.02</td>\n",
       "      <td>5</td>\n",
       "      <td>0</td>\n",
       "      <td>17072</td>\n",
       "    </tr>\n",
       "  </tbody>\n",
       "</table>\n",
       "<p>5 rows × 43 columns</p>\n",
       "</div>"
      ],
      "text/plain": [
       "   Hour    HR  O2Sat  Temp    SBP   MAP   DBP  Resp  EtCO2  BaseExcess  ...  \\\n",
       "0     0   NaN    NaN   NaN    NaN   NaN   NaN   NaN    NaN         NaN  ...   \n",
       "1     1  65.0  100.0   NaN    NaN  72.0   NaN  16.5    NaN         NaN  ...   \n",
       "2     2  78.0  100.0   NaN    NaN  42.5   NaN   NaN    NaN         NaN  ...   \n",
       "3     3  73.0  100.0   NaN    NaN   NaN   NaN  17.0    NaN         NaN  ...   \n",
       "4     4  70.0  100.0   NaN  129.0  74.0  69.0  14.0    NaN         NaN  ...   \n",
       "\n",
       "   Fibrinogen  Platelets    Age  Gender  Unit1  Unit2  HospAdmTime  ICULOS  \\\n",
       "0         NaN        NaN  68.54       0    NaN    NaN        -0.02       1   \n",
       "1         NaN        NaN  68.54       0    NaN    NaN        -0.02       2   \n",
       "2         NaN        NaN  68.54       0    NaN    NaN        -0.02       3   \n",
       "3         NaN        NaN  68.54       0    NaN    NaN        -0.02       4   \n",
       "4         NaN      330.0  68.54       0    NaN    NaN        -0.02       5   \n",
       "\n",
       "   SepsisLabel  Patient_ID  \n",
       "0            0       17072  \n",
       "1            0       17072  \n",
       "2            0       17072  \n",
       "3            0       17072  \n",
       "4            0       17072  \n",
       "\n",
       "[5 rows x 43 columns]"
      ]
     },
     "execution_count": 2,
     "metadata": {},
     "output_type": "execute_result"
    }
   ],
   "source": [
    "df_train = pd.read_csv('Dataset.csv')\n",
    "df_train = df_train.drop(columns=['Unnamed: 0'])\n",
    "df_train.head()"
   ]
  },
  {
   "cell_type": "code",
   "execution_count": null,
   "id": "61abc495",
   "metadata": {},
   "outputs": [],
   "source": [
    "df_train"
   ]
  },
  {
   "cell_type": "code",
   "execution_count": 7,
   "id": "9b592293",
   "metadata": {
    "execution": {
     "iopub.execute_input": "2023-03-20T11:59:59.909818Z",
     "iopub.status.busy": "2023-03-20T11:59:59.908312Z",
     "iopub.status.idle": "2023-03-20T11:59:59.936090Z",
     "shell.execute_reply": "2023-03-20T11:59:59.934565Z"
    },
    "papermill": {
     "duration": 0.037265,
     "end_time": "2023-03-20T11:59:59.938879",
     "exception": false,
     "start_time": "2023-03-20T11:59:59.901614",
     "status": "completed"
    },
    "tags": []
   },
   "outputs": [
    {
     "data": {
      "text/html": [
       "<div>\n",
       "<style scoped>\n",
       "    .dataframe tbody tr th:only-of-type {\n",
       "        vertical-align: middle;\n",
       "    }\n",
       "\n",
       "    .dataframe tbody tr th {\n",
       "        vertical-align: top;\n",
       "    }\n",
       "\n",
       "    .dataframe thead th {\n",
       "        text-align: right;\n",
       "    }\n",
       "</style>\n",
       "<table border=\"1\" class=\"dataframe\">\n",
       "  <thead>\n",
       "    <tr style=\"text-align: right;\">\n",
       "      <th></th>\n",
       "      <th>Patient_ID</th>\n",
       "      <th>Hour</th>\n",
       "      <th>HR</th>\n",
       "      <th>O2Sat</th>\n",
       "      <th>Temp</th>\n",
       "      <th>SBP</th>\n",
       "      <th>MAP</th>\n",
       "      <th>DBP</th>\n",
       "      <th>Resp</th>\n",
       "      <th>EtCO2</th>\n",
       "      <th>...</th>\n",
       "      <th>WBC</th>\n",
       "      <th>Fibrinogen</th>\n",
       "      <th>Platelets</th>\n",
       "      <th>Age</th>\n",
       "      <th>Gender</th>\n",
       "      <th>Unit1</th>\n",
       "      <th>Unit2</th>\n",
       "      <th>HospAdmTime</th>\n",
       "      <th>ICULOS</th>\n",
       "      <th>SepsisLabel</th>\n",
       "    </tr>\n",
       "  </thead>\n",
       "  <tbody>\n",
       "    <tr>\n",
       "      <th>0</th>\n",
       "      <td>17072</td>\n",
       "      <td>0</td>\n",
       "      <td>NaN</td>\n",
       "      <td>NaN</td>\n",
       "      <td>NaN</td>\n",
       "      <td>NaN</td>\n",
       "      <td>NaN</td>\n",
       "      <td>NaN</td>\n",
       "      <td>NaN</td>\n",
       "      <td>NaN</td>\n",
       "      <td>...</td>\n",
       "      <td>NaN</td>\n",
       "      <td>NaN</td>\n",
       "      <td>NaN</td>\n",
       "      <td>68.54</td>\n",
       "      <td>0</td>\n",
       "      <td>NaN</td>\n",
       "      <td>NaN</td>\n",
       "      <td>-0.02</td>\n",
       "      <td>1</td>\n",
       "      <td>0</td>\n",
       "    </tr>\n",
       "    <tr>\n",
       "      <th>1</th>\n",
       "      <td>17072</td>\n",
       "      <td>1</td>\n",
       "      <td>65.0</td>\n",
       "      <td>100.0</td>\n",
       "      <td>NaN</td>\n",
       "      <td>NaN</td>\n",
       "      <td>72.0</td>\n",
       "      <td>NaN</td>\n",
       "      <td>16.5</td>\n",
       "      <td>NaN</td>\n",
       "      <td>...</td>\n",
       "      <td>NaN</td>\n",
       "      <td>NaN</td>\n",
       "      <td>NaN</td>\n",
       "      <td>68.54</td>\n",
       "      <td>0</td>\n",
       "      <td>NaN</td>\n",
       "      <td>NaN</td>\n",
       "      <td>-0.02</td>\n",
       "      <td>2</td>\n",
       "      <td>0</td>\n",
       "    </tr>\n",
       "    <tr>\n",
       "      <th>2</th>\n",
       "      <td>17072</td>\n",
       "      <td>2</td>\n",
       "      <td>78.0</td>\n",
       "      <td>100.0</td>\n",
       "      <td>NaN</td>\n",
       "      <td>NaN</td>\n",
       "      <td>42.5</td>\n",
       "      <td>NaN</td>\n",
       "      <td>NaN</td>\n",
       "      <td>NaN</td>\n",
       "      <td>...</td>\n",
       "      <td>NaN</td>\n",
       "      <td>NaN</td>\n",
       "      <td>NaN</td>\n",
       "      <td>68.54</td>\n",
       "      <td>0</td>\n",
       "      <td>NaN</td>\n",
       "      <td>NaN</td>\n",
       "      <td>-0.02</td>\n",
       "      <td>3</td>\n",
       "      <td>0</td>\n",
       "    </tr>\n",
       "    <tr>\n",
       "      <th>3</th>\n",
       "      <td>17072</td>\n",
       "      <td>3</td>\n",
       "      <td>73.0</td>\n",
       "      <td>100.0</td>\n",
       "      <td>NaN</td>\n",
       "      <td>NaN</td>\n",
       "      <td>NaN</td>\n",
       "      <td>NaN</td>\n",
       "      <td>17.0</td>\n",
       "      <td>NaN</td>\n",
       "      <td>...</td>\n",
       "      <td>NaN</td>\n",
       "      <td>NaN</td>\n",
       "      <td>NaN</td>\n",
       "      <td>68.54</td>\n",
       "      <td>0</td>\n",
       "      <td>NaN</td>\n",
       "      <td>NaN</td>\n",
       "      <td>-0.02</td>\n",
       "      <td>4</td>\n",
       "      <td>0</td>\n",
       "    </tr>\n",
       "    <tr>\n",
       "      <th>4</th>\n",
       "      <td>17072</td>\n",
       "      <td>4</td>\n",
       "      <td>70.0</td>\n",
       "      <td>100.0</td>\n",
       "      <td>NaN</td>\n",
       "      <td>129.0</td>\n",
       "      <td>74.0</td>\n",
       "      <td>69.0</td>\n",
       "      <td>14.0</td>\n",
       "      <td>NaN</td>\n",
       "      <td>...</td>\n",
       "      <td>11.3</td>\n",
       "      <td>NaN</td>\n",
       "      <td>330.0</td>\n",
       "      <td>68.54</td>\n",
       "      <td>0</td>\n",
       "      <td>NaN</td>\n",
       "      <td>NaN</td>\n",
       "      <td>-0.02</td>\n",
       "      <td>5</td>\n",
       "      <td>0</td>\n",
       "    </tr>\n",
       "  </tbody>\n",
       "</table>\n",
       "<p>5 rows × 43 columns</p>\n",
       "</div>"
      ],
      "text/plain": [
       "   Patient_ID  Hour    HR  O2Sat  Temp    SBP   MAP   DBP  Resp  EtCO2  ...  \\\n",
       "0       17072     0   NaN    NaN   NaN    NaN   NaN   NaN   NaN    NaN  ...   \n",
       "1       17072     1  65.0  100.0   NaN    NaN  72.0   NaN  16.5    NaN  ...   \n",
       "2       17072     2  78.0  100.0   NaN    NaN  42.5   NaN   NaN    NaN  ...   \n",
       "3       17072     3  73.0  100.0   NaN    NaN   NaN   NaN  17.0    NaN  ...   \n",
       "4       17072     4  70.0  100.0   NaN  129.0  74.0  69.0  14.0    NaN  ...   \n",
       "\n",
       "    WBC  Fibrinogen  Platelets    Age  Gender  Unit1  Unit2  HospAdmTime  \\\n",
       "0   NaN         NaN        NaN  68.54       0    NaN    NaN        -0.02   \n",
       "1   NaN         NaN        NaN  68.54       0    NaN    NaN        -0.02   \n",
       "2   NaN         NaN        NaN  68.54       0    NaN    NaN        -0.02   \n",
       "3   NaN         NaN        NaN  68.54       0    NaN    NaN        -0.02   \n",
       "4  11.3         NaN      330.0  68.54       0    NaN    NaN        -0.02   \n",
       "\n",
       "   ICULOS  SepsisLabel  \n",
       "0       1            0  \n",
       "1       2            0  \n",
       "2       3            0  \n",
       "3       4            0  \n",
       "4       5            0  \n",
       "\n",
       "[5 rows x 43 columns]"
      ]
     },
     "execution_count": 7,
     "metadata": {},
     "output_type": "execute_result"
    }
   ],
   "source": [
    "label = df_train.columns[-2]\n",
    "label_deplace = df_train.pop(label)\n",
    "df_train.insert(0, label, label_deplace)\n",
    "df_train.head()"
   ]
  },
  {
   "cell_type": "code",
   "execution_count": 5,
   "id": "068230b1",
   "metadata": {
    "execution": {
     "iopub.execute_input": "2023-03-20T11:59:59.952045Z",
     "iopub.status.busy": "2023-03-20T11:59:59.951621Z",
     "iopub.status.idle": "2023-03-20T11:59:59.964383Z",
     "shell.execute_reply": "2023-03-20T11:59:59.963163Z"
    },
    "papermill": {
     "duration": 0.022302,
     "end_time": "2023-03-20T11:59:59.966988",
     "exception": false,
     "start_time": "2023-03-20T11:59:59.944686",
     "status": "completed"
    },
    "tags": []
   },
   "outputs": [
    {
     "data": {
      "text/plain": [
       "SepsisLabel\n",
       "0    1524294\n",
       "1      27916\n",
       "Name: count, dtype: int64"
      ]
     },
     "execution_count": 5,
     "metadata": {},
     "output_type": "execute_result"
    }
   ],
   "source": [
    "df_train['SepsisLabel'].value_counts()"
   ]
  },
  {
   "cell_type": "code",
   "execution_count": 8,
   "id": "2c1879e3",
   "metadata": {},
   "outputs": [
    {
     "data": {
      "text/plain": [
       "40336"
      ]
     },
     "execution_count": 8,
     "metadata": {},
     "output_type": "execute_result"
    }
   ],
   "source": [
    "df_train['Patient_ID'].nunique()"
   ]
  },
  {
   "cell_type": "code",
   "execution_count": 9,
   "id": "46062804",
   "metadata": {
    "execution": {
     "iopub.execute_input": "2023-03-20T11:59:59.980192Z",
     "iopub.status.busy": "2023-03-20T11:59:59.979771Z",
     "iopub.status.idle": "2023-03-20T11:59:59.985943Z",
     "shell.execute_reply": "2023-03-20T11:59:59.984564Z"
    },
    "papermill": {
     "duration": 0.015731,
     "end_time": "2023-03-20T11:59:59.988324",
     "exception": false,
     "start_time": "2023-03-20T11:59:59.972593",
     "status": "completed"
    },
    "tags": []
   },
   "outputs": [],
   "source": [
    "X = df_train.iloc[:,:-1]\n",
    "y = df_train.iloc[:,-1]"
   ]
  },
  {
   "cell_type": "code",
   "execution_count": 10,
   "id": "ffee3e0e",
   "metadata": {
    "execution": {
     "iopub.execute_input": "2023-03-20T12:00:00.003020Z",
     "iopub.status.busy": "2023-03-20T12:00:00.001432Z",
     "iopub.status.idle": "2023-03-20T12:00:01.220737Z",
     "shell.execute_reply": "2023-03-20T12:00:01.219351Z"
    },
    "papermill": {
     "duration": 1.229688,
     "end_time": "2023-03-20T12:00:01.223437",
     "exception": false,
     "start_time": "2023-03-20T11:59:59.993749",
     "status": "completed"
    },
    "tags": []
   },
   "outputs": [
    {
     "data": {
      "text/plain": [
       "((1241768, 42), (310442, 42), (1241768,), (310442,))"
      ]
     },
     "execution_count": 10,
     "metadata": {},
     "output_type": "execute_result"
    }
   ],
   "source": [
    "from sklearn.model_selection import train_test_split\n",
    "X_train, X_test, y_train, y_test = train_test_split(X, y, test_size=0.2, stratify=y, random_state=2023)\n",
    "X_train.shape, X_test.shape, y_train.shape, y_test.shape"
   ]
  },
  {
   "cell_type": "markdown",
   "id": "8815d082",
   "metadata": {
    "papermill": {
     "duration": 0.005144,
     "end_time": "2023-03-20T12:00:01.234395",
     "exception": false,
     "start_time": "2023-03-20T12:00:01.229251",
     "status": "completed"
    },
    "tags": []
   },
   "source": [
    "# Optuna"
   ]
  },
  {
   "cell_type": "code",
   "execution_count": 11,
   "id": "5429bd09",
   "metadata": {
    "execution": {
     "iopub.execute_input": "2023-03-20T12:00:01.247448Z",
     "iopub.status.busy": "2023-03-20T12:00:01.247014Z",
     "iopub.status.idle": "2023-03-20T12:00:01.967118Z",
     "shell.execute_reply": "2023-03-20T12:00:01.965646Z"
    },
    "papermill": {
     "duration": 0.730365,
     "end_time": "2023-03-20T12:00:01.970234",
     "exception": false,
     "start_time": "2023-03-20T12:00:01.239869",
     "status": "completed"
    },
    "tags": []
   },
   "outputs": [],
   "source": [
    "import optuna\n",
    "from xgboost import XGBClassifier\n",
    "from sklearn.model_selection import cross_val_score"
   ]
  },
  {
   "cell_type": "code",
   "execution_count": 12,
   "id": "4f4f1999",
   "metadata": {
    "execution": {
     "iopub.execute_input": "2023-03-20T12:00:01.983553Z",
     "iopub.status.busy": "2023-03-20T12:00:01.983090Z",
     "iopub.status.idle": "2023-03-20T12:00:01.991993Z",
     "shell.execute_reply": "2023-03-20T12:00:01.990546Z"
    },
    "papermill": {
     "duration": 0.018471,
     "end_time": "2023-03-20T12:00:01.994430",
     "exception": false,
     "start_time": "2023-03-20T12:00:01.975959",
     "status": "completed"
    },
    "tags": []
   },
   "outputs": [],
   "source": [
    "def objective(trial):\n",
    "    learning_rate = trial.suggest_uniform('learning_rate', 0.01, 1)\n",
    "    max_depth = trial.suggest_int('max_depth', 2, 11)\n",
    "    n_estimators = trial.suggest_int('n_estimators', 50, 200)\n",
    "    min_child_weight = trial.suggest_int('min_child_weight', 1, 10)\n",
    "    gamma = trial.suggest_uniform('gamma', 0.01, 5)\n",
    "    subsample = trial.suggest_uniform('subsample', 0.01, 1)\n",
    "    clf1 = XGBClassifier(learning_rate=learning_rate,\n",
    "                         max_depth=max_depth,\n",
    "                         n_estimators=n_estimators,\n",
    "                         min_child_weight=min_child_weight,\n",
    "                         gamma=gamma)\n",
    "    score = cross_val_score(clf1, X_train, y_train, cv=5)\n",
    "    return np.mean(score)"
   ]
  },
  {
   "cell_type": "code",
   "execution_count": 13,
   "id": "4be2deba",
   "metadata": {
    "execution": {
     "iopub.execute_input": "2023-03-20T12:00:02.008708Z",
     "iopub.status.busy": "2023-03-20T12:00:02.008217Z",
     "iopub.status.idle": "2023-03-20T12:00:46.089938Z",
     "shell.execute_reply": "2023-03-20T12:00:46.088868Z"
    },
    "papermill": {
     "duration": 44.092964,
     "end_time": "2023-03-20T12:00:46.092877",
     "exception": false,
     "start_time": "2023-03-20T12:00:01.999913",
     "status": "completed"
    },
    "tags": []
   },
   "outputs": [
    {
     "name": "stderr",
     "output_type": "stream",
     "text": [
      "[I 2024-06-10 14:43:17,199] A new study created in memory with name: no-name-3253aaa5-4099-4f87-8b55-09bc86f9771b\n",
      "C:\\Users\\AdminPC\\AppData\\Local\\Temp\\ipykernel_14804\\393785304.py:2: FutureWarning: suggest_uniform has been deprecated in v3.0.0. This feature will be removed in v6.0.0. See https://github.com/optuna/optuna/releases/tag/v3.0.0. Use suggest_float instead.\n",
      "  learning_rate = trial.suggest_uniform('learning_rate', 0.01, 1)\n",
      "C:\\Users\\AdminPC\\AppData\\Local\\Temp\\ipykernel_14804\\393785304.py:6: FutureWarning: suggest_uniform has been deprecated in v3.0.0. This feature will be removed in v6.0.0. See https://github.com/optuna/optuna/releases/tag/v3.0.0. Use suggest_float instead.\n",
      "  gamma = trial.suggest_uniform('gamma', 0.01, 5)\n",
      "C:\\Users\\AdminPC\\AppData\\Local\\Temp\\ipykernel_14804\\393785304.py:7: FutureWarning: suggest_uniform has been deprecated in v3.0.0. This feature will be removed in v6.0.0. See https://github.com/optuna/optuna/releases/tag/v3.0.0. Use suggest_float instead.\n",
      "  subsample = trial.suggest_uniform('subsample', 0.01, 1)\n",
      "[I 2024-06-10 14:44:56,064] Trial 0 finished with value: 0.98416209817719 and parameters: {'learning_rate': 0.3807947176588889, 'max_depth': 11, 'n_estimators': 160, 'min_child_weight': 6, 'gamma': 0.7885330158077583, 'subsample': 0.16443457513284063}. Best is trial 0 with value: 0.98416209817719.\n",
      "C:\\Users\\AdminPC\\AppData\\Local\\Temp\\ipykernel_14804\\393785304.py:2: FutureWarning: suggest_uniform has been deprecated in v3.0.0. This feature will be removed in v6.0.0. See https://github.com/optuna/optuna/releases/tag/v3.0.0. Use suggest_float instead.\n",
      "  learning_rate = trial.suggest_uniform('learning_rate', 0.01, 1)\n",
      "C:\\Users\\AdminPC\\AppData\\Local\\Temp\\ipykernel_14804\\393785304.py:6: FutureWarning: suggest_uniform has been deprecated in v3.0.0. This feature will be removed in v6.0.0. See https://github.com/optuna/optuna/releases/tag/v3.0.0. Use suggest_float instead.\n",
      "  gamma = trial.suggest_uniform('gamma', 0.01, 5)\n",
      "C:\\Users\\AdminPC\\AppData\\Local\\Temp\\ipykernel_14804\\393785304.py:7: FutureWarning: suggest_uniform has been deprecated in v3.0.0. This feature will be removed in v6.0.0. See https://github.com/optuna/optuna/releases/tag/v3.0.0. Use suggest_float instead.\n",
      "  subsample = trial.suggest_uniform('subsample', 0.01, 1)\n",
      "[I 2024-06-10 14:46:59,301] Trial 1 finished with value: 0.9824443857499482 and parameters: {'learning_rate': 0.06750277604651747, 'max_depth': 10, 'n_estimators': 140, 'min_child_weight': 8, 'gamma': 0.11271662653605422, 'subsample': 0.9702107536403743}. Best is trial 0 with value: 0.98416209817719.\n",
      "C:\\Users\\AdminPC\\AppData\\Local\\Temp\\ipykernel_14804\\393785304.py:2: FutureWarning: suggest_uniform has been deprecated in v3.0.0. This feature will be removed in v6.0.0. See https://github.com/optuna/optuna/releases/tag/v3.0.0. Use suggest_float instead.\n",
      "  learning_rate = trial.suggest_uniform('learning_rate', 0.01, 1)\n",
      "C:\\Users\\AdminPC\\AppData\\Local\\Temp\\ipykernel_14804\\393785304.py:6: FutureWarning: suggest_uniform has been deprecated in v3.0.0. This feature will be removed in v6.0.0. See https://github.com/optuna/optuna/releases/tag/v3.0.0. Use suggest_float instead.\n",
      "  gamma = trial.suggest_uniform('gamma', 0.01, 5)\n",
      "C:\\Users\\AdminPC\\AppData\\Local\\Temp\\ipykernel_14804\\393785304.py:7: FutureWarning: suggest_uniform has been deprecated in v3.0.0. This feature will be removed in v6.0.0. See https://github.com/optuna/optuna/releases/tag/v3.0.0. Use suggest_float instead.\n",
      "  subsample = trial.suggest_uniform('subsample', 0.01, 1)\n",
      "[I 2024-06-10 14:47:36,153] Trial 2 finished with value: 0.9817808158522603 and parameters: {'learning_rate': 0.8341182143924175, 'max_depth': 4, 'n_estimators': 77, 'min_child_weight': 2, 'gamma': 1.5281687923680933, 'subsample': 0.5295088673159155}. Best is trial 0 with value: 0.98416209817719.\n",
      "C:\\Users\\AdminPC\\AppData\\Local\\Temp\\ipykernel_14804\\393785304.py:2: FutureWarning: suggest_uniform has been deprecated in v3.0.0. This feature will be removed in v6.0.0. See https://github.com/optuna/optuna/releases/tag/v3.0.0. Use suggest_float instead.\n",
      "  learning_rate = trial.suggest_uniform('learning_rate', 0.01, 1)\n",
      "C:\\Users\\AdminPC\\AppData\\Local\\Temp\\ipykernel_14804\\393785304.py:6: FutureWarning: suggest_uniform has been deprecated in v3.0.0. This feature will be removed in v6.0.0. See https://github.com/optuna/optuna/releases/tag/v3.0.0. Use suggest_float instead.\n",
      "  gamma = trial.suggest_uniform('gamma', 0.01, 5)\n",
      "C:\\Users\\AdminPC\\AppData\\Local\\Temp\\ipykernel_14804\\393785304.py:7: FutureWarning: suggest_uniform has been deprecated in v3.0.0. This feature will be removed in v6.0.0. See https://github.com/optuna/optuna/releases/tag/v3.0.0. Use suggest_float instead.\n",
      "  subsample = trial.suggest_uniform('subsample', 0.01, 1)\n",
      "[I 2024-06-10 14:48:26,031] Trial 3 finished with value: 0.9820787780087604 and parameters: {'learning_rate': 0.4376255684556946, 'max_depth': 4, 'n_estimators': 142, 'min_child_weight': 2, 'gamma': 1.4678017961907386, 'subsample': 0.37269822486075477}. Best is trial 0 with value: 0.98416209817719.\n",
      "C:\\Users\\AdminPC\\AppData\\Local\\Temp\\ipykernel_14804\\393785304.py:2: FutureWarning: suggest_uniform has been deprecated in v3.0.0. This feature will be removed in v6.0.0. See https://github.com/optuna/optuna/releases/tag/v3.0.0. Use suggest_float instead.\n",
      "  learning_rate = trial.suggest_uniform('learning_rate', 0.01, 1)\n",
      "C:\\Users\\AdminPC\\AppData\\Local\\Temp\\ipykernel_14804\\393785304.py:6: FutureWarning: suggest_uniform has been deprecated in v3.0.0. This feature will be removed in v6.0.0. See https://github.com/optuna/optuna/releases/tag/v3.0.0. Use suggest_float instead.\n",
      "  gamma = trial.suggest_uniform('gamma', 0.01, 5)\n",
      "C:\\Users\\AdminPC\\AppData\\Local\\Temp\\ipykernel_14804\\393785304.py:7: FutureWarning: suggest_uniform has been deprecated in v3.0.0. This feature will be removed in v6.0.0. See https://github.com/optuna/optuna/releases/tag/v3.0.0. Use suggest_float instead.\n",
      "  subsample = trial.suggest_uniform('subsample', 0.01, 1)\n",
      "[I 2024-06-10 14:49:09,853] Trial 4 finished with value: 0.9826432957210901 and parameters: {'learning_rate': 0.46150928437486555, 'max_depth': 9, 'n_estimators': 80, 'min_child_weight': 6, 'gamma': 2.9661486986215917, 'subsample': 0.05598590859279775}. Best is trial 0 with value: 0.98416209817719.\n",
      "C:\\Users\\AdminPC\\AppData\\Local\\Temp\\ipykernel_14804\\393785304.py:2: FutureWarning: suggest_uniform has been deprecated in v3.0.0. This feature will be removed in v6.0.0. See https://github.com/optuna/optuna/releases/tag/v3.0.0. Use suggest_float instead.\n",
      "  learning_rate = trial.suggest_uniform('learning_rate', 0.01, 1)\n",
      "C:\\Users\\AdminPC\\AppData\\Local\\Temp\\ipykernel_14804\\393785304.py:6: FutureWarning: suggest_uniform has been deprecated in v3.0.0. This feature will be removed in v6.0.0. See https://github.com/optuna/optuna/releases/tag/v3.0.0. Use suggest_float instead.\n",
      "  gamma = trial.suggest_uniform('gamma', 0.01, 5)\n",
      "C:\\Users\\AdminPC\\AppData\\Local\\Temp\\ipykernel_14804\\393785304.py:7: FutureWarning: suggest_uniform has been deprecated in v3.0.0. This feature will be removed in v6.0.0. See https://github.com/optuna/optuna/releases/tag/v3.0.0. Use suggest_float instead.\n",
      "  subsample = trial.suggest_uniform('subsample', 0.01, 1)\n",
      "[I 2024-06-10 14:49:45,855] Trial 5 finished with value: 0.9819346287139817 and parameters: {'learning_rate': 0.611469403382424, 'max_depth': 3, 'n_estimators': 59, 'min_child_weight': 10, 'gamma': 4.828503845042051, 'subsample': 0.8103133746352965}. Best is trial 0 with value: 0.98416209817719.\n",
      "C:\\Users\\AdminPC\\AppData\\Local\\Temp\\ipykernel_14804\\393785304.py:2: FutureWarning: suggest_uniform has been deprecated in v3.0.0. This feature will be removed in v6.0.0. See https://github.com/optuna/optuna/releases/tag/v3.0.0. Use suggest_float instead.\n",
      "  learning_rate = trial.suggest_uniform('learning_rate', 0.01, 1)\n",
      "C:\\Users\\AdminPC\\AppData\\Local\\Temp\\ipykernel_14804\\393785304.py:6: FutureWarning: suggest_uniform has been deprecated in v3.0.0. This feature will be removed in v6.0.0. See https://github.com/optuna/optuna/releases/tag/v3.0.0. Use suggest_float instead.\n",
      "  gamma = trial.suggest_uniform('gamma', 0.01, 5)\n",
      "C:\\Users\\AdminPC\\AppData\\Local\\Temp\\ipykernel_14804\\393785304.py:7: FutureWarning: suggest_uniform has been deprecated in v3.0.0. This feature will be removed in v6.0.0. See https://github.com/optuna/optuna/releases/tag/v3.0.0. Use suggest_float instead.\n",
      "  subsample = trial.suggest_uniform('subsample', 0.01, 1)\n"
     ]
    },
    {
     "name": "stderr",
     "output_type": "stream",
     "text": [
      "[I 2024-06-10 14:50:41,431] Trial 6 finished with value: 0.9820119377975184 and parameters: {'learning_rate': 0.31156763148163696, 'max_depth': 2, 'n_estimators': 153, 'min_child_weight': 5, 'gamma': 0.6189707918754463, 'subsample': 0.5002251410101575}. Best is trial 0 with value: 0.98416209817719.\n",
      "C:\\Users\\AdminPC\\AppData\\Local\\Temp\\ipykernel_14804\\393785304.py:2: FutureWarning: suggest_uniform has been deprecated in v3.0.0. This feature will be removed in v6.0.0. See https://github.com/optuna/optuna/releases/tag/v3.0.0. Use suggest_float instead.\n",
      "  learning_rate = trial.suggest_uniform('learning_rate', 0.01, 1)\n",
      "C:\\Users\\AdminPC\\AppData\\Local\\Temp\\ipykernel_14804\\393785304.py:6: FutureWarning: suggest_uniform has been deprecated in v3.0.0. This feature will be removed in v6.0.0. See https://github.com/optuna/optuna/releases/tag/v3.0.0. Use suggest_float instead.\n",
      "  gamma = trial.suggest_uniform('gamma', 0.01, 5)\n",
      "C:\\Users\\AdminPC\\AppData\\Local\\Temp\\ipykernel_14804\\393785304.py:7: FutureWarning: suggest_uniform has been deprecated in v3.0.0. This feature will be removed in v6.0.0. See https://github.com/optuna/optuna/releases/tag/v3.0.0. Use suggest_float instead.\n",
      "  subsample = trial.suggest_uniform('subsample', 0.01, 1)\n",
      "[I 2024-06-10 14:52:21,431] Trial 7 finished with value: 0.9822567500504868 and parameters: {'learning_rate': 0.044044635904066216, 'max_depth': 11, 'n_estimators': 89, 'min_child_weight': 7, 'gamma': 1.5654382696861608, 'subsample': 0.5248673409660327}. Best is trial 0 with value: 0.98416209817719.\n",
      "C:\\Users\\AdminPC\\AppData\\Local\\Temp\\ipykernel_14804\\393785304.py:2: FutureWarning: suggest_uniform has been deprecated in v3.0.0. This feature will be removed in v6.0.0. See https://github.com/optuna/optuna/releases/tag/v3.0.0. Use suggest_float instead.\n",
      "  learning_rate = trial.suggest_uniform('learning_rate', 0.01, 1)\n",
      "C:\\Users\\AdminPC\\AppData\\Local\\Temp\\ipykernel_14804\\393785304.py:6: FutureWarning: suggest_uniform has been deprecated in v3.0.0. This feature will be removed in v6.0.0. See https://github.com/optuna/optuna/releases/tag/v3.0.0. Use suggest_float instead.\n",
      "  gamma = trial.suggest_uniform('gamma', 0.01, 5)\n",
      "C:\\Users\\AdminPC\\AppData\\Local\\Temp\\ipykernel_14804\\393785304.py:7: FutureWarning: suggest_uniform has been deprecated in v3.0.0. This feature will be removed in v6.0.0. See https://github.com/optuna/optuna/releases/tag/v3.0.0. Use suggest_float instead.\n",
      "  subsample = trial.suggest_uniform('subsample', 0.01, 1)\n",
      "[I 2024-06-10 14:53:10,227] Trial 8 finished with value: 0.9819370446397645 and parameters: {'learning_rate': 0.5512431765498469, 'max_depth': 3, 'n_estimators': 196, 'min_child_weight': 8, 'gamma': 4.698099718405303, 'subsample': 0.8958790769233723}. Best is trial 0 with value: 0.98416209817719.\n",
      "C:\\Users\\AdminPC\\AppData\\Local\\Temp\\ipykernel_14804\\393785304.py:2: FutureWarning: suggest_uniform has been deprecated in v3.0.0. This feature will be removed in v6.0.0. See https://github.com/optuna/optuna/releases/tag/v3.0.0. Use suggest_float instead.\n",
      "  learning_rate = trial.suggest_uniform('learning_rate', 0.01, 1)\n",
      "C:\\Users\\AdminPC\\AppData\\Local\\Temp\\ipykernel_14804\\393785304.py:6: FutureWarning: suggest_uniform has been deprecated in v3.0.0. This feature will be removed in v6.0.0. See https://github.com/optuna/optuna/releases/tag/v3.0.0. Use suggest_float instead.\n",
      "  gamma = trial.suggest_uniform('gamma', 0.01, 5)\n",
      "C:\\Users\\AdminPC\\AppData\\Local\\Temp\\ipykernel_14804\\393785304.py:7: FutureWarning: suggest_uniform has been deprecated in v3.0.0. This feature will be removed in v6.0.0. See https://github.com/optuna/optuna/releases/tag/v3.0.0. Use suggest_float instead.\n",
      "  subsample = trial.suggest_uniform('subsample', 0.01, 1)\n",
      "[I 2024-06-10 14:54:13,514] Trial 9 finished with value: 0.9852540893124806 and parameters: {'learning_rate': 0.6019209790229743, 'max_depth': 11, 'n_estimators': 63, 'min_child_weight': 2, 'gamma': 0.23568417166358496, 'subsample': 0.3320770274556317}. Best is trial 9 with value: 0.9852540893124806.\n",
      "C:\\Users\\AdminPC\\AppData\\Local\\Temp\\ipykernel_14804\\393785304.py:2: FutureWarning: suggest_uniform has been deprecated in v3.0.0. This feature will be removed in v6.0.0. See https://github.com/optuna/optuna/releases/tag/v3.0.0. Use suggest_float instead.\n",
      "  learning_rate = trial.suggest_uniform('learning_rate', 0.01, 1)\n",
      "C:\\Users\\AdminPC\\AppData\\Local\\Temp\\ipykernel_14804\\393785304.py:6: FutureWarning: suggest_uniform has been deprecated in v3.0.0. This feature will be removed in v6.0.0. See https://github.com/optuna/optuna/releases/tag/v3.0.0. Use suggest_float instead.\n",
      "  gamma = trial.suggest_uniform('gamma', 0.01, 5)\n",
      "C:\\Users\\AdminPC\\AppData\\Local\\Temp\\ipykernel_14804\\393785304.py:7: FutureWarning: suggest_uniform has been deprecated in v3.0.0. This feature will be removed in v6.0.0. See https://github.com/optuna/optuna/releases/tag/v3.0.0. Use suggest_float instead.\n",
      "  subsample = trial.suggest_uniform('subsample', 0.01, 1)\n",
      "[I 2024-06-10 14:55:20,649] Trial 10 finished with value: 0.9829050192145873 and parameters: {'learning_rate': 0.9539314789771312, 'max_depth': 7, 'n_estimators': 105, 'min_child_weight': 1, 'gamma': 3.189089322284302, 'subsample': 0.2965664523014897}. Best is trial 9 with value: 0.9852540893124806.\n",
      "C:\\Users\\AdminPC\\AppData\\Local\\Temp\\ipykernel_14804\\393785304.py:2: FutureWarning: suggest_uniform has been deprecated in v3.0.0. This feature will be removed in v6.0.0. See https://github.com/optuna/optuna/releases/tag/v3.0.0. Use suggest_float instead.\n",
      "  learning_rate = trial.suggest_uniform('learning_rate', 0.01, 1)\n",
      "C:\\Users\\AdminPC\\AppData\\Local\\Temp\\ipykernel_14804\\393785304.py:6: FutureWarning: suggest_uniform has been deprecated in v3.0.0. This feature will be removed in v6.0.0. See https://github.com/optuna/optuna/releases/tag/v3.0.0. Use suggest_float instead.\n",
      "  gamma = trial.suggest_uniform('gamma', 0.01, 5)\n",
      "C:\\Users\\AdminPC\\AppData\\Local\\Temp\\ipykernel_14804\\393785304.py:7: FutureWarning: suggest_uniform has been deprecated in v3.0.0. This feature will be removed in v6.0.0. See https://github.com/optuna/optuna/releases/tag/v3.0.0. Use suggest_float instead.\n",
      "  subsample = trial.suggest_uniform('subsample', 0.01, 1)\n",
      "[I 2024-06-10 14:57:11,911] Trial 11 finished with value: 0.985077727829576 and parameters: {'learning_rate': 0.7319536286667712, 'max_depth': 8, 'n_estimators': 175, 'min_child_weight': 4, 'gamma': 0.057761450951975046, 'subsample': 0.04431054609471674}. Best is trial 9 with value: 0.9852540893124806.\n",
      "C:\\Users\\AdminPC\\AppData\\Local\\Temp\\ipykernel_14804\\393785304.py:2: FutureWarning: suggest_uniform has been deprecated in v3.0.0. This feature will be removed in v6.0.0. See https://github.com/optuna/optuna/releases/tag/v3.0.0. Use suggest_float instead.\n",
      "  learning_rate = trial.suggest_uniform('learning_rate', 0.01, 1)\n",
      "C:\\Users\\AdminPC\\AppData\\Local\\Temp\\ipykernel_14804\\393785304.py:6: FutureWarning: suggest_uniform has been deprecated in v3.0.0. This feature will be removed in v6.0.0. See https://github.com/optuna/optuna/releases/tag/v3.0.0. Use suggest_float instead.\n",
      "  gamma = trial.suggest_uniform('gamma', 0.01, 5)\n",
      "C:\\Users\\AdminPC\\AppData\\Local\\Temp\\ipykernel_14804\\393785304.py:7: FutureWarning: suggest_uniform has been deprecated in v3.0.0. This feature will be removed in v6.0.0. See https://github.com/optuna/optuna/releases/tag/v3.0.0. Use suggest_float instead.\n",
      "  subsample = trial.suggest_uniform('subsample', 0.01, 1)\n",
      "[I 2024-06-10 14:58:53,818] Trial 12 finished with value: 0.9850108876604875 and parameters: {'learning_rate': 0.7011735450713494, 'max_depth': 8, 'n_estimators': 192, 'min_child_weight': 4, 'gamma': 0.06395368794370834, 'subsample': 0.01519818732256183}. Best is trial 9 with value: 0.9852540893124806.\n",
      "C:\\Users\\AdminPC\\AppData\\Local\\Temp\\ipykernel_14804\\393785304.py:2: FutureWarning: suggest_uniform has been deprecated in v3.0.0. This feature will be removed in v6.0.0. See https://github.com/optuna/optuna/releases/tag/v3.0.0. Use suggest_float instead.\n",
      "  learning_rate = trial.suggest_uniform('learning_rate', 0.01, 1)\n",
      "C:\\Users\\AdminPC\\AppData\\Local\\Temp\\ipykernel_14804\\393785304.py:6: FutureWarning: suggest_uniform has been deprecated in v3.0.0. This feature will be removed in v6.0.0. See https://github.com/optuna/optuna/releases/tag/v3.0.0. Use suggest_float instead.\n",
      "  gamma = trial.suggest_uniform('gamma', 0.01, 5)\n",
      "C:\\Users\\AdminPC\\AppData\\Local\\Temp\\ipykernel_14804\\393785304.py:7: FutureWarning: suggest_uniform has been deprecated in v3.0.0. This feature will be removed in v6.0.0. See https://github.com/optuna/optuna/releases/tag/v3.0.0. Use suggest_float instead.\n",
      "  subsample = trial.suggest_uniform('subsample', 0.01, 1)\n"
     ]
    },
    {
     "name": "stderr",
     "output_type": "stream",
     "text": [
      "[I 2024-06-10 14:59:57,139] Trial 13 finished with value: 0.9828905237668961 and parameters: {'learning_rate': 0.7373709438079181, 'max_depth': 7, 'n_estimators': 117, 'min_child_weight': 3, 'gamma': 2.1401200965525535, 'subsample': 0.22466514443570168}. Best is trial 9 with value: 0.9852540893124806.\n",
      "C:\\Users\\AdminPC\\AppData\\Local\\Temp\\ipykernel_14804\\393785304.py:2: FutureWarning: suggest_uniform has been deprecated in v3.0.0. This feature will be removed in v6.0.0. See https://github.com/optuna/optuna/releases/tag/v3.0.0. Use suggest_float instead.\n",
      "  learning_rate = trial.suggest_uniform('learning_rate', 0.01, 1)\n",
      "C:\\Users\\AdminPC\\AppData\\Local\\Temp\\ipykernel_14804\\393785304.py:6: FutureWarning: suggest_uniform has been deprecated in v3.0.0. This feature will be removed in v6.0.0. See https://github.com/optuna/optuna/releases/tag/v3.0.0. Use suggest_float instead.\n",
      "  gamma = trial.suggest_uniform('gamma', 0.01, 5)\n",
      "C:\\Users\\AdminPC\\AppData\\Local\\Temp\\ipykernel_14804\\393785304.py:7: FutureWarning: suggest_uniform has been deprecated in v3.0.0. This feature will be removed in v6.0.0. See https://github.com/optuna/optuna/releases/tag/v3.0.0. Use suggest_float instead.\n",
      "  subsample = trial.suggest_uniform('subsample', 0.01, 1)\n",
      "[I 2024-06-10 15:01:41,857] Trial 14 finished with value: 0.9846162889590657 and parameters: {'learning_rate': 0.9758850456446434, 'max_depth': 9, 'n_estimators': 174, 'min_child_weight': 4, 'gamma': 0.8643074534032664, 'subsample': 0.6705731543738487}. Best is trial 9 with value: 0.9852540893124806.\n",
      "C:\\Users\\AdminPC\\AppData\\Local\\Temp\\ipykernel_14804\\393785304.py:2: FutureWarning: suggest_uniform has been deprecated in v3.0.0. This feature will be removed in v6.0.0. See https://github.com/optuna/optuna/releases/tag/v3.0.0. Use suggest_float instead.\n",
      "  learning_rate = trial.suggest_uniform('learning_rate', 0.01, 1)\n",
      "C:\\Users\\AdminPC\\AppData\\Local\\Temp\\ipykernel_14804\\393785304.py:6: FutureWarning: suggest_uniform has been deprecated in v3.0.0. This feature will be removed in v6.0.0. See https://github.com/optuna/optuna/releases/tag/v3.0.0. Use suggest_float instead.\n",
      "  gamma = trial.suggest_uniform('gamma', 0.01, 5)\n",
      "C:\\Users\\AdminPC\\AppData\\Local\\Temp\\ipykernel_14804\\393785304.py:7: FutureWarning: suggest_uniform has been deprecated in v3.0.0. This feature will be removed in v6.0.0. See https://github.com/optuna/optuna/releases/tag/v3.0.0. Use suggest_float instead.\n",
      "  subsample = trial.suggest_uniform('subsample', 0.01, 1)\n",
      "[I 2024-06-10 15:02:24,482] Trial 15 finished with value: 0.9820385128903357 and parameters: {'learning_rate': 0.8019233247986949, 'max_depth': 6, 'n_estimators': 53, 'min_child_weight': 1, 'gamma': 3.9919943967042957, 'subsample': 0.14124611759510236}. Best is trial 9 with value: 0.9852540893124806.\n",
      "C:\\Users\\AdminPC\\AppData\\Local\\Temp\\ipykernel_14804\\393785304.py:2: FutureWarning: suggest_uniform has been deprecated in v3.0.0. This feature will be removed in v6.0.0. See https://github.com/optuna/optuna/releases/tag/v3.0.0. Use suggest_float instead.\n",
      "  learning_rate = trial.suggest_uniform('learning_rate', 0.01, 1)\n",
      "C:\\Users\\AdminPC\\AppData\\Local\\Temp\\ipykernel_14804\\393785304.py:6: FutureWarning: suggest_uniform has been deprecated in v3.0.0. This feature will be removed in v6.0.0. See https://github.com/optuna/optuna/releases/tag/v3.0.0. Use suggest_float instead.\n",
      "  gamma = trial.suggest_uniform('gamma', 0.01, 5)\n",
      "C:\\Users\\AdminPC\\AppData\\Local\\Temp\\ipykernel_14804\\393785304.py:7: FutureWarning: suggest_uniform has been deprecated in v3.0.0. This feature will be removed in v6.0.0. See https://github.com/optuna/optuna/releases/tag/v3.0.0. Use suggest_float instead.\n",
      "  subsample = trial.suggest_uniform('subsample', 0.01, 1)\n",
      "[I 2024-06-10 15:03:13,411] Trial 16 finished with value: 0.9822454758663557 and parameters: {'learning_rate': 0.6302444866112352, 'max_depth': 6, 'n_estimators': 122, 'min_child_weight': 3, 'gamma': 2.3262496400585864, 'subsample': 0.3787360798586185}. Best is trial 9 with value: 0.9852540893124806.\n",
      "C:\\Users\\AdminPC\\AppData\\Local\\Temp\\ipykernel_14804\\393785304.py:2: FutureWarning: suggest_uniform has been deprecated in v3.0.0. This feature will be removed in v6.0.0. See https://github.com/optuna/optuna/releases/tag/v3.0.0. Use suggest_float instead.\n",
      "  learning_rate = trial.suggest_uniform('learning_rate', 0.01, 1)\n",
      "C:\\Users\\AdminPC\\AppData\\Local\\Temp\\ipykernel_14804\\393785304.py:6: FutureWarning: suggest_uniform has been deprecated in v3.0.0. This feature will be removed in v6.0.0. See https://github.com/optuna/optuna/releases/tag/v3.0.0. Use suggest_float instead.\n",
      "  gamma = trial.suggest_uniform('gamma', 0.01, 5)\n",
      "C:\\Users\\AdminPC\\AppData\\Local\\Temp\\ipykernel_14804\\393785304.py:7: FutureWarning: suggest_uniform has been deprecated in v3.0.0. This feature will be removed in v6.0.0. See https://github.com/optuna/optuna/releases/tag/v3.0.0. Use suggest_float instead.\n",
      "  subsample = trial.suggest_uniform('subsample', 0.01, 1)\n",
      "[I 2024-06-10 15:04:48,211] Trial 17 finished with value: 0.9835226869504237 and parameters: {'learning_rate': 0.23062559877023314, 'max_depth': 9, 'n_estimators': 173, 'min_child_weight': 4, 'gamma': 0.4301391749873891, 'subsample': 0.29503020647041356}. Best is trial 9 with value: 0.9852540893124806.\n",
      "C:\\Users\\AdminPC\\AppData\\Local\\Temp\\ipykernel_14804\\393785304.py:2: FutureWarning: suggest_uniform has been deprecated in v3.0.0. This feature will be removed in v6.0.0. See https://github.com/optuna/optuna/releases/tag/v3.0.0. Use suggest_float instead.\n",
      "  learning_rate = trial.suggest_uniform('learning_rate', 0.01, 1)\n",
      "C:\\Users\\AdminPC\\AppData\\Local\\Temp\\ipykernel_14804\\393785304.py:6: FutureWarning: suggest_uniform has been deprecated in v3.0.0. This feature will be removed in v6.0.0. See https://github.com/optuna/optuna/releases/tag/v3.0.0. Use suggest_float instead.\n",
      "  gamma = trial.suggest_uniform('gamma', 0.01, 5)\n",
      "C:\\Users\\AdminPC\\AppData\\Local\\Temp\\ipykernel_14804\\393785304.py:7: FutureWarning: suggest_uniform has been deprecated in v3.0.0. This feature will be removed in v6.0.0. See https://github.com/optuna/optuna/releases/tag/v3.0.0. Use suggest_float instead.\n",
      "  subsample = trial.suggest_uniform('subsample', 0.01, 1)\n",
      "[I 2024-06-10 15:06:00,808] Trial 18 finished with value: 0.9847113146014527 and parameters: {'learning_rate': 0.8747147885838304, 'max_depth': 10, 'n_estimators': 100, 'min_child_weight': 2, 'gamma': 1.3062963607220386, 'subsample': 0.10600903474934434}. Best is trial 9 with value: 0.9852540893124806.\n",
      "C:\\Users\\AdminPC\\AppData\\Local\\Temp\\ipykernel_14804\\393785304.py:2: FutureWarning: suggest_uniform has been deprecated in v3.0.0. This feature will be removed in v6.0.0. See https://github.com/optuna/optuna/releases/tag/v3.0.0. Use suggest_float instead.\n",
      "  learning_rate = trial.suggest_uniform('learning_rate', 0.01, 1)\n",
      "C:\\Users\\AdminPC\\AppData\\Local\\Temp\\ipykernel_14804\\393785304.py:6: FutureWarning: suggest_uniform has been deprecated in v3.0.0. This feature will be removed in v6.0.0. See https://github.com/optuna/optuna/releases/tag/v3.0.0. Use suggest_float instead.\n",
      "  gamma = trial.suggest_uniform('gamma', 0.01, 5)\n",
      "C:\\Users\\AdminPC\\AppData\\Local\\Temp\\ipykernel_14804\\393785304.py:7: FutureWarning: suggest_uniform has been deprecated in v3.0.0. This feature will be removed in v6.0.0. See https://github.com/optuna/optuna/releases/tag/v3.0.0. Use suggest_float instead.\n",
      "  subsample = trial.suggest_uniform('subsample', 0.01, 1)\n",
      "[I 2024-06-10 15:07:28,452] Trial 19 finished with value: 0.9838923211405479 and parameters: {'learning_rate': 0.5489060803169707, 'max_depth': 8, 'n_estimators': 135, 'min_child_weight': 5, 'gamma': 0.02457001453357764, 'subsample': 0.4343915310778943}. Best is trial 9 with value: 0.9852540893124806.\n",
      "C:\\Users\\AdminPC\\AppData\\Local\\Temp\\ipykernel_14804\\393785304.py:2: FutureWarning: suggest_uniform has been deprecated in v3.0.0. This feature will be removed in v6.0.0. See https://github.com/optuna/optuna/releases/tag/v3.0.0. Use suggest_float instead.\n",
      "  learning_rate = trial.suggest_uniform('learning_rate', 0.01, 1)\n",
      "C:\\Users\\AdminPC\\AppData\\Local\\Temp\\ipykernel_14804\\393785304.py:6: FutureWarning: suggest_uniform has been deprecated in v3.0.0. This feature will be removed in v6.0.0. See https://github.com/optuna/optuna/releases/tag/v3.0.0. Use suggest_float instead.\n",
      "  gamma = trial.suggest_uniform('gamma', 0.01, 5)\n",
      "C:\\Users\\AdminPC\\AppData\\Local\\Temp\\ipykernel_14804\\393785304.py:7: FutureWarning: suggest_uniform has been deprecated in v3.0.0. This feature will be removed in v6.0.0. See https://github.com/optuna/optuna/releases/tag/v3.0.0. Use suggest_float instead.\n",
      "  subsample = trial.suggest_uniform('subsample', 0.01, 1)\n"
     ]
    },
    {
     "name": "stderr",
     "output_type": "stream",
     "text": [
      "[I 2024-06-10 15:08:37,397] Trial 20 finished with value: 0.9823115107819739 and parameters: {'learning_rate': 0.7153561465489235, 'max_depth': 5, 'n_estimators': 176, 'min_child_weight': 3, 'gamma': 1.1195083209366277, 'subsample': 0.6473831646229633}. Best is trial 9 with value: 0.9852540893124806.\n",
      "C:\\Users\\AdminPC\\AppData\\Local\\Temp\\ipykernel_14804\\393785304.py:2: FutureWarning: suggest_uniform has been deprecated in v3.0.0. This feature will be removed in v6.0.0. See https://github.com/optuna/optuna/releases/tag/v3.0.0. Use suggest_float instead.\n",
      "  learning_rate = trial.suggest_uniform('learning_rate', 0.01, 1)\n",
      "C:\\Users\\AdminPC\\AppData\\Local\\Temp\\ipykernel_14804\\393785304.py:6: FutureWarning: suggest_uniform has been deprecated in v3.0.0. This feature will be removed in v6.0.0. See https://github.com/optuna/optuna/releases/tag/v3.0.0. Use suggest_float instead.\n",
      "  gamma = trial.suggest_uniform('gamma', 0.01, 5)\n",
      "C:\\Users\\AdminPC\\AppData\\Local\\Temp\\ipykernel_14804\\393785304.py:7: FutureWarning: suggest_uniform has been deprecated in v3.0.0. This feature will be removed in v6.0.0. See https://github.com/optuna/optuna/releases/tag/v3.0.0. Use suggest_float instead.\n",
      "  subsample = trial.suggest_uniform('subsample', 0.01, 1)\n",
      "[I 2024-06-10 15:10:19,603] Trial 21 finished with value: 0.9850640377099344 and parameters: {'learning_rate': 0.6848718621582176, 'max_depth': 8, 'n_estimators': 200, 'min_child_weight': 4, 'gamma': 0.33073779082807697, 'subsample': 0.02351895403947442}. Best is trial 9 with value: 0.9852540893124806.\n",
      "C:\\Users\\AdminPC\\AppData\\Local\\Temp\\ipykernel_14804\\393785304.py:2: FutureWarning: suggest_uniform has been deprecated in v3.0.0. This feature will be removed in v6.0.0. See https://github.com/optuna/optuna/releases/tag/v3.0.0. Use suggest_float instead.\n",
      "  learning_rate = trial.suggest_uniform('learning_rate', 0.01, 1)\n",
      "C:\\Users\\AdminPC\\AppData\\Local\\Temp\\ipykernel_14804\\393785304.py:6: FutureWarning: suggest_uniform has been deprecated in v3.0.0. This feature will be removed in v6.0.0. See https://github.com/optuna/optuna/releases/tag/v3.0.0. Use suggest_float instead.\n",
      "  gamma = trial.suggest_uniform('gamma', 0.01, 5)\n",
      "C:\\Users\\AdminPC\\AppData\\Local\\Temp\\ipykernel_14804\\393785304.py:7: FutureWarning: suggest_uniform has been deprecated in v3.0.0. This feature will be removed in v6.0.0. See https://github.com/optuna/optuna/releases/tag/v3.0.0. Use suggest_float instead.\n",
      "  subsample = trial.suggest_uniform('subsample', 0.01, 1)\n",
      "[I 2024-06-10 15:12:14,436] Trial 22 finished with value: 0.984794261107797 and parameters: {'learning_rate': 0.6420247770988984, 'max_depth': 8, 'n_estimators': 199, 'min_child_weight': 4, 'gamma': 0.5247542680131998, 'subsample': 0.2159217543433602}. Best is trial 9 with value: 0.9852540893124806.\n",
      "C:\\Users\\AdminPC\\AppData\\Local\\Temp\\ipykernel_14804\\393785304.py:2: FutureWarning: suggest_uniform has been deprecated in v3.0.0. This feature will be removed in v6.0.0. See https://github.com/optuna/optuna/releases/tag/v3.0.0. Use suggest_float instead.\n",
      "  learning_rate = trial.suggest_uniform('learning_rate', 0.01, 1)\n",
      "C:\\Users\\AdminPC\\AppData\\Local\\Temp\\ipykernel_14804\\393785304.py:6: FutureWarning: suggest_uniform has been deprecated in v3.0.0. This feature will be removed in v6.0.0. See https://github.com/optuna/optuna/releases/tag/v3.0.0. Use suggest_float instead.\n",
      "  gamma = trial.suggest_uniform('gamma', 0.01, 5)\n",
      "C:\\Users\\AdminPC\\AppData\\Local\\Temp\\ipykernel_14804\\393785304.py:7: FutureWarning: suggest_uniform has been deprecated in v3.0.0. This feature will be removed in v6.0.0. See https://github.com/optuna/optuna/releases/tag/v3.0.0. Use suggest_float instead.\n",
      "  subsample = trial.suggest_uniform('subsample', 0.01, 1)\n",
      "[I 2024-06-10 15:13:30,288] Trial 23 finished with value: 0.9842136375445973 and parameters: {'learning_rate': 0.7817678804890246, 'max_depth': 10, 'n_estimators': 183, 'min_child_weight': 3, 'gamma': 1.9035082052849548, 'subsample': 0.07014711640680865}. Best is trial 9 with value: 0.9852540893124806.\n",
      "C:\\Users\\AdminPC\\AppData\\Local\\Temp\\ipykernel_14804\\393785304.py:2: FutureWarning: suggest_uniform has been deprecated in v3.0.0. This feature will be removed in v6.0.0. See https://github.com/optuna/optuna/releases/tag/v3.0.0. Use suggest_float instead.\n",
      "  learning_rate = trial.suggest_uniform('learning_rate', 0.01, 1)\n",
      "C:\\Users\\AdminPC\\AppData\\Local\\Temp\\ipykernel_14804\\393785304.py:6: FutureWarning: suggest_uniform has been deprecated in v3.0.0. This feature will be removed in v6.0.0. See https://github.com/optuna/optuna/releases/tag/v3.0.0. Use suggest_float instead.\n",
      "  gamma = trial.suggest_uniform('gamma', 0.01, 5)\n",
      "C:\\Users\\AdminPC\\AppData\\Local\\Temp\\ipykernel_14804\\393785304.py:7: FutureWarning: suggest_uniform has been deprecated in v3.0.0. This feature will be removed in v6.0.0. See https://github.com/optuna/optuna/releases/tag/v3.0.0. Use suggest_float instead.\n",
      "  subsample = trial.suggest_uniform('subsample', 0.01, 1)\n",
      "[I 2024-06-10 15:14:49,326] Trial 24 finished with value: 0.9836644202513256 and parameters: {'learning_rate': 0.8798555574394519, 'max_depth': 7, 'n_estimators': 165, 'min_child_weight': 5, 'gamma': 0.9625042455398868, 'subsample': 0.2601928255006151}. Best is trial 9 with value: 0.9852540893124806.\n",
      "C:\\Users\\AdminPC\\AppData\\Local\\Temp\\ipykernel_14804\\393785304.py:2: FutureWarning: suggest_uniform has been deprecated in v3.0.0. This feature will be removed in v6.0.0. See https://github.com/optuna/optuna/releases/tag/v3.0.0. Use suggest_float instead.\n",
      "  learning_rate = trial.suggest_uniform('learning_rate', 0.01, 1)\n",
      "C:\\Users\\AdminPC\\AppData\\Local\\Temp\\ipykernel_14804\\393785304.py:6: FutureWarning: suggest_uniform has been deprecated in v3.0.0. This feature will be removed in v6.0.0. See https://github.com/optuna/optuna/releases/tag/v3.0.0. Use suggest_float instead.\n",
      "  gamma = trial.suggest_uniform('gamma', 0.01, 5)\n",
      "C:\\Users\\AdminPC\\AppData\\Local\\Temp\\ipykernel_14804\\393785304.py:7: FutureWarning: suggest_uniform has been deprecated in v3.0.0. This feature will be removed in v6.0.0. See https://github.com/optuna/optuna/releases/tag/v3.0.0. Use suggest_float instead.\n",
      "  subsample = trial.suggest_uniform('subsample', 0.01, 1)\n",
      "[I 2024-06-10 15:16:32,716] Trial 25 finished with value: 0.9857090852473069 and parameters: {'learning_rate': 0.554709989725495, 'max_depth': 11, 'n_estimators': 189, 'min_child_weight': 2, 'gamma': 0.430871760151312, 'subsample': 0.13225635058741714}. Best is trial 25 with value: 0.9857090852473069.\n",
      "C:\\Users\\AdminPC\\AppData\\Local\\Temp\\ipykernel_14804\\393785304.py:2: FutureWarning: suggest_uniform has been deprecated in v3.0.0. This feature will be removed in v6.0.0. See https://github.com/optuna/optuna/releases/tag/v3.0.0. Use suggest_float instead.\n",
      "  learning_rate = trial.suggest_uniform('learning_rate', 0.01, 1)\n",
      "C:\\Users\\AdminPC\\AppData\\Local\\Temp\\ipykernel_14804\\393785304.py:6: FutureWarning: suggest_uniform has been deprecated in v3.0.0. This feature will be removed in v6.0.0. See https://github.com/optuna/optuna/releases/tag/v3.0.0. Use suggest_float instead.\n",
      "  gamma = trial.suggest_uniform('gamma', 0.01, 5)\n",
      "C:\\Users\\AdminPC\\AppData\\Local\\Temp\\ipykernel_14804\\393785304.py:7: FutureWarning: suggest_uniform has been deprecated in v3.0.0. This feature will be removed in v6.0.0. See https://github.com/optuna/optuna/releases/tag/v3.0.0. Use suggest_float instead.\n",
      "  subsample = trial.suggest_uniform('subsample', 0.01, 1)\n",
      "[I 2024-06-10 15:17:46,607] Trial 26 finished with value: 0.9853845484130384 and parameters: {'learning_rate': 0.529770146088901, 'max_depth': 11, 'n_estimators': 67, 'min_child_weight': 1, 'gamma': 0.47432803046091054, 'subsample': 0.14972463718678433}. Best is trial 25 with value: 0.9857090852473069.\n",
      "C:\\Users\\AdminPC\\AppData\\Local\\Temp\\ipykernel_14804\\393785304.py:2: FutureWarning: suggest_uniform has been deprecated in v3.0.0. This feature will be removed in v6.0.0. See https://github.com/optuna/optuna/releases/tag/v3.0.0. Use suggest_float instead.\n",
      "  learning_rate = trial.suggest_uniform('learning_rate', 0.01, 1)\n",
      "C:\\Users\\AdminPC\\AppData\\Local\\Temp\\ipykernel_14804\\393785304.py:6: FutureWarning: suggest_uniform has been deprecated in v3.0.0. This feature will be removed in v6.0.0. See https://github.com/optuna/optuna/releases/tag/v3.0.0. Use suggest_float instead.\n",
      "  gamma = trial.suggest_uniform('gamma', 0.01, 5)\n",
      "C:\\Users\\AdminPC\\AppData\\Local\\Temp\\ipykernel_14804\\393785304.py:7: FutureWarning: suggest_uniform has been deprecated in v3.0.0. This feature will be removed in v6.0.0. See https://github.com/optuna/optuna/releases/tag/v3.0.0. Use suggest_float instead.\n",
      "  subsample = trial.suggest_uniform('subsample', 0.01, 1)\n"
     ]
    },
    {
     "name": "stderr",
     "output_type": "stream",
     "text": [
      "[I 2024-06-10 15:18:38,838] Trial 27 finished with value: 0.9841717613485391 and parameters: {'learning_rate': 0.5198181672394189, 'max_depth': 11, 'n_estimators': 75, 'min_child_weight': 1, 'gamma': 1.8860414736181843, 'subsample': 0.1796566021007477}. Best is trial 25 with value: 0.9857090852473069.\n",
      "C:\\Users\\AdminPC\\AppData\\Local\\Temp\\ipykernel_14804\\393785304.py:2: FutureWarning: suggest_uniform has been deprecated in v3.0.0. This feature will be removed in v6.0.0. See https://github.com/optuna/optuna/releases/tag/v3.0.0. Use suggest_float instead.\n",
      "  learning_rate = trial.suggest_uniform('learning_rate', 0.01, 1)\n",
      "C:\\Users\\AdminPC\\AppData\\Local\\Temp\\ipykernel_14804\\393785304.py:6: FutureWarning: suggest_uniform has been deprecated in v3.0.0. This feature will be removed in v6.0.0. See https://github.com/optuna/optuna/releases/tag/v3.0.0. Use suggest_float instead.\n",
      "  gamma = trial.suggest_uniform('gamma', 0.01, 5)\n",
      "C:\\Users\\AdminPC\\AppData\\Local\\Temp\\ipykernel_14804\\393785304.py:7: FutureWarning: suggest_uniform has been deprecated in v3.0.0. This feature will be removed in v6.0.0. See https://github.com/optuna/optuna/releases/tag/v3.0.0. Use suggest_float instead.\n",
      "  subsample = trial.suggest_uniform('subsample', 0.01, 1)\n",
      "[I 2024-06-10 15:19:32,074] Trial 28 finished with value: 0.9839656039891576 and parameters: {'learning_rate': 0.33909239727080287, 'max_depth': 11, 'n_estimators': 64, 'min_child_weight': 2, 'gamma': 1.1625051092266454, 'subsample': 0.34766897036296085}. Best is trial 25 with value: 0.9857090852473069.\n",
      "C:\\Users\\AdminPC\\AppData\\Local\\Temp\\ipykernel_14804\\393785304.py:2: FutureWarning: suggest_uniform has been deprecated in v3.0.0. This feature will be removed in v6.0.0. See https://github.com/optuna/optuna/releases/tag/v3.0.0. Use suggest_float instead.\n",
      "  learning_rate = trial.suggest_uniform('learning_rate', 0.01, 1)\n",
      "C:\\Users\\AdminPC\\AppData\\Local\\Temp\\ipykernel_14804\\393785304.py:6: FutureWarning: suggest_uniform has been deprecated in v3.0.0. This feature will be removed in v6.0.0. See https://github.com/optuna/optuna/releases/tag/v3.0.0. Use suggest_float instead.\n",
      "  gamma = trial.suggest_uniform('gamma', 0.01, 5)\n",
      "C:\\Users\\AdminPC\\AppData\\Local\\Temp\\ipykernel_14804\\393785304.py:7: FutureWarning: suggest_uniform has been deprecated in v3.0.0. This feature will be removed in v6.0.0. See https://github.com/optuna/optuna/releases/tag/v3.0.0. Use suggest_float instead.\n",
      "  subsample = trial.suggest_uniform('subsample', 0.01, 1)\n",
      "[I 2024-06-10 15:20:45,443] Trial 29 finished with value: 0.9847072881849417 and parameters: {'learning_rate': 0.4018106756597907, 'max_depth': 11, 'n_estimators': 98, 'min_child_weight': 1, 'gamma': 0.6990503044130277, 'subsample': 0.1563970798595357}. Best is trial 25 with value: 0.9857090852473069.\n"
     ]
    },
    {
     "data": {
      "text/plain": [
       "{'learning_rate': 0.554709989725495,\n",
       " 'max_depth': 11,\n",
       " 'n_estimators': 189,\n",
       " 'min_child_weight': 2,\n",
       " 'gamma': 0.430871760151312,\n",
       " 'subsample': 0.13225635058741714}"
      ]
     },
     "execution_count": 13,
     "metadata": {},
     "output_type": "execute_result"
    }
   ],
   "source": [
    "study = optuna.create_study(direction='maximize',sampler=optuna.samplers.TPESampler(seed=42))\n",
    "study.optimize(objective, n_trials=30)\n",
    "study.best_params"
   ]
  },
  {
   "cell_type": "code",
   "execution_count": 14,
   "id": "22404c40",
   "metadata": {
    "execution": {
     "iopub.execute_input": "2023-03-20T12:00:46.115519Z",
     "iopub.status.busy": "2023-03-20T12:00:46.114739Z",
     "iopub.status.idle": "2023-03-20T12:00:46.123264Z",
     "shell.execute_reply": "2023-03-20T12:00:46.121755Z"
    },
    "papermill": {
     "duration": 0.022832,
     "end_time": "2023-03-20T12:00:46.126177",
     "exception": false,
     "start_time": "2023-03-20T12:00:46.103345",
     "status": "completed"
    },
    "tags": []
   },
   "outputs": [],
   "source": [
    "xgbc = XGBClassifier(learning_rate= list(study.best_params.values())[0],\n",
    " max_depth= list(study.best_params.values())[1],\n",
    " n_estimators= list(study.best_params.values())[2],\n",
    " min_child_weight= list(study.best_params.values())[3],\n",
    " gamma= list(study.best_params.values())[4],\n",
    " subsample= list(study.best_params.values())[5]\n",
    "                     )"
   ]
  },
  {
   "cell_type": "code",
   "execution_count": 15,
   "id": "c17700e4",
   "metadata": {
    "execution": {
     "iopub.execute_input": "2023-03-20T12:00:46.149140Z",
     "iopub.status.busy": "2023-03-20T12:00:46.148696Z",
     "iopub.status.idle": "2023-03-20T12:00:46.154436Z",
     "shell.execute_reply": "2023-03-20T12:00:46.152898Z"
    },
    "papermill": {
     "duration": 0.020272,
     "end_time": "2023-03-20T12:00:46.157342",
     "exception": false,
     "start_time": "2023-03-20T12:00:46.137070",
     "status": "completed"
    },
    "tags": []
   },
   "outputs": [],
   "source": [
    "from sklearn.metrics import classification_report"
   ]
  },
  {
   "cell_type": "code",
   "execution_count": 16,
   "id": "8830c35d",
   "metadata": {
    "execution": {
     "iopub.execute_input": "2023-03-20T12:00:46.179753Z",
     "iopub.status.busy": "2023-03-20T12:00:46.178880Z",
     "iopub.status.idle": "2023-03-20T12:00:46.390925Z",
     "shell.execute_reply": "2023-03-20T12:00:46.389633Z"
    },
    "papermill": {
     "duration": 0.226896,
     "end_time": "2023-03-20T12:00:46.393879",
     "exception": false,
     "start_time": "2023-03-20T12:00:46.166983",
     "status": "completed"
    },
    "tags": []
   },
   "outputs": [
    {
     "data": {
      "text/html": [
       "<style>#sk-container-id-1 {color: black;}#sk-container-id-1 pre{padding: 0;}#sk-container-id-1 div.sk-toggleable {background-color: white;}#sk-container-id-1 label.sk-toggleable__label {cursor: pointer;display: block;width: 100%;margin-bottom: 0;padding: 0.3em;box-sizing: border-box;text-align: center;}#sk-container-id-1 label.sk-toggleable__label-arrow:before {content: \"▸\";float: left;margin-right: 0.25em;color: #696969;}#sk-container-id-1 label.sk-toggleable__label-arrow:hover:before {color: black;}#sk-container-id-1 div.sk-estimator:hover label.sk-toggleable__label-arrow:before {color: black;}#sk-container-id-1 div.sk-toggleable__content {max-height: 0;max-width: 0;overflow: hidden;text-align: left;background-color: #f0f8ff;}#sk-container-id-1 div.sk-toggleable__content pre {margin: 0.2em;color: black;border-radius: 0.25em;background-color: #f0f8ff;}#sk-container-id-1 input.sk-toggleable__control:checked~div.sk-toggleable__content {max-height: 200px;max-width: 100%;overflow: auto;}#sk-container-id-1 input.sk-toggleable__control:checked~label.sk-toggleable__label-arrow:before {content: \"▾\";}#sk-container-id-1 div.sk-estimator input.sk-toggleable__control:checked~label.sk-toggleable__label {background-color: #d4ebff;}#sk-container-id-1 div.sk-label input.sk-toggleable__control:checked~label.sk-toggleable__label {background-color: #d4ebff;}#sk-container-id-1 input.sk-hidden--visually {border: 0;clip: rect(1px 1px 1px 1px);clip: rect(1px, 1px, 1px, 1px);height: 1px;margin: -1px;overflow: hidden;padding: 0;position: absolute;width: 1px;}#sk-container-id-1 div.sk-estimator {font-family: monospace;background-color: #f0f8ff;border: 1px dotted black;border-radius: 0.25em;box-sizing: border-box;margin-bottom: 0.5em;}#sk-container-id-1 div.sk-estimator:hover {background-color: #d4ebff;}#sk-container-id-1 div.sk-parallel-item::after {content: \"\";width: 100%;border-bottom: 1px solid gray;flex-grow: 1;}#sk-container-id-1 div.sk-label:hover label.sk-toggleable__label {background-color: #d4ebff;}#sk-container-id-1 div.sk-serial::before {content: \"\";position: absolute;border-left: 1px solid gray;box-sizing: border-box;top: 0;bottom: 0;left: 50%;z-index: 0;}#sk-container-id-1 div.sk-serial {display: flex;flex-direction: column;align-items: center;background-color: white;padding-right: 0.2em;padding-left: 0.2em;position: relative;}#sk-container-id-1 div.sk-item {position: relative;z-index: 1;}#sk-container-id-1 div.sk-parallel {display: flex;align-items: stretch;justify-content: center;background-color: white;position: relative;}#sk-container-id-1 div.sk-item::before, #sk-container-id-1 div.sk-parallel-item::before {content: \"\";position: absolute;border-left: 1px solid gray;box-sizing: border-box;top: 0;bottom: 0;left: 50%;z-index: -1;}#sk-container-id-1 div.sk-parallel-item {display: flex;flex-direction: column;z-index: 1;position: relative;background-color: white;}#sk-container-id-1 div.sk-parallel-item:first-child::after {align-self: flex-end;width: 50%;}#sk-container-id-1 div.sk-parallel-item:last-child::after {align-self: flex-start;width: 50%;}#sk-container-id-1 div.sk-parallel-item:only-child::after {width: 0;}#sk-container-id-1 div.sk-dashed-wrapped {border: 1px dashed gray;margin: 0 0.4em 0.5em 0.4em;box-sizing: border-box;padding-bottom: 0.4em;background-color: white;}#sk-container-id-1 div.sk-label label {font-family: monospace;font-weight: bold;display: inline-block;line-height: 1.2em;}#sk-container-id-1 div.sk-label-container {text-align: center;}#sk-container-id-1 div.sk-container {/* jupyter's `normalize.less` sets `[hidden] { display: none; }` but bootstrap.min.css set `[hidden] { display: none !important; }` so we also need the `!important` here to be able to override the default hidden behavior on the sphinx rendered scikit-learn.org. See: https://github.com/scikit-learn/scikit-learn/issues/21755 */display: inline-block !important;position: relative;}#sk-container-id-1 div.sk-text-repr-fallback {display: none;}</style><div id=\"sk-container-id-1\" class=\"sk-top-container\"><div class=\"sk-text-repr-fallback\"><pre>XGBClassifier(base_score=None, booster=None, callbacks=None,\n",
       "              colsample_bylevel=None, colsample_bynode=None,\n",
       "              colsample_bytree=None, device=None, early_stopping_rounds=None,\n",
       "              enable_categorical=False, eval_metric=None, feature_types=None,\n",
       "              gamma=0.430871760151312, grow_policy=None, importance_type=None,\n",
       "              interaction_constraints=None, learning_rate=0.554709989725495,\n",
       "              max_bin=None, max_cat_threshold=None, max_cat_to_onehot=None,\n",
       "              max_delta_step=None, max_depth=11, max_leaves=None,\n",
       "              min_child_weight=2, missing=nan, monotone_constraints=None,\n",
       "              multi_strategy=None, n_estimators=189, n_jobs=None,\n",
       "              num_parallel_tree=None, random_state=None, ...)</pre><b>In a Jupyter environment, please rerun this cell to show the HTML representation or trust the notebook. <br />On GitHub, the HTML representation is unable to render, please try loading this page with nbviewer.org.</b></div><div class=\"sk-container\" hidden><div class=\"sk-item\"><div class=\"sk-estimator sk-toggleable\"><input class=\"sk-toggleable__control sk-hidden--visually\" id=\"sk-estimator-id-1\" type=\"checkbox\" checked><label for=\"sk-estimator-id-1\" class=\"sk-toggleable__label sk-toggleable__label-arrow\">XGBClassifier</label><div class=\"sk-toggleable__content\"><pre>XGBClassifier(base_score=None, booster=None, callbacks=None,\n",
       "              colsample_bylevel=None, colsample_bynode=None,\n",
       "              colsample_bytree=None, device=None, early_stopping_rounds=None,\n",
       "              enable_categorical=False, eval_metric=None, feature_types=None,\n",
       "              gamma=0.430871760151312, grow_policy=None, importance_type=None,\n",
       "              interaction_constraints=None, learning_rate=0.554709989725495,\n",
       "              max_bin=None, max_cat_threshold=None, max_cat_to_onehot=None,\n",
       "              max_delta_step=None, max_depth=11, max_leaves=None,\n",
       "              min_child_weight=2, missing=nan, monotone_constraints=None,\n",
       "              multi_strategy=None, n_estimators=189, n_jobs=None,\n",
       "              num_parallel_tree=None, random_state=None, ...)</pre></div></div></div></div></div>"
      ],
      "text/plain": [
       "XGBClassifier(base_score=None, booster=None, callbacks=None,\n",
       "              colsample_bylevel=None, colsample_bynode=None,\n",
       "              colsample_bytree=None, device=None, early_stopping_rounds=None,\n",
       "              enable_categorical=False, eval_metric=None, feature_types=None,\n",
       "              gamma=0.430871760151312, grow_policy=None, importance_type=None,\n",
       "              interaction_constraints=None, learning_rate=0.554709989725495,\n",
       "              max_bin=None, max_cat_threshold=None, max_cat_to_onehot=None,\n",
       "              max_delta_step=None, max_depth=11, max_leaves=None,\n",
       "              min_child_weight=2, missing=nan, monotone_constraints=None,\n",
       "              multi_strategy=None, n_estimators=189, n_jobs=None,\n",
       "              num_parallel_tree=None, random_state=None, ...)"
      ]
     },
     "execution_count": 16,
     "metadata": {},
     "output_type": "execute_result"
    }
   ],
   "source": [
    "xgbc.fit(X_train, y_train)"
   ]
  },
  {
   "cell_type": "code",
   "execution_count": 17,
   "id": "1c411e7d",
   "metadata": {
    "execution": {
     "iopub.execute_input": "2023-03-20T12:00:46.417274Z",
     "iopub.status.busy": "2023-03-20T12:00:46.416039Z",
     "iopub.status.idle": "2023-03-20T12:00:46.428772Z",
     "shell.execute_reply": "2023-03-20T12:00:46.427685Z"
    },
    "papermill": {
     "duration": 0.028019,
     "end_time": "2023-03-20T12:00:46.432127",
     "exception": false,
     "start_time": "2023-03-20T12:00:46.404108",
     "status": "completed"
    },
    "tags": []
   },
   "outputs": [],
   "source": [
    "y_predicted = xgbc.predict(X_test)"
   ]
  },
  {
   "cell_type": "code",
   "execution_count": 18,
   "id": "2bde74a0",
   "metadata": {
    "execution": {
     "iopub.execute_input": "2023-03-20T12:00:46.455964Z",
     "iopub.status.busy": "2023-03-20T12:00:46.455540Z",
     "iopub.status.idle": "2023-03-20T12:00:46.468664Z",
     "shell.execute_reply": "2023-03-20T12:00:46.467031Z"
    },
    "papermill": {
     "duration": 0.028191,
     "end_time": "2023-03-20T12:00:46.472608",
     "exception": false,
     "start_time": "2023-03-20T12:00:46.444417",
     "status": "completed"
    },
    "tags": []
   },
   "outputs": [
    {
     "name": "stdout",
     "output_type": "stream",
     "text": [
      "              precision    recall  f1-score   support\n",
      "\n",
      "           0       0.98      0.99      0.99    304859\n",
      "           1       0.21      0.14      0.17      5583\n",
      "\n",
      "    accuracy                           0.98    310442\n",
      "   macro avg       0.60      0.56      0.58    310442\n",
      "weighted avg       0.97      0.98      0.97    310442\n",
      "\n"
     ]
    }
   ],
   "source": [
    "print(classification_report(y_test, y_predicted))"
   ]
  },
  {
   "cell_type": "markdown",
   "id": "b266dac0",
   "metadata": {
    "papermill": {
     "duration": 0.009984,
     "end_time": "2023-03-20T12:00:46.493319",
     "exception": false,
     "start_time": "2023-03-20T12:00:46.483335",
     "status": "completed"
    },
    "tags": []
   },
   "source": [
    "**I also tried using standardization and SMOTE, but the ACCURACY was low. I wonder why?**"
   ]
  },
  {
   "cell_type": "code",
   "execution_count": null,
   "id": "53cf4743",
   "metadata": {
    "papermill": {
     "duration": 0.009799,
     "end_time": "2023-03-20T12:00:46.513552",
     "exception": false,
     "start_time": "2023-03-20T12:00:46.503753",
     "status": "completed"
    },
    "tags": []
   },
   "outputs": [],
   "source": []
  }
 ],
 "metadata": {
  "kernelspec": {
   "display_name": "Python 3 (ipykernel)",
   "language": "python",
   "name": "python3"
  },
  "language_info": {
   "codemirror_mode": {
    "name": "ipython",
    "version": 3
   },
   "file_extension": ".py",
   "mimetype": "text/x-python",
   "name": "python",
   "nbconvert_exporter": "python",
   "pygments_lexer": "ipython3",
   "version": "3.11.5"
  },
  "papermill": {
   "default_parameters": {},
   "duration": 58.422367,
   "end_time": "2023-03-20T12:00:47.449315",
   "environment_variables": {},
   "exception": null,
   "input_path": "__notebook__.ipynb",
   "output_path": "__notebook__.ipynb",
   "parameters": {},
   "start_time": "2023-03-20T11:59:49.026948",
   "version": "2.4.0"
  }
 },
 "nbformat": 4,
 "nbformat_minor": 5
}
